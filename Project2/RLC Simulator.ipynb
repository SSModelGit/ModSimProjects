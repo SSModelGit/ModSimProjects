{
 "cells": [
  {
   "cell_type": "markdown",
   "metadata": {},
   "source": [
    "# RLC Circuit Simulator\n",
    "By: Michael Remley and Shashank Swaminathan\n",
    "\n",
    "Simulates the effect of an inductor in series with a capacitor and resistor in parallel on a rectified waveform input."
   ]
  },
  {
   "cell_type": "code",
   "execution_count": 1,
   "metadata": {},
   "outputs": [],
   "source": [
    "# Configure Jupyter so figures appear in the notebook\n",
    "%matplotlib inline\n",
    "\n",
    "# Configure Jupyter to display the assigned value after an assignment\n",
    "%config InteractiveShell.ast_node_interactivity='last_expr_or_assign'\n",
    "\n",
    "# import functions from the modsim.py module\n",
    "from modsim import *"
   ]
  },
  {
   "cell_type": "code",
   "execution_count": 2,
   "metadata": {},
   "outputs": [],
   "source": [
    "def make_system(params,t_0,t_end, supply_func):\n",
    "    \"\"\"Make a system object for the RLEV model.\n",
    "    \n",
    "    params(R, L, C): Circuit component values\n",
    "    \n",
    "    t_0: Beginning time in seconds\n",
    "    t_end: Ending time in seconds\n",
    "    \n",
    "    returns: System object\n",
    "    \"\"\"\n",
    "    # Start with initial zero conditions\n",
    "    init = State(Vout=0,dVoutdt=0)\n",
    "    \n",
    "    #Get our input waveform function\n",
    "    Vin = supply_func\n",
    "    \n",
    "    #Get our parameters\n",
    "    R,L,C = params    \n",
    "\n",
    "    return System(R=R, L=L, C=C, Vin = Vin,\n",
    "                  t_0=t_0, t_end=t_end, init=init)"
   ]
  },
  {
   "cell_type": "code",
   "execution_count": 3,
   "metadata": {},
   "outputs": [],
   "source": [
    "def v_source_func(omega = 1, A = 1, phi = 0):\n",
    "    \"\"\"\n",
    "    Defines the source voltage function as a sinusoidal wave changing with respect to time\n",
    "    Parameters:\n",
    "        t: Single value representing time, or array of time steps\n",
    "        A: Amplitude of the sine wave, assumed equal to 1\n",
    "        phi: Phase shift of the wave, assumed equal to 0\n",
    "    Returns:\n",
    "        The function of a standard sine wave A*sin(w*t+phi) with the given parameters\n",
    "    \"\"\"\n",
    "    def v_source(t, omega = omega, A = A, phi = phi):\n",
    "        return A * np.sin(omega * 6.28 * t + phi)\n",
    "    \n",
    "    return v_source"
   ]
  },
  {
   "cell_type": "code",
   "execution_count": 4,
   "metadata": {},
   "outputs": [],
   "source": [
    "def slope_func(state, t, system):\n",
    "    \"\"\"Calculate the slopes.\n",
    "    \n",
    "    state: State (Vout, dVoutdt)\n",
    "    t: time\n",
    "    system: System object\n",
    "    \n",
    "    returns: State (dVoutdt, d2Voutdt2)\n",
    "    \"\"\"\n",
    "    #Get local variables\n",
    "    Vout, dVoutdt = state\n",
    "    unpack(system)\n",
    "    \n",
    "    #Calculate slopes according to our equations\n",
    "    d2Voutdt2 = 1/(L*C) * (abs(Vin(t)) - (L/R)*dVoutdt - Vout)\n",
    "    dVoutdt = (R/L) * (abs(Vin(t)) - (L*C)*d2Voutdt2 - Vout)\n",
    "    \n",
    "    return dVoutdt, d2Voutdt2"
   ]
  },
  {
   "cell_type": "code",
   "execution_count": 9,
   "metadata": {},
   "outputs": [
    {
     "name": "stdout",
     "output_type": "stream",
     "text": [
      "Wall time: 3min 42s\n"
     ]
    },
    {
     "data": {
      "text/plain": [
       "'The solver successfully reached the end of the integration interval.'"
      ]
     },
     "execution_count": 9,
     "metadata": {},
     "output_type": "execute_result"
    }
   ],
   "source": [
    "# Set paramters\n",
    "params = Params(R=1,L=1,C=1)\n",
    "# Make the system\n",
    "system = make_system(params,0,15,v_source_func(60,170,0))\n",
    "# Run the simulation and display the time taken and success\n",
    "%time results, details = run_ode_solver(system,slope_func,max_step=1e-4);\n",
    "details.message"
   ]
  },
  {
   "cell_type": "code",
   "execution_count": 10,
   "metadata": {},
   "outputs": [
    {
     "data": {
      "text/plain": [
       "<matplotlib.axes._subplots.AxesSubplot at 0x1a1ed200b38>"
      ]
     },
     "execution_count": 10,
     "metadata": {},
     "output_type": "execute_result"
    },
    {
     "data": {
      "image/png": "[encoded data removed]",
      "text/plain": [
       "<Figure size 432x288 with 1 Axes>"
      ]
     },
     "metadata": {
      "needs_background": "light"
     },
     "output_type": "display_data"
    }
   ],
   "source": [
    "results.Vout.plot()"
   ]
  },
  {
   "cell_type": "code",
   "execution_count": null,
   "metadata": {},
   "outputs": [],
   "source": []
  }
 ],
 "metadata": {
  "kernelspec": {
   "display_name": "Python 3",
   "language": "python",
   "name": "python3"
  },
  "language_info": {
   "codemirror_mode": {
    "name": "ipython",
    "version": 3
   },
   "file_extension": ".py",
   "mimetype": "text/x-python",
   "name": "python",
   "nbconvert_exporter": "python",
   "pygments_lexer": "ipython3",
   "version": "3.6.6"
  }
 },
 "nbformat": 4,
 "nbformat_minor": 2
}
