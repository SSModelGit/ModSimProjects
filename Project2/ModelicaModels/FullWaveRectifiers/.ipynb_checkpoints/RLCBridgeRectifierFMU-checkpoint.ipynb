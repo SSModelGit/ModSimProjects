{
 "metadata": {
  "name": "",
  "signature": "sha256:ad71425dff167de93cd01825e1cbfdbf584b3a4619aacf7e8cacb0aa7ccfa094"
 },
 "nbformat": 3,
 "nbformat_minor": 0,
 "worksheets": [
  {
   "cells": [
    {
     "cell_type": "code",
     "collapsed": false,
     "input": [
      "import matplotlib.pyplot as plt\n",
      "import numpy as np\n",
      "import pandas as pd\n",
      "from pyfmi import load_fmu\n",
      "import scipy.signal as sigw"
     ],
     "language": "python",
     "metadata": {},
     "outputs": [],
     "prompt_number": 24
    },
    {
     "cell_type": "code",
     "collapsed": false,
     "input": [
      "%matplotlib inline"
     ],
     "language": "python",
     "metadata": {},
     "outputs": [],
     "prompt_number": 2
    },
    {
     "cell_type": "code",
     "collapsed": false,
     "input": [
      "mmodel = load_fmu('/home/sswaminathan/olin_share/ModSim/ModSimProjects/Project2/' + \\\n",
      "                  'ModelicaModels/FullWaveRectifiers/./ModelicaModels_FullWaveRectifiers_RLCBridgeRectifier.fmu')"
     ],
     "language": "python",
     "metadata": {},
     "outputs": [],
     "prompt_number": 3
    },
    {
     "cell_type": "code",
     "collapsed": false,
     "input": [
      "mmodel.set('load.R', 1000)"
     ],
     "language": "python",
     "metadata": {},
     "outputs": [],
     "prompt_number": 4
    },
    {
     "cell_type": "code",
     "collapsed": false,
     "input": [
      "mmodel.set('capacitor.C', 0.011)"
     ],
     "language": "python",
     "metadata": {},
     "outputs": [],
     "prompt_number": 5
    },
    {
     "cell_type": "code",
     "collapsed": false,
     "input": [
      "res = mmodel.simulate(final_time=10)"
     ],
     "language": "python",
     "metadata": {},
     "outputs": [
      {
       "output_type": "stream",
       "stream": "stdout",
       "text": [
        "Final Run Statistics: --- \n",
        "\n",
        " Number of steps                                 : 18401\n",
        " Number of function evaluations                  : 26974\n",
        " Number of Jacobian evaluations                  : 481\n",
        " Number of function eval. due to Jacobian eval.  : 962\n",
        " Number of error test failures                   : 1219\n",
        " Number of nonlinear iterations                  : 25901\n",
        " Number of nonlinear convergence failures        : 0\n",
        " Number of state function evaluations            : 21977\n",
        " Number of state events                          : 301\n",
        "\n",
        "Solver options:\n",
        "\n",
        " Solver                   : CVode\n",
        " Linear multistep method  : BDF\n",
        " Nonlinear solver         : Newton\n",
        " Linear solver type       : DENSE\n",
        " Maximal order            : 5\n",
        " Tolerances (absolute)    : 1e-08\n",
        " Tolerances (relative)    : 1e-06\n",
        "\n",
        "Simulation interval    : 0.0 - 10.0 seconds.\n",
        "Elapsed simulation time: 1.72023510933 seconds.\n"
       ]
      }
     ],
     "prompt_number": 6
    },
    {
     "cell_type": "code",
     "collapsed": false,
     "input": [
      "v_c = pd.Series(res['capacitor.v'], index=res['time'])"
     ],
     "language": "python",
     "metadata": {},
     "outputs": [],
     "prompt_number": 7
    },
    {
     "cell_type": "code",
     "collapsed": false,
     "input": [
      "v_c.plot()"
     ],
     "language": "python",
     "metadata": {},
     "outputs": [
      {
       "metadata": {},
       "output_type": "pyout",
       "prompt_number": 8,
       "text": [
        "<matplotlib.axes._subplots.AxesSubplot at 0x7f613d664390>"
       ]
      },
      {
       "metadata": {},
       "output_type": "display_data",
       "png": "[encoded data removed]",
       "text": [
        "<matplotlib.figure.Figure at 0x7f617813c790>"
       ]
      }
     ],
     "prompt_number": 8
    },
    {
     "cell_type": "code",
     "collapsed": false,
     "input": [
      "def run_FMU(R, L, C):\n",
      "    \"\"\"\n",
      "    Runs the Modelica model code.CircuitModels.RectifierModels.FullBridgeRectifier\n",
      "    Takes L and C as inputs for the inductance and capacitance of the rectifier\n",
      "    \"\"\"\n",
      "    mmodel = load_fmu('/home/sswaminathan/olin_share/ModSim/ModSimProjects/Project2/' + \\\n",
      "                      'ModelicaModels/FullWaveRectifiers/./ModelicaModels_FullWaveRectifiers_RLCBridgeRectifier.fmu')\n",
      "    mmodel.set('load.R', R)\n",
      "    mmodel.set('inductor.L', L)\n",
      "    mmodel.set('capacitor.C', C)\n",
      "    return mmodel.simulate(final_time = 10)"
     ],
     "language": "python",
     "metadata": {},
     "outputs": [],
     "prompt_number": 9
    },
    {
     "cell_type": "code",
     "collapsed": false,
     "input": [
      "help(run_FMU)"
     ],
     "language": "python",
     "metadata": {},
     "outputs": [
      {
       "output_type": "stream",
       "stream": "stdout",
       "text": [
        "Help on function run_FMU in module __main__:\n",
        "\n",
        "run_FMU(R, L, C)\n",
        "    Runs the Modelica model code.CircuitModels.RectifierModels.FullBridgeRectifier\n",
        "    Takes L and C as inputs for the inductance and capacitance of the rectifier\n",
        "\n"
       ]
      }
     ],
     "prompt_number": 10
    },
    {
     "cell_type": "code",
     "collapsed": false,
     "input": [
      "res = run_FMU(1000, 0.03, 0.022)"
     ],
     "language": "python",
     "metadata": {},
     "outputs": [
      {
       "output_type": "stream",
       "stream": "stdout",
       "text": [
        "Final Run Statistics: --- \n",
        "\n",
        " Number of steps                                 : 2203\n",
        " Number of function evaluations                  : 3214\n",
        " Number of Jacobian evaluations                  : 66\n",
        " Number of function eval. due to Jacobian eval.  : 132\n",
        " Number of error test failures                   : 143\n",
        " Number of nonlinear iterations                  : 3039\n",
        " Number of nonlinear convergence failures        : 0\n",
        " Number of state function evaluations            : 2733\n",
        " Number of state events                          : 46\n",
        "\n",
        "Solver options:\n",
        "\n",
        " Solver                   : CVode\n",
        " Linear multistep method  : BDF\n",
        " Nonlinear solver         : Newton\n",
        " Linear solver type       : DENSE\n",
        " Maximal order            : 5\n",
        " Tolerances (absolute)    : 1e-08\n",
        " Tolerances (relative)    : 1e-06\n",
        "\n",
        "Simulation interval    : 0.0 - 10.0 seconds.\n",
        "Elapsed simulation time: 0.243208169937 seconds.\n"
       ]
      }
     ],
     "prompt_number": 11
    },
    {
     "cell_type": "code",
     "collapsed": false,
     "input": [
      "v_c = pd.Series(res['capacitor.v'], index=res['time'])\n",
      "v_c.plot()"
     ],
     "language": "python",
     "metadata": {},
     "outputs": [
      {
       "metadata": {},
       "output_type": "pyout",
       "prompt_number": 12,
       "text": [
        "<matplotlib.axes._subplots.AxesSubplot at 0x7f613d60e9d0>"
       ]
      },
      {
       "metadata": {},
       "output_type": "display_data",
       "png": "[encoded data removed]",
       "text": [
        "<matplotlib.figure.Figure at 0x7f613d61a9d0>"
       ]
      }
     ],
     "prompt_number": 12
    },
    {
     "cell_type": "code",
     "collapsed": false,
     "input": [
      "def fmu_sweep(L_range, C_range):\n",
      "    results = pd.DataFrame(index = l_range, columns = c_range)\n",
      "    for l in L_range:\n",
      "        for c in C_range:\n",
      "            output = run_FMU(1000, l, c)\n",
      "            results[c][l] = pd.Series(output['capacitor.v'], index=output['time'])\n",
      "    return results"
     ],
     "language": "python",
     "metadata": {},
     "outputs": [],
     "prompt_number": 13
    },
    {
     "cell_type": "markdown",
     "metadata": {},
     "source": [
      "# Input RLC Bridge Rectifier FMU use"
     ]
    },
    {
     "cell_type": "code",
     "collapsed": false,
     "input": [
      "def v_source_func(wave_type = \"sine\", frequency = 1, A_rms = 1, phi = 0):\n",
      "    \"\"\"\n",
      "    Defines the source voltage function as a sinusoidal wave changing with respect to time\n",
      "    Parameters:\n",
      "        wave_type: Type of waveform profile desired for source voltage function\n",
      "        frequency: Frequency of wave in Hz\n",
      "        A_rms: RMS Amplitude of source voltage wave, in V\n",
      "        phi: Phase shift for source voltage wave - only used for sine wave - in radians\n",
      "    Returns:\n",
      "        Source voltage function of general form A*wave(w*t), adhering to the provided parameters\n",
      "    \"\"\"\n",
      "    \n",
      "    def v_sine(t, omega = 2 * np.pi * frequency, A = A_rms / np.sqrt(2), phi = phi):\n",
      "        \"\"\"\n",
      "        Return a sine wave with passed frequency (Hz) and amplitude (Volts)\n",
      "        Parameters:\n",
      "            t: Single value representing time, or array of time steps\n",
      "            A: Amplitude of the sine wave, assumed equal to 1 V\n",
      "            omega: Frequency of the sine wave, assumed equal to 1 Hz\n",
      "            phi: Phase shift of the wave, assumed equal to 0\n",
      "        Returns:\n",
      "            The function of a standard sine wave A*sin(w*t+phi) with the given parameters\n",
      "        \"\"\"\n",
      "        return A * np.sin(omega * t + phi)\n",
      "\n",
      "    def v_square(t, omega = 2 * np.pi * frequency, A = A_rms / 1):\n",
      "        \"\"\"\n",
      "        Return a square wave with passed frequency (Hz) and amplitude (Volts)\n",
      "            t: Single value representing time, or array of time steps\n",
      "            A: Amplitude of the square wave, assumed equal to 1 V\n",
      "            omega: Frequency of the square wave, assumed equal to 1 Hz\n",
      "        Returns:\n",
      "            The function of a standard square wave A*square(w*t) with the given parameters\n",
      "        \"\"\"\n",
      "        return A * sigw.square(omega * t)\n",
      "\n",
      "    def v_sawtooth(t, omega = 2 * np.pi * frequency, A = A_rms / np.sqrt(3)):\n",
      "        \"\"\"\n",
      "        Return a sawtooth wave with passed frequency (Hz) and amplitude (Volts)\n",
      "            t: Single value representing time, or array of time steps\n",
      "            A: Amplitude of the sawtooth wave, assumed equal to 1 V\n",
      "            omega: Frequency of the sawtooth wave, assumed equal to 1 Hz\n",
      "        Returns:\n",
      "            The function of a standard sawtooth wave A*sawtooth(w*t) with the given parameters\n",
      "        \"\"\"\n",
      "        return A * sigw.sawtooth(omega * t)\n",
      "\n",
      "    def v_triangle(t, omega = 2 * np.pi * frequency, A = A_rms / np.sqrt(3)):\n",
      "        \"\"\"\n",
      "        Return a triangle wave with passed frequency (Hz) and amplitude (Volts)\n",
      "            t: Single value representing time, or array of time steps\n",
      "            A: Amplitude of the triangle wave, assumed equal to 1 V\n",
      "            omega: Frequency of the triangle wave, assumed equal to 1 Hz\n",
      "        Returns:\n",
      "            The function of a standard triangle wave A*triangle(w*t) with the given parameters\n",
      "        \"\"\"\n",
      "        return A * sigw.sawtooth(omega * t,0.5)\n",
      "    \n",
      "    waveforms = {\"sine\":v_sine, \"square\":v_square, \"sawtooth\":v_sawtooth, \"triangle\":v_triangle}\n",
      "    \n",
      "    try:\n",
      "        return waveforms[wave_type]\n",
      "    except:\n",
      "        print('Argument error. Specifiy either sine, square, triangle, or sawtooth.')"
     ],
     "language": "python",
     "metadata": {},
     "outputs": [],
     "prompt_number": 3
    },
    {
     "cell_type": "code",
     "collapsed": false,
     "input": [
      "def run_input_FMU(waveform, t_end, R = 1, L = 1, C = 1):\n",
      "    \"\"\"\n",
      "    Runs the Modelica model ModelicaModels.FullWaveRectifiers.InputRLCBridgeRectifier\n",
      "    Takes R, L, and C as inputs for the load resistance, inductance, and capacitance of the rectifier\n",
      "    \"\"\"\n",
      "    mmodel = load_fmu('/home/sswaminathan/olin_share/ModSim/ModSimProjects/Project2/' + \\\n",
      "                      'ModelicaModels/FullWaveRectifiers/./ModelicaModels_FullWaveRectifiers_InputRLCBridgeRectifier.fmu')\n",
      "    mmodel.set('load.R', R)\n",
      "    mmodel.set('inductor.L', L)\n",
      "    mmodel.set('capacitor.C', C)\n",
      "    \n",
      "    v_s = v_source_func(wave_type = waveform, frequency = 60, A_rms = 120, phi = 0)\n",
      "    input_object = ('u', v_s)\n",
      "    \n",
      "    res = mmodel.simulate(final_time = t_end, input=input_object)\n",
      "    \n",
      "    v_c = pd.Series(res['capacitor.v'], index=res['time'])\n",
      "    i = pd.Series(res['inductor.i'], index=res['time'])\n",
      "    \n",
      "    return v_c, i"
     ],
     "language": "python",
     "metadata": {},
     "outputs": [],
     "prompt_number": 66
    },
    {
     "cell_type": "code",
     "collapsed": false,
     "input": [
      "def simulate_FMU(input_waveforms, t_end = 10, R = 1, L = 1, C = 1):\n",
      "    \n",
      "    # Define output DataFrame object\n",
      "    output = pd.DataFrame(index = input_waveforms, columns = ['Vout', 'I'])\n",
      "    \n",
      "    # Create convenience variable for properly labeling the output\n",
      "    iw_label_no = pd.Series(np.linspace(0, len(input_waveforms)-1, len(input_waveforms), dtype = int),\n",
      "                            index = input_waveforms)\n",
      "    \n",
      "    for i in input_waveforms:\n",
      "        # Run the simulation and display the time taken and success\n",
      "        output.iloc[iw_label_no[i]] = run_input_FMU(i, t_end = t_end, R=R, L=L, C=C);\n",
      "    return output"
     ],
     "language": "python",
     "metadata": {},
     "outputs": [],
     "prompt_number": 67
    },
    {
     "cell_type": "code",
     "collapsed": false,
     "input": [
      "def plot_results(results):\n",
      "    \"\"\"\n",
      "    Plot results provided. Assumes that there only two state variables in model system.\n",
      "    Parameter:\n",
      "        results: Simulation results. Follows type returned by run_simulation\n",
      "    Returns:\n",
      "        None\n",
      "    Plots:\n",
      "        Two graphs, for each state. Plots results from each waveform run on same graph per state.\n",
      "    \"\"\"\n",
      "    \n",
      "    # Plot data\n",
      "    for i in np.linspace(0,len(responses)-1, len(responses), dtype=int):\n",
      "        plt.figure(1)\n",
      "        responses.iloc[i][0].plot()\n",
      "        \n",
      "        plt.figure(2)\n",
      "        responses.iloc[i][1].plot()\n",
      "        \n",
      "    # Extract name of first and second states\n",
      "    first_state_name = \"Vout\"\n",
      "    second_state_name = \"I\"\n",
      "    \n",
      "    # Label graph of first state\n",
      "    plt.figure(1)\n",
      "    plt.title(\"Comparison of \" + first_state_name + \"'s transient response over time\")\n",
      "    plt.ylabel(first_state_name)\n",
      "    plt.xlabel('Time (s)')\n",
      "    plt.legend(results.index)\n",
      "    \n",
      "    # Label graph of second state\n",
      "    plt.figure(2)\n",
      "    plt.title(\"Comparison of \" + second_state_name + \"'s transient response over time\")\n",
      "    plt.ylabel(second_state_name)\n",
      "    plt.xlabel('Time (s)')\n",
      "    plt.legend(results.index)"
     ],
     "language": "python",
     "metadata": {},
     "outputs": [],
     "prompt_number": 68
    },
    {
     "cell_type": "code",
     "collapsed": false,
     "input": [
      "input_waveforms = [\"sine\", \"square\", \"sawtooth\", \"triangle\"]\n",
      "responses = simulate_FMU(input_waveforms)"
     ],
     "language": "python",
     "metadata": {},
     "outputs": [
      {
       "output_type": "stream",
       "stream": "stdout",
       "text": [
        "Final Run Statistics: --- \n",
        "\n",
        " Number of steps                                 : 35769\n",
        " Number of function evaluations                  : 64242\n",
        " Number of Jacobian evaluations                  : 2402\n",
        " Number of function eval. due to Jacobian eval.  : 4804\n",
        " Number of error test failures                   : 4334\n",
        " Number of nonlinear iterations                  : 54639\n",
        " Number of nonlinear convergence failures        : 0\n",
        " Number of state function evaluations            : 56184\n",
        " Number of state events                          : 2400\n",
        "\n",
        "Solver options:\n",
        "\n",
        " Solver                   : CVode\n",
        " Linear multistep method  : BDF\n",
        " Nonlinear solver         : Newton\n",
        " Linear solver type       : DENSE\n",
        " Maximal order            : 5\n",
        " Tolerances (absolute)    : 1e-08\n",
        " Tolerances (relative)    : 1e-06\n",
        "\n",
        "Simulation interval    : 0.0 - 10.0 seconds.\n",
        "Elapsed simulation time: 6.0261118412 seconds.\n",
        "Final Run Statistics: --- "
       ]
      },
      {
       "output_type": "stream",
       "stream": "stdout",
       "text": [
        "\n",
        "\n",
        " Number of steps                                 : 16110\n",
        " Number of function evaluations                  : 44798\n",
        " Number of Jacobian evaluations                  : 1038\n",
        " Number of function eval. due to Jacobian eval.  : 2076\n",
        " Number of error test failures                   : 10994\n",
        " Number of nonlinear iterations                  : 40445\n",
        " Number of nonlinear convergence failures        : 0\n",
        " Number of state function evaluations            : 45207\n",
        " Number of state events                          : 1037\n",
        "\n",
        "Solver options:\n",
        "\n",
        " Solver                   : CVode\n",
        " Linear multistep method  : BDF\n",
        " Nonlinear solver         : Newton\n",
        " Linear solver type       : DENSE\n",
        " Maximal order            : 5\n",
        " Tolerances (absolute)    : 1e-08\n",
        " Tolerances (relative)    : 1e-06\n",
        "\n",
        "Simulation interval    : 0.0 - 10.0 seconds.\n",
        "Elapsed simulation time: 5.44940805435 seconds.\n",
        "Final Run Statistics: --- "
       ]
      },
      {
       "output_type": "stream",
       "stream": "stdout",
       "text": [
        "\n",
        "\n",
        " Number of steps                                 : 20978\n",
        " Number of function evaluations                  : 46799\n",
        " Number of Jacobian evaluations                  : 1800\n",
        " Number of function eval. due to Jacobian eval.  : 3600\n",
        " Number of error test failures                   : 6324\n",
        " Number of nonlinear iterations                  : 39599\n",
        " Number of nonlinear convergence failures        : 0\n",
        " Number of state function evaluations            : 49680\n",
        " Number of state events                          : 1799\n",
        "\n",
        "Solver options:\n",
        "\n",
        " Solver                   : CVode\n",
        " Linear multistep method  : BDF\n",
        " Nonlinear solver         : Newton\n",
        " Linear solver type       : DENSE\n",
        " Maximal order            : 5\n",
        " Tolerances (absolute)    : 1e-08\n",
        " Tolerances (relative)    : 1e-06\n",
        "\n",
        "Simulation interval    : 0.0 - 10.0 seconds.\n",
        "Elapsed simulation time: 8.80845308304 seconds.\n",
        " Integrator time: 8.853567e+00"
       ]
      },
      {
       "output_type": "stream",
       "stream": "stdout",
       "text": [
        "\r"
       ]
      },
      {
       "output_type": "stream",
       "stream": "stdout",
       "text": [
        "Final Run Statistics: --- \n",
        "\n",
        " Number of steps                                 : 32514\n",
        " Number of function evaluations                  : 60861\n",
        " Number of Jacobian evaluations                  : 2402\n",
        " Number of function eval. due to Jacobian eval.  : 4804\n",
        " Number of error test failures                   : 5549\n",
        " Number of nonlinear iterations                  : 51257\n",
        " Number of nonlinear convergence failures        : 0\n",
        " Number of state function evaluations            : 56042\n",
        " Number of state events                          : 2400\n",
        "\n",
        "Solver options:\n",
        "\n",
        " Solver                   : CVode\n",
        " Linear multistep method  : BDF\n",
        " Nonlinear solver         : Newton\n",
        " Linear solver type       : DENSE\n",
        " Maximal order            : 5\n",
        " Tolerances (absolute)    : 1e-08\n",
        " Tolerances (relative)    : 1e-06\n",
        "\n",
        "Simulation interval    : 0.0 - 10.0 seconds.\n",
        "Elapsed simulation time: 11.2859771252 seconds.\n"
       ]
      }
     ],
     "prompt_number": 69
    },
    {
     "cell_type": "code",
     "collapsed": false,
     "input": [
      "plot_results(responses)"
     ],
     "language": "python",
     "metadata": {},
     "outputs": [
      {
       "metadata": {},
       "output_type": "display_data",
       "png": "[encoded data removed]",
       "text": [
        "<matplotlib.figure.Figure at 0x7f8379ff2910>"
       ]
      },
      {
       "metadata": {},
       "output_type": "display_data",
       "png": "[encoded data removed]",
       "text": [
        "<matplotlib.figure.Figure at 0x7f8377204690>"
       ]
      }
     ],
     "prompt_number": 70
    }
   ],
   "metadata": {}
  }
 ]
}