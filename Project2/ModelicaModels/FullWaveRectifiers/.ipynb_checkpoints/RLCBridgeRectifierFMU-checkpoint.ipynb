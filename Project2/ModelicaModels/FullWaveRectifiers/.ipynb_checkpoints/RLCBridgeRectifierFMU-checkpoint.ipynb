{
 "metadata": {
  "name": "",
  "signature": "sha256:675f558933a153da745f95be5f449cefb8a6ce6da01b69fb329ddc0a79fe5a81"
 },
 "nbformat": 3,
 "nbformat_minor": 0,
 "worksheets": [
  {
   "cells": [
    {
     "cell_type": "code",
     "collapsed": false,
     "input": [
      "import matplotlib.pyplot as plt\n",
      "import numpy as np\n",
      "import pandas as pd\n",
      "from pyfmi import load_fmu"
     ],
     "language": "python",
     "metadata": {},
     "outputs": [],
     "prompt_number": 1
    },
    {
     "cell_type": "code",
     "collapsed": false,
     "input": [
      "%matplotlib inline"
     ],
     "language": "python",
     "metadata": {},
     "outputs": [],
     "prompt_number": 2
    },
    {
     "cell_type": "code",
     "collapsed": false,
     "input": [
      "mmodel = load_fmu('/home/sswaminathan/olin_share/ModSim/ModSimProjects/Project2/' + \\\n",
      "                  'ModelicaModels/FullWaveRectifiers/./ModelicaModels_FullWaveRectifiers_RLCBridgeRectifier.fmu')"
     ],
     "language": "python",
     "metadata": {},
     "outputs": [],
     "prompt_number": 3
    },
    {
     "cell_type": "code",
     "collapsed": false,
     "input": [
      "mmodel.set('load.R', 1000)"
     ],
     "language": "python",
     "metadata": {},
     "outputs": [],
     "prompt_number": 4
    },
    {
     "cell_type": "code",
     "collapsed": false,
     "input": [
      "mmodel.set('capacitor.C', 0.011)"
     ],
     "language": "python",
     "metadata": {},
     "outputs": [],
     "prompt_number": 5
    },
    {
     "cell_type": "code",
     "collapsed": false,
     "input": [
      "res = mmodel.simulate(final_time=10)"
     ],
     "language": "python",
     "metadata": {},
     "outputs": [
      {
       "output_type": "stream",
       "stream": "stdout",
       "text": [
        "Final Run Statistics: --- \n",
        "\n",
        " Number of steps                                 : 18401\n",
        " Number of function evaluations                  : 26974\n",
        " Number of Jacobian evaluations                  : 481\n",
        " Number of function eval. due to Jacobian eval.  : 962\n",
        " Number of error test failures                   : 1219\n",
        " Number of nonlinear iterations                  : 25901\n",
        " Number of nonlinear convergence failures        : 0\n",
        " Number of state function evaluations            : 21977\n",
        " Number of state events                          : 301\n",
        "\n",
        "Solver options:\n",
        "\n",
        " Solver                   : CVode\n",
        " Linear multistep method  : BDF\n",
        " Nonlinear solver         : Newton\n",
        " Linear solver type       : DENSE\n",
        " Maximal order            : 5\n",
        " Tolerances (absolute)    : 1e-08\n",
        " Tolerances (relative)    : 1e-06\n",
        "\n",
        "Simulation interval    : 0.0 - 10.0 seconds.\n",
        "Elapsed simulation time: 1.72023510933 seconds.\n"
       ]
      }
     ],
     "prompt_number": 6
    },
    {
     "cell_type": "code",
     "collapsed": false,
     "input": [
      "v_c = pd.Series(res['capacitor.v'], index=res['time'])"
     ],
     "language": "python",
     "metadata": {},
     "outputs": [],
     "prompt_number": 7
    },
    {
     "cell_type": "code",
     "collapsed": false,
     "input": [
      "v_c.plot()"
     ],
     "language": "python",
     "metadata": {},
     "outputs": [
      {
       "metadata": {},
       "output_type": "pyout",
       "prompt_number": 8,
       "text": [
        "<matplotlib.axes._subplots.AxesSubplot at 0x7f613d664390>"
       ]
      },
      {
       "metadata": {},
       "output_type": "display_data",
       "png": "[encoded data removed]",
       "text": [
        "<matplotlib.figure.Figure at 0x7f617813c790>"
       ]
      }
     ],
     "prompt_number": 8
    },
    {
     "cell_type": "code",
     "collapsed": false,
     "input": [
      "def run_FMU(R, L, C):\n",
      "    \"\"\"\n",
      "    Runs the Modelica model code.CircuitModels.RectifierModels.FullBridgeRectifier\n",
      "    Takes L and C as inputs for the inductance and capacitance of the rectifier\n",
      "    \"\"\"\n",
      "    mmodel = load_fmu('/home/sswaminathan/olin_share/ModSim/ModSimProjects/Project2/' + \\\n",
      "                      'ModelicaModels/FullWaveRectifiers/./ModelicaModels_FullWaveRectifiers_RLCBridgeRectifier.fmu')\n",
      "    mmodel.set('load.R', R)\n",
      "    mmodel.set('inductor.L', L)\n",
      "    mmodel.set('capacitor.C', C)\n",
      "    return mmodel.simulate(final_time = 10)"
     ],
     "language": "python",
     "metadata": {},
     "outputs": [],
     "prompt_number": 9
    },
    {
     "cell_type": "code",
     "collapsed": false,
     "input": [
      "help(run_FMU)"
     ],
     "language": "python",
     "metadata": {},
     "outputs": [
      {
       "output_type": "stream",
       "stream": "stdout",
       "text": [
        "Help on function run_FMU in module __main__:\n",
        "\n",
        "run_FMU(R, L, C)\n",
        "    Runs the Modelica model code.CircuitModels.RectifierModels.FullBridgeRectifier\n",
        "    Takes L and C as inputs for the inductance and capacitance of the rectifier\n",
        "\n"
       ]
      }
     ],
     "prompt_number": 10
    },
    {
     "cell_type": "code",
     "collapsed": false,
     "input": [
      "res = run_FMU(1000, 0.03, 0.022)"
     ],
     "language": "python",
     "metadata": {},
     "outputs": [
      {
       "output_type": "stream",
       "stream": "stdout",
       "text": [
        "Final Run Statistics: --- \n",
        "\n",
        " Number of steps                                 : 2203\n",
        " Number of function evaluations                  : 3214\n",
        " Number of Jacobian evaluations                  : 66\n",
        " Number of function eval. due to Jacobian eval.  : 132\n",
        " Number of error test failures                   : 143\n",
        " Number of nonlinear iterations                  : 3039\n",
        " Number of nonlinear convergence failures        : 0\n",
        " Number of state function evaluations            : 2733\n",
        " Number of state events                          : 46\n",
        "\n",
        "Solver options:\n",
        "\n",
        " Solver                   : CVode\n",
        " Linear multistep method  : BDF\n",
        " Nonlinear solver         : Newton\n",
        " Linear solver type       : DENSE\n",
        " Maximal order            : 5\n",
        " Tolerances (absolute)    : 1e-08\n",
        " Tolerances (relative)    : 1e-06\n",
        "\n",
        "Simulation interval    : 0.0 - 10.0 seconds.\n",
        "Elapsed simulation time: 0.243208169937 seconds.\n"
       ]
      }
     ],
     "prompt_number": 11
    },
    {
     "cell_type": "code",
     "collapsed": false,
     "input": [
      "v_c = pd.Series(res['capacitor.v'], index=res['time'])\n",
      "v_c.plot()"
     ],
     "language": "python",
     "metadata": {},
     "outputs": [
      {
       "metadata": {},
       "output_type": "pyout",
       "prompt_number": 12,
       "text": [
        "<matplotlib.axes._subplots.AxesSubplot at 0x7f613d60e9d0>"
       ]
      },
      {
       "metadata": {},
       "output_type": "display_data",
       "png": "[encoded data removed]",
       "text": [
        "<matplotlib.figure.Figure at 0x7f613d61a9d0>"
       ]
      }
     ],
     "prompt_number": 12
    },
    {
     "cell_type": "code",
     "collapsed": false,
     "input": [
      "def fmu_sweep(L_range, C_range):\n",
      "    results = pd.DataFrame(index = l_range, columns = c_range)\n",
      "    for l in L_range:\n",
      "        for c in C_range:\n",
      "            output = run_FMU(1000, l, c)\n",
      "            results[c][l] = pd.Series(output['capacitor.v'], index=output['time'])\n",
      "    return results"
     ],
     "language": "python",
     "metadata": {},
     "outputs": [],
     "prompt_number": 13
    }
   ],
   "metadata": {}
  }
 ]
}