{
 "cells": [
  {
   "cell_type": "code",
   "execution_count": 1,
   "metadata": {},
   "outputs": [],
   "source": [
    "# Configure Jupyter so figures appear in the notebook\n",
    "%matplotlib inline\n",
    "\n",
    "# Configure Jupyter to display the assigned value after an assignment\n",
    "%config InteractiveShell.ast_node_interactivity='last_expr_or_assign'\n",
    "\n",
    "# import functions from the modsim.py module\n",
    "from modsim import *"
   ]
  },
  {
   "cell_type": "code",
   "execution_count": 2,
   "metadata": {},
   "outputs": [],
   "source": [
    "def v_source_func(wave_type = \"sine\", frequency = 1, A_rms = 1, phi = 0):\n",
    "    \n",
    "    def v_sine(t, omega = 2 * np.pi * frequency, A = A_rms / np.sqrt(2), phi = phi):\n",
    "        \"\"\"\n",
    "        Defines the source voltage function as a sinusoidal wave changing with respect to time\n",
    "        Parameters:\n",
    "            t: Single value representing time, or array of time steps\n",
    "            A: Amplitude of the sine wave, assumed equal to 1 V\n",
    "            omega: Frequency of the sine wave, assumed equal to 1 Hz\n",
    "            phi: Phase shift of the wave, assumed equal to 0\n",
    "        Returns:\n",
    "            The function of a standard sine wave A*sin(w*t+phi) with the given parameters\n",
    "        \"\"\"\n",
    "        return A * np.sin(omega * t + phi)\n",
    "\n",
    "    def v_square(t, omega = 2 * np.pi * frequency, A = A_rms / 1):\n",
    "        \"\"\"\n",
    "        Return a square wave with passed frequency (Hz) and amplitude (Volts)\n",
    "            t: Single value representing time, or array of time steps\n",
    "            A: Amplitude of the square wave, assumed equal to 1 V\n",
    "            omega: Frequency of the square wave, assumed equal to 1 Hz\n",
    "        Returns:\n",
    "            The function of a standard square wave A*square(w*t) with the given parameters\n",
    "        \"\"\"\n",
    "        return A * scipy.signal.square(omega * t)\n",
    "\n",
    "    def v_sawtooth(t, omega = 2 * np.pi * frequency, A = A_rms / np.sqrt(3)):\n",
    "        \"\"\"\n",
    "        Return a sawtooth wave with passed frequency (Hz) and amplitude (Volts)\n",
    "            t: Single value representing time, or array of time steps\n",
    "            A: Amplitude of the sawtooth wave, assumed equal to 1 V\n",
    "            omega: Frequency of the sawtooth wave, assumed equal to 1 Hz\n",
    "        Returns:\n",
    "            The function of a standard sawtooth wave A*sawtooth(w*t) with the given parameters\n",
    "        \"\"\"\n",
    "        return A * scipy.signal.sawtooth(omega * t)\n",
    "\n",
    "    def v_triangle(t, omega = 2 * np.pi * frequency, A = A_rms / np.sqrt(3)):\n",
    "        \"\"\"\n",
    "        Return a triangle wave with passed frequency (Hz) and amplitude (Volts)\n",
    "            t: Single value representing time, or array of time steps\n",
    "            A: Amplitude of the triangle wave, assumed equal to 1 V\n",
    "            omega: Frequency of the triangle wave, assumed equal to 1 Hz\n",
    "        Returns:\n",
    "            The function of a standard triangle wave A*triangle(w*t) with the given parameters\n",
    "        \"\"\"\n",
    "        return A * scipy.signal.sawtooth(omega * t,0.5)\n",
    "    \n",
    "    waveforms = {\"sine\":v_sine, \"square\":v_square, \"sawtooth\":v_sawtooth, \"triangle\":v_triangle}\n",
    "    \n",
    "    try:\n",
    "        return waveforms[wave_type]\n",
    "    except:\n",
    "        print('Argument error. Specifiy either sine, square, triangle, or sawtooth.')"
   ]
  },
  {
   "cell_type": "code",
   "execution_count": 3,
   "metadata": {},
   "outputs": [],
   "source": [
    "def make_system(linearization=\"abstract\", t0=0, t_end=1, waveform=\"sine\"):\n",
    "    \"\"\"\n",
    "    Defines and returns a System object containing the system parameters\n",
    "    Parameters:\n",
    "        linearization: Specify what kind of linearization model will use, to define initial states\n",
    "        t0: Start time of simulation\n",
    "        t_end: End time of simulation\n",
    "        waveform: Type of input voltage waveform\n",
    "    Returns:\n",
    "        init: Initial states of the model\n",
    "            I: Current across bridge - 0 A\n",
    "            V_C: Voltage across capacitor - 0 V at start\n",
    "        v_s: Voltage Source Function with the following characteristics:\n",
    "            Sine Function\n",
    "            Amplitude of 120 V\n",
    "            Frequency of 60 Hz\n",
    "            Phase Shift of 0 radians\n",
    "        R: Load resistance of the RLC bridge\n",
    "        L: Inductance of the RLC bridge\n",
    "        C: Capacitance of the RLC bridge\n",
    "    \"\"\"\n",
    "    if linearization == \"abstract\":\n",
    "        init = State(I = 0, V_C = 0)\n",
    "    else:\n",
    "        init = State(Vout=0,dVoutdt=0)\n",
    "    \n",
    "    return System(init=init, t0 = t0, t_end = t_end, \n",
    "                  v_s = v_source_func(wave_type = waveform, frequency = 60, A_rms = 120, phi = 0), \n",
    "                  L = 1, R = 1, C = 1)"
   ]
  },
  {
   "cell_type": "markdown",
   "metadata": {},
   "source": [
    "# Linearization"
   ]
  },
  {
   "cell_type": "markdown",
   "metadata": {},
   "source": [
    "## Via Abstraction"
   ]
  },
  {
   "cell_type": "code",
   "execution_count": 4,
   "metadata": {},
   "outputs": [],
   "source": [
    "def slope_func_abstract(state, t, system):\n",
    "    \"\"\"\n",
    "    Calculates and returns the differential changes of states at any point in time\n",
    "    Parameters:\n",
    "        state: State object containing values of states at time t\n",
    "        t: Time of simulation\n",
    "        system: System object containing system parameters\n",
    "    Returns:\n",
    "        dIdt: Differential change in current at time t\n",
    "        dVcdt: Differential change in voltage across capacitor at time t\n",
    "    \"\"\"\n",
    "    I, V_C = state\n",
    "    \n",
    "    rectified_V_source = np.abs(system.v_s(t))\n",
    "    \n",
    "    i_load = V_C / system.R\n",
    "    \n",
    "    V_inductor = rectified_V_source - V_C\n",
    "    \n",
    "    if V_inductor > 0:\n",
    "        dIdt = V_inductor / system.L\n",
    "    else:\n",
    "        dIdt = -V_C/system.L\n",
    "    if I < 0 and dIdt < 0:\n",
    "        dIdt = 0\n",
    "        \n",
    "    dVcdt = (I - i_load) / system.C\n",
    "    \n",
    "    return dIdt, dVcdt"
   ]
  },
  {
   "cell_type": "markdown",
   "metadata": {},
   "source": [
    "## Via Analytical Breakdown"
   ]
  },
  {
   "cell_type": "code",
   "execution_count": 5,
   "metadata": {},
   "outputs": [],
   "source": [
    "def slope_func_analytic(state, t, system):\n",
    "    \"\"\"Calculate the slopes.\n",
    "    \n",
    "    state: State (Vout, dVoutdt)\n",
    "    t: time\n",
    "    system: System object\n",
    "    \n",
    "    returns: State (dVoutdt, d2Voutdt2)\n",
    "    \"\"\"\n",
    "    #Get local variables\n",
    "    Vout, dVoutdt = state\n",
    "    unpack(system)\n",
    "    \n",
    "    #Calculate slopes according to our equations\n",
    "    d2Voutdt2 = 1/(L*C) * (abs(Vin(t)) - (L/R)*dVoutdt - Vout)\n",
    "    dVoutdt = (R/L) * (abs(Vin(t)) - (L*C)*d2Voutdt2 - Vout)\n",
    "    \n",
    "    return dVoutdt, d2Voutdt2"
   ]
  },
  {
   "cell_type": "markdown",
   "metadata": {},
   "source": [
    "## Combine different linearizations"
   ]
  },
  {
   "cell_type": "code",
   "execution_count": 6,
   "metadata": {},
   "outputs": [],
   "source": [
    "def slope_function(linearization):\n",
    "    if linearization == \"abstract\":\n",
    "        return slope_func_abstract\n",
    "    else:\n",
    "        return slope_func_analytic"
   ]
  },
  {
   "cell_type": "markdown",
   "metadata": {},
   "source": [
    "# Model Simulation"
   ]
  },
  {
   "cell_type": "code",
   "execution_count": 7,
   "metadata": {},
   "outputs": [],
   "source": [
    "def run_simulation(input_waveforms, linearization):\n",
    "    \n",
    "    # Create slope function\n",
    "    slope_func = slope_function(linearization)\n",
    "    \n",
    "    for i in input_waveforms:\n",
    "        # Make the system\n",
    "        system = make_system(linearization,0,15,i)\n",
    "\n",
    "        # Run the simulation and display the time taken and success\n",
    "        results, details = run_ode_solver(system,slope_func,max_step=1e-4);\n",
    "        results.Vout.plot()"
   ]
  },
  {
   "cell_type": "code",
   "execution_count": 8,
   "metadata": {},
   "outputs": [
    {
     "ename": "KeyboardInterrupt",
     "evalue": "",
     "output_type": "error",
     "traceback": [
      "\u001b[0;31m---------------------------------------------------------------------------\u001b[0m",
      "\u001b[0;31mKeyboardInterrupt\u001b[0m                         Traceback (most recent call last)",
      "\u001b[0;32m<ipython-input-8-dbe557371254>\u001b[0m in \u001b[0;36m<module>\u001b[0;34m()\u001b[0m\n\u001b[1;32m      1\u001b[0m \u001b[0minput_waveforms\u001b[0m \u001b[0;34m=\u001b[0m \u001b[0;34m[\u001b[0m\u001b[0;34m\"sine\"\u001b[0m\u001b[0;34m,\u001b[0m \u001b[0;34m\"square\"\u001b[0m\u001b[0;34m,\u001b[0m \u001b[0;34m\"sawtooth\"\u001b[0m\u001b[0;34m,\u001b[0m \u001b[0;34m\"triangle\"\u001b[0m\u001b[0;34m]\u001b[0m\u001b[0;34m\u001b[0m\u001b[0m\n\u001b[0;32m----> 2\u001b[0;31m \u001b[0mrun_simulation\u001b[0m\u001b[0;34m(\u001b[0m\u001b[0minput_waveforms\u001b[0m\u001b[0;34m,\u001b[0m \u001b[0mlinearization\u001b[0m\u001b[0;34m=\u001b[0m\u001b[0;34m\"abstract\"\u001b[0m\u001b[0;34m)\u001b[0m\u001b[0;34m\u001b[0m\u001b[0m\n\u001b[0m",
      "\u001b[0;32m<ipython-input-7-71b0b6a086bf>\u001b[0m in \u001b[0;36mrun_simulation\u001b[0;34m(input_waveforms, linearization)\u001b[0m\n\u001b[1;32m      9\u001b[0m \u001b[0;34m\u001b[0m\u001b[0m\n\u001b[1;32m     10\u001b[0m         \u001b[0;31m# Run the simulation and display the time taken and success\u001b[0m\u001b[0;34m\u001b[0m\u001b[0;34m\u001b[0m\u001b[0m\n\u001b[0;32m---> 11\u001b[0;31m         \u001b[0mresults\u001b[0m\u001b[0;34m,\u001b[0m \u001b[0mdetails\u001b[0m \u001b[0;34m=\u001b[0m \u001b[0mrun_ode_solver\u001b[0m\u001b[0;34m(\u001b[0m\u001b[0msystem\u001b[0m\u001b[0;34m,\u001b[0m\u001b[0mslope_func\u001b[0m\u001b[0;34m,\u001b[0m\u001b[0mmax_step\u001b[0m\u001b[0;34m=\u001b[0m\u001b[0;36m1e-4\u001b[0m\u001b[0;34m)\u001b[0m\u001b[0;34m;\u001b[0m\u001b[0;34m\u001b[0m\u001b[0m\n\u001b[0m\u001b[1;32m     12\u001b[0m         \u001b[0mresults\u001b[0m\u001b[0;34m.\u001b[0m\u001b[0mVout\u001b[0m\u001b[0;34m.\u001b[0m\u001b[0mplot\u001b[0m\u001b[0;34m(\u001b[0m\u001b[0;34m)\u001b[0m\u001b[0;34m\u001b[0m\u001b[0m\n",
      "\u001b[0;32m~/olin_share/ModSim/ModSimProjects/Project2/modsim.py\u001b[0m in \u001b[0;36mrun_ode_solver\u001b[0;34m(system, slope_func, **options)\u001b[0m\n\u001b[1;32m    495\u001b[0m     \u001b[0;31m# run the solver\u001b[0m\u001b[0;34m\u001b[0m\u001b[0;34m\u001b[0m\u001b[0m\n\u001b[1;32m    496\u001b[0m     \u001b[0;32mwith\u001b[0m \u001b[0munits_off\u001b[0m\u001b[0;34m(\u001b[0m\u001b[0;34m)\u001b[0m\u001b[0;34m:\u001b[0m\u001b[0;34m\u001b[0m\u001b[0m\n\u001b[0;32m--> 497\u001b[0;31m         \u001b[0mbunch\u001b[0m \u001b[0;34m=\u001b[0m \u001b[0msolve_ivp\u001b[0m\u001b[0;34m(\u001b[0m\u001b[0mf\u001b[0m\u001b[0;34m,\u001b[0m \u001b[0;34m[\u001b[0m\u001b[0mt_0\u001b[0m\u001b[0;34m,\u001b[0m \u001b[0mt_end\u001b[0m\u001b[0;34m]\u001b[0m\u001b[0;34m,\u001b[0m \u001b[0my_0\u001b[0m\u001b[0;34m,\u001b[0m \u001b[0mevents\u001b[0m\u001b[0;34m=\u001b[0m\u001b[0mevents\u001b[0m\u001b[0;34m,\u001b[0m \u001b[0;34m**\u001b[0m\u001b[0moptions\u001b[0m\u001b[0;34m)\u001b[0m\u001b[0;34m\u001b[0m\u001b[0m\n\u001b[0m\u001b[1;32m    498\u001b[0m \u001b[0;34m\u001b[0m\u001b[0m\n\u001b[1;32m    499\u001b[0m     \u001b[0;31m# separate the results from the details\u001b[0m\u001b[0;34m\u001b[0m\u001b[0;34m\u001b[0m\u001b[0m\n",
      "\u001b[0;32m~/miniconda3/lib/python3.6/site-packages/scipy/integrate/_ivp/ivp.py\u001b[0m in \u001b[0;36msolve_ivp\u001b[0;34m(fun, t_span, y0, method, t_eval, dense_output, events, vectorized, **options)\u001b[0m\n\u001b[1;32m    473\u001b[0m     \u001b[0mstatus\u001b[0m \u001b[0;34m=\u001b[0m \u001b[0;32mNone\u001b[0m\u001b[0;34m\u001b[0m\u001b[0m\n\u001b[1;32m    474\u001b[0m     \u001b[0;32mwhile\u001b[0m \u001b[0mstatus\u001b[0m \u001b[0;32mis\u001b[0m \u001b[0;32mNone\u001b[0m\u001b[0;34m:\u001b[0m\u001b[0;34m\u001b[0m\u001b[0m\n\u001b[0;32m--> 475\u001b[0;31m         \u001b[0mmessage\u001b[0m \u001b[0;34m=\u001b[0m \u001b[0msolver\u001b[0m\u001b[0;34m.\u001b[0m\u001b[0mstep\u001b[0m\u001b[0;34m(\u001b[0m\u001b[0;34m)\u001b[0m\u001b[0;34m\u001b[0m\u001b[0m\n\u001b[0m\u001b[1;32m    476\u001b[0m \u001b[0;34m\u001b[0m\u001b[0m\n\u001b[1;32m    477\u001b[0m         \u001b[0;32mif\u001b[0m \u001b[0msolver\u001b[0m\u001b[0;34m.\u001b[0m\u001b[0mstatus\u001b[0m \u001b[0;34m==\u001b[0m \u001b[0;34m'finished'\u001b[0m\u001b[0;34m:\u001b[0m\u001b[0;34m\u001b[0m\u001b[0m\n",
      "\u001b[0;32m~/miniconda3/lib/python3.6/site-packages/scipy/integrate/_ivp/base.py\u001b[0m in \u001b[0;36mstep\u001b[0;34m(self)\u001b[0m\n\u001b[1;32m    180\u001b[0m         \u001b[0;32melse\u001b[0m\u001b[0;34m:\u001b[0m\u001b[0;34m\u001b[0m\u001b[0m\n\u001b[1;32m    181\u001b[0m             \u001b[0mt\u001b[0m \u001b[0;34m=\u001b[0m \u001b[0mself\u001b[0m\u001b[0;34m.\u001b[0m\u001b[0mt\u001b[0m\u001b[0;34m\u001b[0m\u001b[0m\n\u001b[0;32m--> 182\u001b[0;31m             \u001b[0msuccess\u001b[0m\u001b[0;34m,\u001b[0m \u001b[0mmessage\u001b[0m \u001b[0;34m=\u001b[0m \u001b[0mself\u001b[0m\u001b[0;34m.\u001b[0m\u001b[0m_step_impl\u001b[0m\u001b[0;34m(\u001b[0m\u001b[0;34m)\u001b[0m\u001b[0;34m\u001b[0m\u001b[0m\n\u001b[0m\u001b[1;32m    183\u001b[0m \u001b[0;34m\u001b[0m\u001b[0m\n\u001b[1;32m    184\u001b[0m             \u001b[0;32mif\u001b[0m \u001b[0;32mnot\u001b[0m \u001b[0msuccess\u001b[0m\u001b[0;34m:\u001b[0m\u001b[0;34m\u001b[0m\u001b[0m\n",
      "\u001b[0;32m~/miniconda3/lib/python3.6/site-packages/scipy/integrate/_ivp/rk.py\u001b[0m in \u001b[0;36m_step_impl\u001b[0;34m(self)\u001b[0m\n\u001b[1;32m    137\u001b[0m \u001b[0;34m\u001b[0m\u001b[0m\n\u001b[1;32m    138\u001b[0m             y_new, f_new, error = rk_step(self.fun, t, y, self.f, h, self.A,\n\u001b[0;32m--> 139\u001b[0;31m                                           self.B, self.C, self.E, self.K)\n\u001b[0m\u001b[1;32m    140\u001b[0m             \u001b[0mscale\u001b[0m \u001b[0;34m=\u001b[0m \u001b[0matol\u001b[0m \u001b[0;34m+\u001b[0m \u001b[0mnp\u001b[0m\u001b[0;34m.\u001b[0m\u001b[0mmaximum\u001b[0m\u001b[0;34m(\u001b[0m\u001b[0mnp\u001b[0m\u001b[0;34m.\u001b[0m\u001b[0mabs\u001b[0m\u001b[0;34m(\u001b[0m\u001b[0my\u001b[0m\u001b[0;34m)\u001b[0m\u001b[0;34m,\u001b[0m \u001b[0mnp\u001b[0m\u001b[0;34m.\u001b[0m\u001b[0mabs\u001b[0m\u001b[0;34m(\u001b[0m\u001b[0my_new\u001b[0m\u001b[0;34m)\u001b[0m\u001b[0;34m)\u001b[0m \u001b[0;34m*\u001b[0m \u001b[0mrtol\u001b[0m\u001b[0;34m\u001b[0m\u001b[0m\n\u001b[1;32m    141\u001b[0m             \u001b[0merror_norm\u001b[0m \u001b[0;34m=\u001b[0m \u001b[0mnorm\u001b[0m\u001b[0;34m(\u001b[0m\u001b[0merror\u001b[0m \u001b[0;34m/\u001b[0m \u001b[0mscale\u001b[0m\u001b[0;34m)\u001b[0m\u001b[0;34m\u001b[0m\u001b[0m\n",
      "\u001b[0;32m~/miniconda3/lib/python3.6/site-packages/scipy/integrate/_ivp/rk.py\u001b[0m in \u001b[0;36mrk_step\u001b[0;34m(fun, t, y, f, h, A, B, C, E, K)\u001b[0m\n\u001b[1;32m     67\u001b[0m     \u001b[0mK\u001b[0m\u001b[0;34m[\u001b[0m\u001b[0;36m0\u001b[0m\u001b[0;34m]\u001b[0m \u001b[0;34m=\u001b[0m \u001b[0mf\u001b[0m\u001b[0;34m\u001b[0m\u001b[0m\n\u001b[1;32m     68\u001b[0m     \u001b[0;32mfor\u001b[0m \u001b[0ms\u001b[0m\u001b[0;34m,\u001b[0m \u001b[0;34m(\u001b[0m\u001b[0ma\u001b[0m\u001b[0;34m,\u001b[0m \u001b[0mc\u001b[0m\u001b[0;34m)\u001b[0m \u001b[0;32min\u001b[0m \u001b[0menumerate\u001b[0m\u001b[0;34m(\u001b[0m\u001b[0mzip\u001b[0m\u001b[0;34m(\u001b[0m\u001b[0mA\u001b[0m\u001b[0;34m,\u001b[0m \u001b[0mC\u001b[0m\u001b[0;34m)\u001b[0m\u001b[0;34m)\u001b[0m\u001b[0;34m:\u001b[0m\u001b[0;34m\u001b[0m\u001b[0m\n\u001b[0;32m---> 69\u001b[0;31m         \u001b[0mdy\u001b[0m \u001b[0;34m=\u001b[0m \u001b[0mnp\u001b[0m\u001b[0;34m.\u001b[0m\u001b[0mdot\u001b[0m\u001b[0;34m(\u001b[0m\u001b[0mK\u001b[0m\u001b[0;34m[\u001b[0m\u001b[0;34m:\u001b[0m\u001b[0ms\u001b[0m \u001b[0;34m+\u001b[0m \u001b[0;36m1\u001b[0m\u001b[0;34m]\u001b[0m\u001b[0;34m.\u001b[0m\u001b[0mT\u001b[0m\u001b[0;34m,\u001b[0m \u001b[0ma\u001b[0m\u001b[0;34m)\u001b[0m \u001b[0;34m*\u001b[0m \u001b[0mh\u001b[0m\u001b[0;34m\u001b[0m\u001b[0m\n\u001b[0m\u001b[1;32m     70\u001b[0m         \u001b[0mK\u001b[0m\u001b[0;34m[\u001b[0m\u001b[0ms\u001b[0m \u001b[0;34m+\u001b[0m \u001b[0;36m1\u001b[0m\u001b[0;34m]\u001b[0m \u001b[0;34m=\u001b[0m \u001b[0mfun\u001b[0m\u001b[0;34m(\u001b[0m\u001b[0mt\u001b[0m \u001b[0;34m+\u001b[0m \u001b[0mc\u001b[0m \u001b[0;34m*\u001b[0m \u001b[0mh\u001b[0m\u001b[0;34m,\u001b[0m \u001b[0my\u001b[0m \u001b[0;34m+\u001b[0m \u001b[0mdy\u001b[0m\u001b[0;34m)\u001b[0m\u001b[0;34m\u001b[0m\u001b[0m\n\u001b[1;32m     71\u001b[0m \u001b[0;34m\u001b[0m\u001b[0m\n",
      "\u001b[0;31mKeyboardInterrupt\u001b[0m: "
     ]
    }
   ],
   "source": [
    "input_waveforms = [\"sine\", \"square\", \"sawtooth\", \"triangle\"]\n",
    "run_simulation(input_waveforms, linearization=\"abstract\")"
   ]
  },
  {
   "cell_type": "code",
   "execution_count": null,
   "metadata": {},
   "outputs": [],
   "source": []
  }
 ],
 "metadata": {
  "kernelspec": {
   "display_name": "Python 3",
   "language": "python",
   "name": "python3"
  },
  "language_info": {
   "codemirror_mode": {
    "name": "ipython",
    "version": 3
   },
   "file_extension": ".py",
   "mimetype": "text/x-python",
   "name": "python",
   "nbconvert_exporter": "python",
   "pygments_lexer": "ipython3",
   "version": "3.6.6"
  }
 },
 "nbformat": 4,
 "nbformat_minor": 2
}
