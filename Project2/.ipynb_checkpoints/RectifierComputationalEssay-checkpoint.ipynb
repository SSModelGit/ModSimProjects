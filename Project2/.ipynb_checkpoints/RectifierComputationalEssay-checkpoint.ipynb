{
 "cells": [
  {
   "cell_type": "code",
   "execution_count": 1,
   "metadata": {},
   "outputs": [],
   "source": [
    "# Configure Jupyter so figures appear in the notebook\n",
    "%matplotlib inline\n",
    "\n",
    "# Configure Jupyter to display the assigned value after an assignment\n",
    "%config InteractiveShell.ast_node_interactivity='last_expr_or_assign'\n",
    "\n",
    "# import functions from the modsim.py module\n",
    "from modsim import *\n",
    "import scipy.signal as sigw"
   ]
  },
  {
   "cell_type": "code",
   "execution_count": 2,
   "metadata": {},
   "outputs": [],
   "source": [
    "def v_source_func(wave_type = \"sine\", frequency = 1, A_rms = 1, phi = 0):\n",
    "    \"\"\"\n",
    "    Defines the source voltage function as a sinusoidal wave changing with respect to time\n",
    "    Parameters:\n",
    "        wave_type: Type of waveform profile desired for source voltage function\n",
    "        frequency: Frequency of wave in Hz\n",
    "        A_rms: RMS Amplitude of source voltage wave, in V\n",
    "        phi: Phase shift for source voltage wave - only used for sine wave - in radians\n",
    "    Returns:\n",
    "        Source voltage function of general form A*wave(w*t), adhering to the provided parameters\n",
    "    \"\"\"\n",
    "    \n",
    "    def v_sine(t, omega = 2 * np.pi * frequency, A = A_rms / np.sqrt(2), phi = phi):\n",
    "        \"\"\"\n",
    "        Return a sine wave with passed frequency (Hz) and amplitude (Volts)\n",
    "        Parameters:\n",
    "            t: Single value representing time, or array of time steps\n",
    "            A: Amplitude of the sine wave, assumed equal to 1 V\n",
    "            omega: Frequency of the sine wave, assumed equal to 1 Hz\n",
    "            phi: Phase shift of the wave, assumed equal to 0\n",
    "        Returns:\n",
    "            The function of a standard sine wave A*sin(w*t+phi) with the given parameters\n",
    "        \"\"\"\n",
    "        return A * np.sin(omega * t + phi)\n",
    "\n",
    "    def v_square(t, omega = 2 * np.pi * frequency, A = A_rms / 1):\n",
    "        \"\"\"\n",
    "        Return a square wave with passed frequency (Hz) and amplitude (Volts)\n",
    "            t: Single value representing time, or array of time steps\n",
    "            A: Amplitude of the square wave, assumed equal to 1 V\n",
    "            omega: Frequency of the square wave, assumed equal to 1 Hz\n",
    "        Returns:\n",
    "            The function of a standard square wave A*square(w*t) with the given parameters\n",
    "        \"\"\"\n",
    "        return A * sigw.square(omega * t)\n",
    "\n",
    "    def v_sawtooth(t, omega = 2 * np.pi * frequency, A = A_rms / np.sqrt(3)):\n",
    "        \"\"\"\n",
    "        Return a sawtooth wave with passed frequency (Hz) and amplitude (Volts)\n",
    "            t: Single value representing time, or array of time steps\n",
    "            A: Amplitude of the sawtooth wave, assumed equal to 1 V\n",
    "            omega: Frequency of the sawtooth wave, assumed equal to 1 Hz\n",
    "        Returns:\n",
    "            The function of a standard sawtooth wave A*sawtooth(w*t) with the given parameters\n",
    "        \"\"\"\n",
    "        return A * sigw.sawtooth(omega * t)\n",
    "\n",
    "    def v_triangle(t, omega = 2 * np.pi * frequency, A = A_rms / np.sqrt(3)):\n",
    "        \"\"\"\n",
    "        Return a triangle wave with passed frequency (Hz) and amplitude (Volts)\n",
    "            t: Single value representing time, or array of time steps\n",
    "            A: Amplitude of the triangle wave, assumed equal to 1 V\n",
    "            omega: Frequency of the triangle wave, assumed equal to 1 Hz\n",
    "        Returns:\n",
    "            The function of a standard triangle wave A*triangle(w*t) with the given parameters\n",
    "        \"\"\"\n",
    "        return A * sigw.sawtooth(omega * t,0.5)\n",
    "    \n",
    "    waveforms = {\"sine\":v_sine, \"square\":v_square, \"sawtooth\":v_sawtooth, \"triangle\":v_triangle}\n",
    "    \n",
    "    try:\n",
    "        return waveforms[wave_type]\n",
    "    except:\n",
    "        print('Argument error. Specifiy either sine, square, triangle, or sawtooth.')"
   ]
  },
  {
   "cell_type": "code",
   "execution_count": 3,
   "metadata": {},
   "outputs": [],
   "source": [
    "def make_system(linearization=\"abstract\", t0=0, t_end=1, waveform=\"sine\"):\n",
    "    \"\"\"\n",
    "    Defines and returns a System object containing the system parameters\n",
    "    Parameters:\n",
    "        linearization: Specify what kind of linearization model will use, to define initial states\n",
    "        t0: Start time of simulation\n",
    "        t_end: End time of simulation\n",
    "        waveform: Type of input voltage waveform\n",
    "    Returns:\n",
    "        init: Initial states of the model\n",
    "            I: Current across bridge - 0 A\n",
    "            V_C: Voltage across capacitor - 0 V at start\n",
    "        v_s: Voltage Source Function with the following characteristics:\n",
    "            Sine Function\n",
    "            Amplitude of 120 V\n",
    "            Frequency of 60 Hz\n",
    "            Phase Shift of 0 radians\n",
    "        R: Load resistance of the RLC bridge\n",
    "        L: Inductance of the RLC bridge\n",
    "        C: Capacitance of the RLC bridge\n",
    "    \"\"\"\n",
    "    \n",
    "    if linearization == \"abstract\":\n",
    "        init = State(I = 0, V_C = 0)\n",
    "    else:\n",
    "        init = State(Vout=0,dVoutdt=0)\n",
    "    \n",
    "    return System(init=init, t0 = t0, t_end = t_end, \n",
    "                  v_s = v_source_func(wave_type = waveform, frequency = 60, A_rms = 120, phi = 0), \n",
    "                  L = 1, R = 1, C = 1)"
   ]
  },
  {
   "cell_type": "markdown",
   "metadata": {},
   "source": [
    "# Linearization"
   ]
  },
  {
   "cell_type": "markdown",
   "metadata": {},
   "source": [
    "## Via Abstraction"
   ]
  },
  {
   "cell_type": "code",
   "execution_count": 4,
   "metadata": {},
   "outputs": [],
   "source": [
    "def slope_func_abstract(state, t, system):\n",
    "    \"\"\"\n",
    "    Calculates and returns the differential changes of states at any point in time\n",
    "    Parameters:\n",
    "        state: State object containing values of states at time t\n",
    "        t: Time of simulation\n",
    "        system: System object containing system parameters\n",
    "    Returns:\n",
    "        dIdt: Differential change in current at time t\n",
    "        dVcdt: Differential change in voltage across capacitor at time t\n",
    "    \"\"\"\n",
    "    \n",
    "    # Extract state values\n",
    "    I, V_C = state\n",
    "    \n",
    "    # Rectify incoming voltage\n",
    "    rectified_V_source = np.abs(system.v_s(t))\n",
    "    \n",
    "    # Define current flowing through load\n",
    "    i_load = V_C / system.R\n",
    "    \n",
    "    # Define voltage across the inductor\n",
    "    V_inductor = rectified_V_source - V_C\n",
    "    \n",
    "    # Determine differential change in current\n",
    "    if V_inductor > 0:\n",
    "        dIdt = V_inductor / system.L\n",
    "    else:\n",
    "        dIdt = -V_C/system.L\n",
    "    if I < 0 and dIdt < 0:\n",
    "        # Limit current to remain positive (following restriction placed by diode arrangement)\n",
    "        dIdt = 0\n",
    "    \n",
    "    # Define differential change in voltage across capacitor (voltage used by load)\n",
    "    dVcdt = (I - i_load) / system.C\n",
    "    \n",
    "    return dIdt, dVcdt"
   ]
  },
  {
   "cell_type": "markdown",
   "metadata": {},
   "source": [
    "## Via Analytical Breakdown"
   ]
  },
  {
   "cell_type": "markdown",
   "metadata": {},
   "source": [
    "An RLC circuit is a second-order system (i.e. it uses a second derivative), but we can treat it as two first-order equations to keep using the current tool set. Michael could not find the second-order differential equation describing the circuit in question, so he solved for it instead."
   ]
  },
  {
   "cell_type": "markdown",
   "metadata": {},
   "source": [
    "~A printout of the derivation should be inserted here~"
   ]
  },
  {
   "cell_type": "markdown",
   "metadata": {},
   "source": [
    "To use this second-order equation as two first-order equations, we consider both voltage and the derivative of voltage as stocks. We then create the slope function to be passed to the ODE solver."
   ]
  },
  {
   "cell_type": "code",
   "execution_count": 5,
   "metadata": {},
   "outputs": [],
   "source": [
    "def slope_func_analytic(state, t, system):\n",
    "    \"\"\"Calculate the slopes.\n",
    "    \n",
    "    state: State (Vout, dVoutdt)\n",
    "    t: time\n",
    "    system: System object\n",
    "    \n",
    "    returns: State (dVoutdt, d2Voutdt2)\n",
    "    \"\"\"\n",
    "    \n",
    "    #Get local variables\n",
    "    Vout, dVoutdt = state\n",
    "    \n",
    "    #Calculate slopes according to our equations\n",
    "    d2Voutdt2 = 1/(system.L*system.C) * (abs(system.v_s(t)) - (system.L/system.R)*dVoutdt - Vout)\n",
    "    dVoutdt = (system.R/system.L) * (abs(system.v_s(t)) - (system.L*system.C)*d2Voutdt2 - Vout)\n",
    "    \n",
    "    return dVoutdt, d2Voutdt2"
   ]
  },
  {
   "cell_type": "markdown",
   "metadata": {},
   "source": [
    "## Combine different linearizations"
   ]
  },
  {
   "cell_type": "markdown",
   "metadata": {},
   "source": [
    "To gracefully switch between both methods, we used the slope function below."
   ]
  },
  {
   "cell_type": "code",
   "execution_count": 6,
   "metadata": {},
   "outputs": [],
   "source": [
    "def slope_function(linearization):\n",
    "    \"\"\"\n",
    "    Chooses which slope function to use, depending on style of linearization to use\n",
    "    Parameter:\n",
    "        linearization: either 'abstract' or 'analytic', decides which slope function to use\n",
    "    Returns:\n",
    "        Appropriate slope function, as specified by the input parameter\n",
    "    \"\"\"\n",
    "    \n",
    "    if linearization == \"abstract\":\n",
    "        return slope_func_abstract\n",
    "    else:\n",
    "        return slope_func_analytic"
   ]
  },
  {
   "cell_type": "markdown",
   "metadata": {},
   "source": [
    "# Model Simulation"
   ]
  },
  {
   "cell_type": "code",
   "execution_count": 7,
   "metadata": {},
   "outputs": [],
   "source": [
    "def run_simulation(input_waveforms, linearization):\n",
    "    \"\"\"\n",
    "    Runs simulation of Full Wave RLC Bridge Rectifier response for each input waveform type and given linearization type.\n",
    "    Parameters:\n",
    "        input_waveforms: List of desired waveform types\n",
    "        linearization: Type of linearization desired for model (abstraction or analytical)\n",
    "    Returns:\n",
    "        DataFrame object containing results from simulation:\n",
    "            Index: waveform types\n",
    "            Columns: 'results' and 'details'\n",
    "            Simulation results type: TimeFrame object, style following that returned by modsim.run_ode_solver\n",
    "    \"\"\"\n",
    "    \n",
    "    # Create slope function\n",
    "    slope_func = slope_function(linearization)\n",
    "    \n",
    "    # Define output DataFrame object\n",
    "    output = pd.DataFrame(index = input_waveforms, columns = ['results', 'details'])\n",
    "    \n",
    "    # Create convenience variable for properly labeling the output\n",
    "    iw_label_no = pd.Series(np.linspace(0, len(input_waveforms)-1, len(input_waveforms), dtype = int),\n",
    "                            index = input_waveforms)\n",
    "    \n",
    "    for i in input_waveforms:\n",
    "        # Make the system\n",
    "        system = make_system(linearization,0,15,i)\n",
    "\n",
    "        # Run the simulation and display the time taken and success\n",
    "        output.iloc[iw_label_no[i]] = run_ode_solver(system,slope_func,max_step=1e-4);\n",
    "    return output"
   ]
  },
  {
   "cell_type": "code",
   "execution_count": 8,
   "metadata": {},
   "outputs": [],
   "source": [
    "def plot_results(results):\n",
    "    \"\"\"\n",
    "    Plot results provided. Assumes that there only two state variables in model system.\n",
    "    Parameter:\n",
    "        results: Simulation results. Follows type returned by run_simulation\n",
    "    Returns:\n",
    "        None\n",
    "    Plots:\n",
    "        Two graphs, for each state. Plots results from each waveform run on same graph per state.\n",
    "    \"\"\"\n",
    "    \n",
    "    # Extract results data from input\n",
    "    to_plot = results['results']\n",
    "    \n",
    "    # Plot data\n",
    "    for res in to_plot:\n",
    "        plt.figure(1)\n",
    "        res[res.columns[0]].plot()\n",
    "        \n",
    "        plt.figure(2)\n",
    "        res[res.columns[1]].plot()\n",
    "        \n",
    "    # Extract name of first and second states\n",
    "    first_state_name = to_plot[to_plot.index[0]].columns[0]\n",
    "    second_state_name = to_plot[to_plot.index[0]].columns[1]\n",
    "    \n",
    "    # Label graph of first state\n",
    "    plt.figure(1)\n",
    "    plt.title(\"Comparison of \" + first_state_name + \"'s transient response over time\")\n",
    "    plt.ylabel(first_state_name)\n",
    "    plt.xlabel('Time (s)')\n",
    "    plt.legend(results.index)\n",
    "    \n",
    "    # Label graph of second state\n",
    "    plt.figure(2)\n",
    "    plt.title(\"Comparison of \" + second_state_name + \"'s transient response over time\")\n",
    "    plt.ylabel(second_state_name)\n",
    "    plt.xlabel('Time (s)')\n",
    "    plt.legend(results.index)"
   ]
  },
  {
   "cell_type": "code",
   "execution_count": 9,
   "metadata": {},
   "outputs": [
    {
     "data": {
      "text/html": [
       "<div>\n",
       "<style scoped>\n",
       "    .dataframe tbody tr th:only-of-type {\n",
       "        vertical-align: middle;\n",
       "    }\n",
       "\n",
       "    .dataframe tbody tr th {\n",
       "        vertical-align: top;\n",
       "    }\n",
       "\n",
       "    .dataframe thead th {\n",
       "        text-align: right;\n",
       "    }\n",
       "</style>\n",
       "<table border=\"1\" class=\"dataframe\">\n",
       "  <thead>\n",
       "    <tr style=\"text-align: right;\">\n",
       "      <th></th>\n",
       "      <th>results</th>\n",
       "      <th>details</th>\n",
       "    </tr>\n",
       "  </thead>\n",
       "  <tbody>\n",
       "    <tr>\n",
       "      <th>sine</th>\n",
       "      <td>Vout   dVoutdt\n",
       "0.0000   0.000...</td>\n",
       "      <td>sol                                           ...</td>\n",
       "    </tr>\n",
       "    <tr>\n",
       "      <th>square</th>\n",
       "      <td>Vout   dVoutdt\n",
       "0.0000   0.000...</td>\n",
       "      <td>sol                                           ...</td>\n",
       "    </tr>\n",
       "    <tr>\n",
       "      <th>sawtooth</th>\n",
       "      <td>Vout   dVoutdt\n",
       "0.0000   0.000...</td>\n",
       "      <td>sol                                           ...</td>\n",
       "    </tr>\n",
       "    <tr>\n",
       "      <th>triangle</th>\n",
       "      <td>Vout   dVoutdt\n",
       "0.0000   0.000...</td>\n",
       "      <td>sol                                           ...</td>\n",
       "    </tr>\n",
       "  </tbody>\n",
       "</table>\n",
       "</div>"
      ],
      "text/plain": [
       "                                                    results  \\\n",
       "sine                       Vout   dVoutdt\n",
       "0.0000   0.000...   \n",
       "square                     Vout   dVoutdt\n",
       "0.0000   0.000...   \n",
       "sawtooth                   Vout   dVoutdt\n",
       "0.0000   0.000...   \n",
       "triangle                   Vout   dVoutdt\n",
       "0.0000   0.000...   \n",
       "\n",
       "                                                    details  \n",
       "sine      sol                                           ...  \n",
       "square    sol                                           ...  \n",
       "sawtooth  sol                                           ...  \n",
       "triangle  sol                                           ...  "
      ]
     },
     "execution_count": 9,
     "metadata": {},
     "output_type": "execute_result"
    }
   ],
   "source": [
    "input_waveforms = [\"sine\", \"square\", \"sawtooth\", \"triangle\"]\n",
    "responses = run_simulation(input_waveforms, linearization=\"analytical\")"
   ]
  },
  {
   "cell_type": "code",
   "execution_count": 10,
   "metadata": {},
   "outputs": [
    {
     "data": {
      "image/png": "[encoded data removed]",
      "text/plain": [
       "<Figure size 432x288 with 1 Axes>"
      ]
     },
     "metadata": {
      "needs_background": "light"
     },
     "output_type": "display_data"
    },
    {
     "data": {
      "image/png": "[encoded data removed]",
      "text/plain": [
       "<Figure size 432x288 with 1 Axes>"
      ]
     },
     "metadata": {
      "needs_background": "light"
     },
     "output_type": "display_data"
    }
   ],
   "source": [
    "plot_results(responses)"
   ]
  }
 ],
 "metadata": {
  "kernelspec": {
   "display_name": "Python 3",
   "language": "python",
   "name": "python3"
  },
  "language_info": {
   "codemirror_mode": {
    "name": "ipython",
    "version": 3
   },
   "file_extension": ".py",
   "mimetype": "text/x-python",
   "name": "python",
   "nbconvert_exporter": "python",
   "pygments_lexer": "ipython3",
   "version": "3.6.6"
  }
 },
 "nbformat": 4,
 "nbformat_minor": 2
}
