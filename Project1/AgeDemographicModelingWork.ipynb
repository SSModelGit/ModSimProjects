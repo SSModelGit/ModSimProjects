{
 "cells": [
  {
   "cell_type": "markdown",
   "metadata": {},
   "source": [
    "# What will the U.S. geriatric population amount look like over time?"
   ]
  },
  {
   "cell_type": "markdown",
   "metadata": {},
   "source": [
    "The expected lifespan for the U.S. population has been increasing over the years, due to various factors, such as improvements in medical technology and cleaner and safer working conditions. More members of the populace are expected to reach old age, and more are expected to be around in the future. This leads to thinking of what impact this growing aging population has on the rest of the populace, which in turn brings up a more fundamental question - how will the amount of aging individuals in the population change over time?\n",
    "\n",
    "This model seeks to answer that question by building a population growth model centered around age demographics. The model focuses on slices of the population, and focuses on how the amount of individuals in each slice changes over time. In addition to this, the probability of death is determined for each slice of the population. The model will simulate the growth of the population using this model for 60 years, before determining where the state of the aging population is.\n",
    "\n",
    "The model uses 2010 Age Demographic Census Data as the starting point for simulation."
   ]
  },
  {
   "cell_type": "markdown",
   "metadata": {},
   "source": [
    "# Data Parsing"
   ]
  },
  {
   "cell_type": "markdown",
   "metadata": {},
   "source": [
    "In order to model age demographics, we follow a kind of 'bucket' based modeling, where the population is divided into buckets based on age. As the years go by, members flow from one bucket to another. Each bucket has an associated birth and death rate as well (the birth rate only applies to newborn, while the death rate applies to all buckets, at varying values) - the handling of birth and death rates is discussed in the next section. The collection of buckets comprises the main state of the simulation, the age demographic based population count.\n",
    "\n",
    "Using Census data (age demographic data), we construct our initial population bucket states. The states are organized into a Series object, with each index corresponding to a certain age. The index is equivalent to the age value of each bucket (the last index of the buckets is equivalent to the cap-off age (100), where the oldest of the populace are bundled together)."
   ]
  },
  {
   "cell_type": "code",
   "execution_count": 1,
   "metadata": {},
   "outputs": [],
   "source": [
    "# Configure Jupyter so figures appear in the notebook\n",
    "%matplotlib inline"
   ]
  },
  {
   "cell_type": "code",
   "execution_count": 2,
   "metadata": {},
   "outputs": [],
   "source": [
    "import pandas as pd\n",
    "import numpy as np\n",
    "import matplotlib.pyplot as plt\n",
    "import scipy.io as sio"
   ]
  },
  {
   "cell_type": "code",
   "execution_count": 3,
   "metadata": {},
   "outputs": [],
   "source": [
    "# Load the initial data set, located in the same directory\n",
    "init_age_data = sio.loadmat('AgeDemographicData.mat')['AgeDemographicData']\n",
    "\n",
    "# Parse the data set - use the second column for age demographic data, the first column for age value indexing\n",
    "init_data = pd.Series(init_age_data[:,1], index=init_age_data[:,0])"
   ]
  },
  {
   "cell_type": "code",
   "execution_count": 4,
   "metadata": {},
   "outputs": [],
   "source": [
    "def initialize_state(init_data):\n",
    "    \"\"\"\n",
    "    Parsed dataset to create initial states. Caps buckets at age 100.\n",
    "    \n",
    "    Parameters:\n",
    "        init_data: Array containing population data for all age demographics. \n",
    "            Assumed to have range from 0 - 120, in five year increments.\n",
    "            First value assumed to be the total population number.\n",
    "            Last segment assumed to range from 85 - 120.\n",
    "    \n",
    "    Returns state\n",
    "    \"\"\"\n",
    "    \n",
    "    # Initialize empty state variable\n",
    "    state = pd.Series()\n",
    "    \n",
    "    # Initialize empty intermediate bucket state variable with indices\n",
    "    buckets = pd.Series(index = np.linspace(0,100,101,dtype=int))\n",
    "    \n",
    "    # Loop through all of initialization data\n",
    "    for i in init_data.index:\n",
    "        # check if this is the first entry\n",
    "        if i == init_data.index[0]:\n",
    "            # Assign as special state entry, 'total'\n",
    "            state['total'] = init_data[i]\n",
    "            k = i\n",
    "        else:\n",
    "            # Split the data to create initial states for each individual age\n",
    "            pop_value = init_data[i]/(i-k)\n",
    "            for j in range(k, i):\n",
    "                # Check if this is the final age cap - 100\n",
    "                if j <= 100:\n",
    "                    buckets[j]=pop_value\n",
    "                else:\n",
    "                    buckets[100] = pop_value + buckets[100]\n",
    "            k = i\n",
    "    \n",
    "    # Adds intermediate Series variable value into overall state\n",
    "    state['buckets'] = buckets\n",
    "    return state"
   ]
  },
  {
   "cell_type": "code",
   "execution_count": 5,
   "metadata": {},
   "outputs": [],
   "source": [
    "state=initialize_state(init_data)"
   ]
  },
  {
   "cell_type": "markdown",
   "metadata": {},
   "source": [
    "# Model Construction"
   ]
  },
  {
   "cell_type": "markdown",
   "metadata": {},
   "source": [
    "The model's main focus is to create an update function that can handle the change in longevity. This includes developing the concept of birth and death rates. In this 'bucket modeling' system, this means the following:\n",
    "  * The birth rate is assumed as dependent on a simplistic model for birth rate - the simulation runs from the start of the data (2010) for 60 years, so that those in the elderly range (65+) are unaffected by the birth rate assumption. \n",
    "  * The death rate is assumed as constant for all ages. It will later be determined by a function of the age group involved, and changes (increase) as the ages get older.\n",
    "\n",
    "With this in mind, the update function has the following structure:\n",
    "  * Enter bucket\n",
    "    * Check if the bucket is the last bucket:\n",
    "      * Only apply death rate to this bucket\n",
    "      * Add population number from previous bucket to this bucket\n",
    "    * Check if the bucket is the first bucket:\n",
    "      * Apply the death rate to the current amount in the first bucket\n",
    "      * Store resulting population number into interim variable\n",
    "      * Apply the birth rate\n",
    "      * Set the amount born as new value for first bucket\n",
    "    * If neither:\n",
    "      * Apply death rate to the current bucket amounts\n",
    "      * Store resulting population number into interim variable\n",
    "      * Receive population number of previous bucket from another interim variable, set equal to new population bucket amount\n",
    "    * Exit bucket\n",
    "  * Loop through next buckets till completion of bucket updates"
   ]
  },
  {
   "cell_type": "code",
   "execution_count": 6,
   "metadata": {},
   "outputs": [],
   "source": [
    "\"\"\"\n",
    "`system` is an object that holds the parameters of the system:\n",
    "    t_0: The start time of the simulation. This is when the data used to create the initial state was taken.\n",
    "    t_end: Simulation end time.\n",
    "    death: Array of death rates for each bucket of population. Current value was arbitrarily chosen\n",
    "    birth: Birth rate of population. Amount born each year is pop * birth. Value is set equal to current birth rate.\n",
    "\"\"\"\n",
    "\n",
    "system = pd.Series({'t_0': 2010, 't_end': 2070,\n",
    "                    'death':pd.Series(np.zeros(101)+0.01, index=np.linspace(0,100,101, dtype=int)),\n",
    "                    'birth': 0.012})\n",
    "\n",
    "#### SAVE BIRTH AND DEATH RATES AS FUNCTIONS\n",
    "## BIRTH RATE IS BASED ON DATA"
   ]
  },
  {
   "cell_type": "code",
   "execution_count": 7,
   "metadata": {},
   "outputs": [],
   "source": [
    "def update_buckets(t, state,params):\n",
    "    \"\"\"\n",
    "    Takes current state variable containing bucket data, and updates all buckets to reflect passing of a year.\n",
    "    \n",
    "    Parameters:\n",
    "        t: Time (in years) of simulation. Currently does not affect update function's behavior.\n",
    "        state: Series object containing data about bucket states and total population\n",
    "            buckets: Contains the actual bucket data, split into buckets per age.\n",
    "            total: Records total population amount\n",
    "        params: Series object containing relevant data for updating buckets.\n",
    "            birth: Birth rate of population\n",
    "            death: Array of death rates per bucket\n",
    "            \n",
    "    Returns:\n",
    "        state: Updated state variable\n",
    "    \"\"\"\n",
    "    \n",
    "    # Update the number of individuals per each bucket that died over the year\n",
    "    state['buckets'] = state['buckets'] - state['buckets'] * params['death']\n",
    "    \n",
    "    # Create interim bucket state, to hold what population data needs to be updated and shifted\n",
    "    # Shift the first 99 years of data, and add in the amount of newborns into the first slot to complete\n",
    "    interim_buckets = pd.concat([pd.Series(params['birth'] * state['total']), \n",
    "                                state['buckets'][0:-1]], ignore_index = True)\n",
    "    \n",
    "    # Add the previous number of living 100+ year olds to the new number of living 100 year olds\n",
    "    interim_buckets[interim_buckets.index[-1]] = interim_buckets[interim_buckets.index[-1]] + state['buckets'][-1:]\n",
    "    \n",
    "    # Update the state variable\n",
    "    state['buckets'] = interim_buckets\n",
    "    \n",
    "    # Calculate the new total population amount\n",
    "    state['total'] = interim_buckets.sum()\n",
    "    \n",
    "    # Return the updated state\n",
    "    return state"
   ]
  },
  {
   "cell_type": "markdown",
   "metadata": {},
   "source": [
    "# Simulation"
   ]
  },
  {
   "cell_type": "markdown",
   "metadata": {},
   "source": [
    "Using the update function defined in the **Model Construction** section, the simulation is defined as moving through a period of time, updating the buckets with each timestep. The results of each update is stored in a Dataframe object, so that the evolution of each individual bucket can be seen in the end; a column is also be added for the total population amount."
   ]
  },
  {
   "cell_type": "code",
   "execution_count": 8,
   "metadata": {},
   "outputs": [],
   "source": [
    "def run_simulation(state, system, update_func):\n",
    "    \"\"\"\n",
    "    Runs simulation of model.\n",
    "    \n",
    "    Parameters:\n",
    "        state: State variable of the model\n",
    "            total: Total population value\n",
    "            buckets: Series object containing population size at every age\n",
    "        system: Contains system parameters for the model\n",
    "            t_0: Start year of simulation\n",
    "            t_end: End year of simulation\n",
    "        update_func: Update function that details the state's evolution per year\n",
    "        \n",
    "    Returns results: DataFrame object containing the evolution of the state over the years.\n",
    "    \"\"\"\n",
    "    # Determine time ranges of simulation\n",
    "    t_interval = system['t_end'] - system['t_0'] + 1\n",
    "    t_range = np.linspace(system['t_0'], system['t_end'], t_interval, dtype = int)\n",
    "    \n",
    "    # Create empty DataFrame object to hold results with columns and indices\n",
    "    results = pd.DataFrame(columns = np.concatenate((np.array(state['buckets'].index),\n",
    "                                                      np.array('total')), axis = None),\n",
    "                           index = t_range)\n",
    "    \n",
    "    # Loop simulation to step through each year of time range\n",
    "    for t in np.linspace(system['t_0'], system['t_end'], t_interval, dtype = int):\n",
    "        # Update states\n",
    "        state = update_func(t, state, system)\n",
    "        \n",
    "        # Store current state variable as a row in the results DataFrame\n",
    "        results.iloc[t-system['t_0']] = pd.concat([state['buckets'], \n",
    "                                                   pd.Series(state['total'])], \n",
    "                                                  ignore_index = True).values\n",
    "    # return simulation results\n",
    "    return results"
   ]
  },
  {
   "cell_type": "markdown",
   "metadata": {},
   "source": [
    "# Results"
   ]
  },
  {
   "cell_type": "markdown",
   "metadata": {},
   "source": [
    "There are four graphs to indicate the results: the evolution of total population over time, the evolution of the elderly population over time, and the initial and final states of age demographics (in pie charts). These will provide a snapshot of the model's projection for the effect of increasing longevity on the population."
   ]
  },
  {
   "cell_type": "code",
   "execution_count": 9,
   "metadata": {},
   "outputs": [],
   "source": [
    "def plot_figures(res):\n",
    "    \"\"\"\n",
    "    Plots results.\n",
    "    \n",
    "    Parameter:\n",
    "        res: DataFrame object containing results. \n",
    "             Structured with age buckets as columns (total at the very end), and years of simulation as row indices.\n",
    "    \n",
    "    Plots: \n",
    "        Evolution of population over time\n",
    "        Evolution of elderly population over time \n",
    "        Pie charts about age demographic evolution over time\n",
    "    \n",
    "    Returns nothing.\n",
    "    \"\"\"\n",
    "    \n",
    "    # Segment DataFrame into age intervals - deal with age groups instead of individual ages\n",
    "    newborn_pop = res.loc[:,'0':'1'].sum(axis = 1)\n",
    "    minor_pop = res.loc[:,'2':'18'].sum(axis = 1)\n",
    "    middle_pop = res.loc[:,'19':'64'].sum(axis = 1)\n",
    "    senior_pop = res.loc[:,'65':'84'].sum(axis = 1)\n",
    "    geriatric_pop = res.loc[:,'85':'100'].sum(axis = 1)\n",
    "    total_pop = res.loc[:,'total']\n",
    "    \n",
    "    # Plot total population evolution over time\n",
    "    plt.figure()\n",
    "    total_pop.plot()\n",
    "    plt.title('Total population over time')\n",
    "    \n",
    "    # Plot elderly population evolution over time\n",
    "    plt.figure()\n",
    "    geriatric_pop.plot()\n",
    "    plt.title('Geriatric population over time')\n",
    "    \n",
    "    # Plot pie chart of age demographic at the start of simulation\n",
    "    plt.figure()\n",
    "    total_pop.plot()\n",
    "    plt.title('Total population over time')\n",
    "    plt.xlabel('Year')\n",
    "    plt.ylabel('Population (thousands)')\n",
    "\n",
    "    plt.figure()\n",
    "    geriatric_pop.plot()\n",
    "    plt.title('Geriatric population over time')\n",
    "    plt.xlabel('Year')\n",
    "    plt.ylabel('Population (thousands)')\n",
    "\n",
    "    plt.figure()\n",
    "    plt.pie([newborn_pop[newborn_pop.index[0]], minor_pop[minor_pop.index[0]],\n",
    "         middle_pop[middle_pop.index[0]],\n",
    "         senior_pop[senior_pop.index[0]], geriatric_pop[geriatric_pop.index[0]]],\n",
    "        labels = ['Newborn (0-1)', 'Minor (2-18)', 'Middle (19-64)', 'Senior (65-84)', 'Geriatric (85-100)'])\n",
    "    plt.title('Population demographic at start of simulation')\n",
    "    \n",
    "    # Plot pie chart of age demographic at the end of simulation\n",
    "    plt.figure()\n",
    "    plt.pie([newborn_pop[newborn_pop.index[-1]], minor_pop[minor_pop.index[-1]],\n",
    "         middle_pop[middle_pop.index[-1]],\n",
    "         senior_pop[senior_pop.index[-1]], geriatric_pop[geriatric_pop.index[-1]]],\n",
    "        labels = ['Newborn (0-1)', 'Minor (2-18)', 'Middle (19-64)', 'Senior (65-84)', 'Geriatric (85-100)'])\n",
    "    plt.title('Population demographics after 60 years')"
   ]
  },
  {
   "cell_type": "code",
   "execution_count": 10,
   "metadata": {},
   "outputs": [],
   "source": [
    "def results_main():\n",
    "    \"\"\"\n",
    "    Consolidated function to run the model\n",
    "    \n",
    "    Parameters: none\n",
    "    \n",
    "    Actions:\n",
    "        - Initialize states\n",
    "        - Run simulation\n",
    "        - Plot results\n",
    "    \n",
    "    Returns nothing\n",
    "    \"\"\"\n",
    "    state = initialize_state(init_data)\n",
    "    res = run_simulation(state, system, update_buckets)\n",
    "    plot_figures(res)"
   ]
  },
  {
   "cell_type": "code",
   "execution_count": 11,
   "metadata": {},
   "outputs": [
    {
     "data": {
      "image/png": "[encoded data removed]",
      "text/plain": [
       "<Figure size 432x288 with 1 Axes>"
      ]
     },
     "metadata": {},
     "output_type": "display_data"
    },
    {
     "data": {
      "image/png": "[encoded data removed]",
      "text/plain": [
       "<Figure size 432x288 with 1 Axes>"
      ]
     },
     "metadata": {},
     "output_type": "display_data"
    },
    {
     "data": {
      "image/png": "[encoded data removed]",
      "text/plain": [
       "<Figure size 432x288 with 1 Axes>"
      ]
     },
     "metadata": {},
     "output_type": "display_data"
    },
    {
     "data": {
      "image/png": "[encoded data removed]",
      "text/plain": [
       "<Figure size 432x288 with 1 Axes>"
      ]
     },
     "metadata": {},
     "output_type": "display_data"
    }
   ],
   "source": [
    "results_main()"
   ]
  },
  {
   "cell_type": "markdown",
   "metadata": {},
   "source": [
    "# Validation"
   ]
  },
  {
   "cell_type": "markdown",
   "metadata": {},
   "source": [
    "Because this model deals in the space of future population projection, there are two ways to validate the model: start simulation in the past, such that it can be compared with actual data, or compare the data against projections provided by institutes such as the US Census or the UN DESA. These will provide a sense of the model's reasonability. "
   ]
  },
  {
   "cell_type": "code",
   "execution_count": null,
   "metadata": {},
   "outputs": [],
   "source": []
  },
  {
   "cell_type": "code",
   "execution_count": null,
   "metadata": {},
   "outputs": [],
   "source": []
  },
  {
   "cell_type": "code",
   "execution_count": null,
   "metadata": {},
   "outputs": [],
   "source": []
  },
  {
   "cell_type": "markdown",
   "metadata": {},
   "source": [
    "# Interpretation"
   ]
  },
  {
   "cell_type": "markdown",
   "metadata": {},
   "source": [
    "The model's results are indicative of the effects of increasing longevity on the population. Compared to Japan, which is already experiencing the effects of an 'aging population', the model shows that ----. In addition to simply predicting the number of elderly that will be in the world, the model also serves a basis for improvements/alterations in public policy geared towards and effecting the elderly population, such as policies for Social Security funds management, and hospital grant allocation."
   ]
  }
 ],
 "metadata": {
  "kernelspec": {
   "display_name": "Python 3",
   "language": "python",
   "name": "python3"
  },
  "language_info": {
   "codemirror_mode": {
    "name": "ipython",
    "version": 3
   },
   "file_extension": ".py",
   "mimetype": "text/x-python",
   "name": "python",
   "nbconvert_exporter": "python",
   "pygments_lexer": "ipython3",
   "version": "3.6.5"
  }
 },
 "nbformat": 4,
 "nbformat_minor": 2
}
