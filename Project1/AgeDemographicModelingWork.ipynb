{
 "cells": [
  {
   "cell_type": "code",
   "execution_count": 2,
   "metadata": {},
   "outputs": [],
   "source": [
    "# Configure Jupyter so figures appear in the notebook\n",
    "%matplotlib inline"
   ]
  },
  {
   "cell_type": "code",
   "execution_count": 3,
   "metadata": {},
   "outputs": [],
   "source": [
    "import pandas as pd\n",
    "import numpy as np\n",
    "import matplotlib.pyplot as plt\n",
    "import scipy.io as sio"
   ]
  },
  {
   "cell_type": "markdown",
   "metadata": {},
   "source": [
    "# Data Parsing"
   ]
  },
  {
   "cell_type": "markdown",
   "metadata": {},
   "source": [
    "In order to model age demographics, we will follow a kind of 'bucket' based modeling, where the population will be divided into buckets based on age. As the years go by, members flow from one bucket to another. Each bucket has an associated birth and death rate as well (the birth rate only applies to newborn, while the death rate applies to all buckets, at varying values) - the addition of birth and death rates will be handled in the next section. The collection of buckets will comprise the main state of the simulation, the age demographic based population count.\n",
    "\n",
    "Using Census data (age demographic data), we will construct our initial population bucket states. The states will be organized into a Series object, with each index corresponding to a certain age. The index will be equivalent to age value of each bucket (the last index of the buckets will be equivalent to cap-off age, where the oldest of the population will be bunched together)."
   ]
  },
  {
   "cell_type": "code",
   "execution_count": 202,
   "metadata": {},
   "outputs": [],
   "source": [
    "init_age_data = sio.loadmat('AgeDemographicData.mat')['AgeDemographicData']\n",
    "init_data = pd.Series(init_age_data[:,1], index=init_age_data[:,0])"
   ]
  },
  {
   "cell_type": "code",
   "execution_count": 203,
   "metadata": {},
   "outputs": [
    {
     "name": "stdout",
     "output_type": "stream",
     "text": [
      "total                                                 304280\n",
      "buckets    0      4286.800000\n",
      "1      4286.800000\n",
      "2      4...\n",
      "dtype: object\n",
      "304280\n",
      "0      4286.800000\n",
      "1      4286.800000\n",
      "2      4286.800000\n",
      "3      4286.800000\n",
      "4      4286.800000\n",
      "5      4157.000000\n",
      "6      4157.000000\n",
      "7      4157.000000\n",
      "8      4157.000000\n",
      "9      4157.000000\n",
      "10     3978.600000\n",
      "11     3978.600000\n",
      "12     3978.600000\n",
      "13     3978.600000\n",
      "14     3978.600000\n",
      "15     4217.200000\n",
      "16     4217.200000\n",
      "17     4217.200000\n",
      "18     4217.200000\n",
      "19     4217.200000\n",
      "20     4230.800000\n",
      "21     4230.800000\n",
      "22     4230.800000\n",
      "23     4230.800000\n",
      "24     4230.800000\n",
      "25     4290.600000\n",
      "26     4290.600000\n",
      "27     4290.600000\n",
      "28     4290.600000\n",
      "29     4290.600000\n",
      "          ...     \n",
      "71     1787.200000\n",
      "72     1787.200000\n",
      "73     1787.200000\n",
      "74     1787.200000\n",
      "75     1436.200000\n",
      "76     1436.200000\n",
      "77     1436.200000\n",
      "78     1436.200000\n",
      "79     1436.200000\n",
      "80     1156.600000\n",
      "81     1156.600000\n",
      "82     1156.600000\n",
      "83     1156.600000\n",
      "84     1156.600000\n",
      "85      134.085714\n",
      "86      134.085714\n",
      "87      134.085714\n",
      "88      134.085714\n",
      "89      134.085714\n",
      "90      134.085714\n",
      "91      134.085714\n",
      "92      134.085714\n",
      "93      134.085714\n",
      "94      134.085714\n",
      "95      134.085714\n",
      "96      134.085714\n",
      "97      134.085714\n",
      "98      134.085714\n",
      "99      134.085714\n",
      "100    2681.714286\n",
      "Length: 101, dtype: float64\n"
     ]
    }
   ],
   "source": [
    "state = pd.Series()\n",
    "buckets = pd.Series(index = np.linspace(0,100,101,dtype=int))\n",
    "for i in init_data.index:\n",
    "    if i == init_data.index[0]:\n",
    "        state['total'] = init_data[i]\n",
    "        k = i\n",
    "    else:\n",
    "        pop_value = init_data[i]/(i-k)\n",
    "        for j in range(k, i):\n",
    "            if j <= 100:\n",
    "                buckets[j]=pop_value\n",
    "            else:\n",
    "                buckets[100] = pop_value + buckets[100]\n",
    "        k = i\n",
    "state['buckets'] = buckets"
   ]
  },
  {
   "cell_type": "markdown",
   "metadata": {},
   "source": [
    "# Model Construction"
   ]
  },
  {
   "cell_type": "markdown",
   "metadata": {},
   "source": [
    "The model's main focus is to create an update function that can handle the change in longevity. This includes developing the concept of birth and death rates. In this 'bucket modeling' system, this means the following:\n",
    "  * The birth rate will be assumed as dependent on a simplistic model for birth rate - the simulation will run from the start of the data (2010) for 60 years, so that those in the elderly range (65+) will be unaffected by the birth rate assumption. \n",
    "  * The death rate will be determined by a function of the age group involved, and will change (increase) as the ages get older.\n",
    "\n",
    "With this in mind, the proposed update function will have the following structure:\n",
    "  * Enter bucket\n",
    "    * Check if the bucket is the last bucket:\n",
    "      * Only apply death rate to this bucket\n",
    "      * Add population number from previous bucket to this bucket\n",
    "    * Check if the bucket is the first bucket:\n",
    "      * Apply the death rate to the current amount in the first bucket\n",
    "      * Store resulting population number into interim variable\n",
    "      * Apply the birth rate\n",
    "      * Set the amount born as new value for first bucket\n",
    "    * If neither:\n",
    "      * Apply death rate to the current bucket amounts\n",
    "      * Store resulting population number into interim variable\n",
    "      * Receive population number of previous bucket from another interim variable, set equal to new population bucket amount\n",
    "    * Exit bucket\n",
    "  * Loop through next buckets till completion of bucket updates"
   ]
  },
  {
   "cell_type": "code",
   "execution_count": 204,
   "metadata": {},
   "outputs": [],
   "source": [
    "system = pd.Series({'t_0': 2010, 't_end': 2070,\n",
    "                    'death':pd.Series(np.zeros(101)+0.01, index=np.linspace(0,100,101, dtype=int)),\n",
    "                    'birth': 0.012})"
   ]
  },
  {
   "cell_type": "code",
   "execution_count": 205,
   "metadata": {},
   "outputs": [],
   "source": [
    "def update_buckets(t, state,params):\n",
    "\n",
    "    state['buckets'] = state['buckets'] - state['buckets'] * params['death']\n",
    "    \n",
    "    interim_buckets = pd.concat([pd.Series(params['birth'] * state['total']), \n",
    "                                state['buckets'][0:-1]], ignore_index = True)\n",
    "    interim_buckets[interim_buckets.index[-1]] = interim_buckets[interim_buckets.index[-1]] + state['buckets'][-1:]\n",
    "    \n",
    "    state['buckets'] = interim_buckets\n",
    "    state['total'] = interim_buckets.sum()\n",
    "    return state"
   ]
  },
  {
   "cell_type": "markdown",
   "metadata": {},
   "source": [
    "# Simulation"
   ]
  },
  {
   "cell_type": "markdown",
   "metadata": {},
   "source": [
    "Using the update function defined in the **Model Construction** section, the simulation is defined as moving through a period of time, updating the buckets with each timestep. The results of each update will be stored in a Dataframe object, so that the evolution of each individual bucket can be seen in the end; a column will also be added for the total population amount."
   ]
  },
  {
   "cell_type": "code",
   "execution_count": 215,
   "metadata": {},
   "outputs": [],
   "source": [
    "def run_simulation(state, system, update_func):\n",
    "    t_interval = system['t_end'] - system['t_0'] + 1\n",
    "    t_range = np.linspace(system['t_0'], system['t_end'], t_interval, dtype = int)\n",
    "    \n",
    "    results = pd.DataFrame(columns = np.concatenate((np.array(state['buckets'].index),\n",
    "                                                      np.array('total')), axis = None),\n",
    "                           index = t_range)\n",
    "    \n",
    "    for t in np.linspace(system['t_0'], system['t_end'], t_interval, dtype = int):\n",
    "        state = update_func(t, state, system)\n",
    "        results.iloc[t-system['t_0']] = pd.concat([state['buckets'], \n",
    "                                                   pd.Series(state['total'])], \n",
    "                                                  ignore_index = True).values\n",
    "    return results"
   ]
  },
  {
   "cell_type": "markdown",
   "metadata": {},
   "source": [
    "# Results"
   ]
  },
  {
   "cell_type": "markdown",
   "metadata": {},
   "source": [
    "There are three graphs to indicate the results: the evolution of total population over time, the evolution of the elderly population over time, and the age demographics in the final year of simulation (in a histogram). These will provide a snapshot of the model's projection for the effect of increasing longevity on the population."
   ]
  },
  {
   "cell_type": "code",
   "execution_count": 259,
   "metadata": {},
   "outputs": [
    {
     "data": {
      "text/plain": [
       "Text(0.5,1,'Population demographics after 60 years')"
      ]
     },
     "execution_count": 259,
     "metadata": {},
     "output_type": "execute_result"
    },
    {
     "data": {
      "image/png": "[encoded data removed]",
      "text/plain": [
       "<Figure size 432x288 with 1 Axes>"
      ]
     },
     "metadata": {},
     "output_type": "display_data"
    },
    {
     "data": {
      "image/png": "[encoded data removed]",
      "text/plain": [
       "<Figure size 432x288 with 1 Axes>"
      ]
     },
     "metadata": {},
     "output_type": "display_data"
    },
    {
     "data": {
      "image/png": "[encoded data removed]",
      "text/plain": [
       "<Figure size 432x288 with 1 Axes>"
      ]
     },
     "metadata": {},
     "output_type": "display_data"
    },
    {
     "data": {
      "image/png": "[encoded data removed]",
      "text/plain": [
       "<Figure size 432x288 with 1 Axes>"
      ]
     },
     "metadata": {},
     "output_type": "display_data"
    }
   ],
   "source": [
    "res = run_simulation(state, system, update_buckets)\n",
    "\n",
    "fresh_pop = res.loc[:,'0':'4'].sum(axis = 1)\n",
    "student_pop = res.loc[:,'5':'24'].sum(axis = 1)\n",
    "young_pop = res.loc[:,'25':'34'].sum(axis = 1)\n",
    "middle_pop = res.loc[:,'35':'64'].sum(axis = 1)\n",
    "senior_pop = res.loc[:,'65':'84'].sum(axis = 1)\n",
    "geriatric_pop = res.loc[:,'85':'100'].sum(axis = 1)\n",
    "total_pop = res.loc[:,'total']\n",
    "\n",
    "plt.figure()\n",
    "total_pop.plot()\n",
    "\n",
    "plt.figure()\n",
    "geriatric_pop.plot()\n",
    "\n",
    "plt.figure()\n",
    "plt.pie([fresh_pop[fresh_pop.index[0]], student_pop[student_pop.index[0]],\n",
    "         young_pop[young_pop.index[0]], middle_pop[middle_pop.index[0]],\n",
    "         senior_pop[senior_pop.index[0]], geriatric_pop[geriatric_pop.index[0]]],\n",
    "        labels = ['fresh', 'students', 'young', 'middle', 'senior', 'old'])\n",
    "plt.title('Population demographic at start of simulation')\n",
    "\n",
    "plt.figure()\n",
    "plt.pie([fresh_pop[fresh_pop.index[-1]], student_pop[student_pop.index[-1]],\n",
    "         young_pop[young_pop.index[-1]], middle_pop[middle_pop.index[-1]],\n",
    "         senior_pop[senior_pop.index[-1]], geriatric_pop[geriatric_pop.index[-1]]],\n",
    "        labels = ['fresh', 'students', 'young', 'middle', 'senior', 'old'])\n",
    "plt.title('Population demographics after 60 years')"
   ]
  },
  {
   "cell_type": "markdown",
   "metadata": {},
   "source": [
    "# Validation"
   ]
  },
  {
   "cell_type": "markdown",
   "metadata": {},
   "source": [
    "Because this model deals in the space of future population projection, there are two ways to validate the model: start simulation in the past, such that it can be compared with actual data, or compare the data against projections provided by institutes such as the US Census or the UN DESA. These will provide a sense of the model's reasonability. "
   ]
  },
  {
   "cell_type": "markdown",
   "metadata": {},
   "source": [
    "# Interpretation"
   ]
  },
  {
   "cell_type": "markdown",
   "metadata": {},
   "source": [
    "The model's results are indicative of the effects of increasing longevity on the population. Compared to Japan, which is already experiencing the effects of an 'aging population', the model shows that ----. In addition to simply predicting the number of elderly that will be in the world, the model also serves a basis for improvements/alterations in public policy geared towards and effecting the elderly population, such as policies for Social Security funds management, and hospital grant allocation."
   ]
  }
 ],
 "metadata": {
  "kernelspec": {
   "display_name": "Python 3",
   "language": "python",
   "name": "python3"
  },
  "language_info": {
   "codemirror_mode": {
    "name": "ipython",
    "version": 3
   },
   "file_extension": ".py",
   "mimetype": "text/x-python",
   "name": "python",
   "nbconvert_exporter": "python",
   "pygments_lexer": "ipython3",
   "version": "3.6.5"
  }
 },
 "nbformat": 4,
 "nbformat_minor": 2
}
