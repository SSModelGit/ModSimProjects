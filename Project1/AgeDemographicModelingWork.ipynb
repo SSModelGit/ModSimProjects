{
 "cells": [
  {
   "cell_type": "markdown",
   "metadata": {},
   "source": [
    "# What will the U.S. geriatric population amount look like over time?"
   ]
  },
  {
   "cell_type": "markdown",
   "metadata": {},
   "source": [
    "The expected lifespan for the U.S. population has been increasing over the years, due to various factors, such as improvements in medical technology and cleaner and safer working conditions. More members of the populace are expected to reach old age, and more are expected to be around in the future. This leads to thinking of what impact this growing aging population has on the rest of the populace, which in turn brings up a more fundamental question - how will the amount of aging individuals in the population change over time?\n",
    "\n",
    "This model seeks to answer that question by building a population growth model centered around age demographics. The model focuses on slices of the population, and focuses on how the amount of individuals in each slice changes over time. In addition to this, the probability of death is determined for each slice of the population. The model will simulate the growth of the population using this model for 60 years, before determining where the state of the aging population is.\n",
    "\n",
    "The model uses 2010 Age Demographic Census Data as the starting point for simulation."
   ]
  },
  {
   "cell_type": "markdown",
   "metadata": {},
   "source": [
    "# Data Parsing"
   ]
  },
  {
   "cell_type": "markdown",
   "metadata": {},
   "source": [
    "In order to model age demographics, we follow a kind of 'bucket' based modeling, where the population is divided into buckets based on age. As the years go by, members flow from one bucket to another. Each bucket has an associated birth and death rate as well (the birth rate only applies to newborn, while the death rate applies to all buckets, at varying values) - the handling of birth and death rates is discussed in the next section. The collection of buckets comprises the main state of the simulation, the age demographic based population count.\n",
    "\n",
    "Using Census data (age demographic data), we construct our initial population bucket states. The states are organized into a Series object, with each index corresponding to a certain age. The index is equivalent to the age value of each bucket (the last index of the buckets is equivalent to the cap-off age (100), where the oldest of the populace are bundled together)."
   ]
  },
  {
   "cell_type": "code",
   "execution_count": 1,
   "metadata": {},
   "outputs": [],
   "source": [
    "# Configure Jupyter so figures appear in the notebook\n",
    "%matplotlib inline"
   ]
  },
  {
   "cell_type": "code",
   "execution_count": 2,
   "metadata": {},
   "outputs": [],
   "source": [
    "import pandas as pd\n",
    "import numpy as np\n",
    "import matplotlib.pyplot as plt\n",
    "import scipy.io as sio"
   ]
  },
  {
   "cell_type": "code",
   "execution_count": 3,
   "metadata": {},
   "outputs": [],
   "source": [
    "# Load the initial data set, located in the same directory\n",
    "init_age_data = sio.loadmat('AgeDemographicData.mat')['AgeDemographicData']\n",
    "\n",
    "# Parse the data set - use the second column for age demographic data, the first column for age value indexing\n",
    "init_data = pd.Series(init_age_data[:,1], index=init_age_data[:,0])"
   ]
  },
  {
   "cell_type": "code",
   "execution_count": 4,
   "metadata": {},
   "outputs": [],
   "source": [
    "def initialize_state():\n",
    "    state = pd.Series()\n",
    "    buckets = pd.Series(index = np.linspace(0,100,101,dtype=int))\n",
    "    for i in init_data.index:\n",
    "        if i == init_data.index[0]:\n",
    "            state['total'] = init_data[i]\n",
    "            k = i\n",
    "        else:\n",
    "            pop_value = init_data[i]/(i-k)\n",
    "            for j in range(k, i):\n",
    "                if j <= 100:\n",
    "                    buckets[j]=pop_value\n",
    "                else:\n",
    "                    buckets[100] = pop_value + buckets[100]\n",
    "            k = i\n",
    "    state['buckets'] = buckets\n",
    "    return state"
   ]
  },
  {
   "cell_type": "code",
   "execution_count": 5,
   "metadata": {},
   "outputs": [],
   "source": [
    "state=initialize_state()"
   ]
  },
  {
   "cell_type": "markdown",
   "metadata": {},
   "source": [
    "# Model Construction"
   ]
  },
  {
   "cell_type": "markdown",
   "metadata": {},
   "source": [
    "The model's main focus is to create an update function that can handle the change in longevity. This includes developing the concept of birth and death rates. In this 'bucket modeling' system, this means the following:\n",
    "  * The birth rate is assumed as dependent on a simplistic model for birth rate - the simulation runs from the start of the data (2010) for 60 years, so that those in the elderly range (65+) are unaffected by the birth rate assumption. \n",
    "  * The death rate is assumed as constant for all ages. It will later be determined by a function of the age group involved, and changes (increase) as the ages get older.\n",
    "\n",
    "With this in mind, the update function has the following structure:\n",
    "  * Enter bucket\n",
    "    * Check if the bucket is the last bucket:\n",
    "      * Only apply death rate to this bucket\n",
    "      * Add population number from previous bucket to this bucket\n",
    "    * Check if the bucket is the first bucket:\n",
    "      * Apply the death rate to the current amount in the first bucket\n",
    "      * Store resulting population number into interim variable\n",
    "      * Apply the birth rate\n",
    "      * Set the amount born as new value for first bucket\n",
    "    * If neither:\n",
    "      * Apply death rate to the current bucket amounts\n",
    "      * Store resulting population number into interim variable\n",
    "      * Receive population number of previous bucket from another interim variable, set equal to new population bucket amount\n",
    "    * Exit bucket\n",
    "  * Loop through next buckets till completion of bucket updates"
   ]
  },
  {
   "cell_type": "code",
   "execution_count": 6,
   "metadata": {},
   "outputs": [],
   "source": [
    "\"\"\"\n",
    "`system` is an object that holds the parameters of the system:\n",
    "    t_0: The start time of the simulation. This is when the data used to create the initial state was taken.\n",
    "    t_end: Simulation end time.\n",
    "    death: Array of death rates for each bucket of population. Current value was arbitrarily chosen\n",
    "\"\"\"\n",
    "\n",
    "system = pd.Series({'t_0': 2010, 't_end': 2070,\n",
    "                    'death':pd.Series(np.zeros(101)+0.01, index=np.linspace(0,100,101, dtype=int)),\n",
    "                    'birth': 0.012})\n"
   ]
  },
  {
   "cell_type": "code",
   "execution_count": 17,
   "metadata": {},
   "outputs": [],
   "source": [
    "def birth_func(buckets):\n",
    "    relevant_pop = [buckets[15:20],buckets[20:25],buckets[25:30],buckets[30:35],buckets[35:40],buckets[40:45]]\n",
    "    females=[]\n",
    "    for i in relevant_pop:\n",
    "        tot=sum(i)\n",
    "        females.append(tot/2)\n",
    "        \n",
    "    birth_rates=[.0342,.090,.1083,.0965,.0459,.0102]\n",
    "    \n",
    "    births=0\n",
    "    for i in np.arange(0,4,1):\n",
    "        births=births+females[i]*birth_rates[i]\n",
    "    return births"
   ]
  },
  {
   "cell_type": "code",
   "execution_count": 25,
   "metadata": {},
   "outputs": [
    {
     "data": {
      "text/plain": [
       "total                                                 275496\n",
       "buckets    0      3063.332284\n",
       "1      3838.136028\n",
       "2      3...\n",
       "dtype: object"
      ]
     },
     "execution_count": 25,
     "metadata": {},
     "output_type": "execute_result"
    }
   ],
   "source": [
    "def update_buckets(t, state,params):\n",
    "    \"\"\"\n",
    "    Takes current state variable containing bucket data, and updates all buckets to reflect passing of a year.\n",
    "    \n",
    "    Parameters:\n",
    "        t: Time (in years) of simulation.\n",
    "        state: Series object containing data about bucket states and total population\n",
    "            buckets: Contains the actual bucket data, split into buckets per age.\n",
    "            total: Records total population amount\n",
    "        params: Series object containing relevant data for updating buckets.\n",
    "            birth: Birth rate of population\n",
    "            death: Array of death rates per bucket\n",
    "            \n",
    "    Returns:\n",
    "        state: Updated state variable\n",
    "    \"\"\"\n",
    "    \n",
    "    # Update the number of individuals per each bucket that died over the year\n",
    "    state['buckets'] = state['buckets'] - state['buckets'] * params['death']\n",
    "    \n",
    "    # Determine number of newborns born in a year based on current buckets\n",
    "    newborns = birth_func(state['buckets'])\n",
    "    \n",
    "    # Create interim bucket state, to hold what population data needs to be updated and shifted\n",
    "    # Shift the first 99 years of data, and add in the amount of newborns into the first slot to complete\n",
    "    interim_buckets = pd.concat([pd.Series([newborns]), state['buckets'][0:-1]], ignore_index = True)\n",
    "    \n",
    "    # Add the previous number of living 100+ year olds to the new number of living 100 year olds\n",
    "    interim_buckets[interim_buckets.index[-1]] = interim_buckets[interim_buckets.index[-1]] + state['buckets'][-1:]\n",
    "    \n",
    "    # Update the state variable\n",
    "    state['buckets'] = interim_buckets\n",
    "    \n",
    "    # Calculate the new total population amount\n",
    "    state['total'] = interim_buckets.sum()\n",
    "    \n",
    "    # Return the updated state\n",
    "    return state\n",
    "\n",
    "update_buckets(2010,state,system)"
   ]
  },
  {
   "cell_type": "markdown",
   "metadata": {},
   "source": [
    "# Simulation"
   ]
  },
  {
   "cell_type": "markdown",
   "metadata": {},
   "source": [
    "Using the update function defined in the **Model Construction** section, the simulation is defined as moving through a period of time, updating the buckets with each timestep. The results of each update is stored in a Dataframe object, so that the evolution of each individual bucket can be seen in the end; a column is also be added for the total population amount."
   ]
  },
  {
   "cell_type": "code",
   "execution_count": 8,
   "metadata": {},
   "outputs": [],
   "source": [
    "def run_simulation(state, system, update_func):\n",
    "    t_interval = system['t_end'] - system['t_0'] + 1\n",
    "    t_range = np.linspace(system['t_0'], system['t_end'], t_interval, dtype = int)\n",
    "    \n",
    "    results = pd.DataFrame(columns = np.concatenate((np.array(state['buckets'].index),\n",
    "                                                      np.array('total')), axis = None),\n",
    "                           index = t_range)\n",
    "    \n",
    "    for t in np.linspace(system['t_0'], system['t_end'], t_interval, dtype = int):\n",
    "        state = update_func(t, state, system)\n",
    "        results.iloc[t-system['t_0']] = pd.concat([state['buckets'], \n",
    "                                                   pd.Series(state['total'])], \n",
    "                                                  ignore_index = True).values\n",
    "    return results"
   ]
  },
  {
   "cell_type": "markdown",
   "metadata": {},
   "source": [
    "# Results"
   ]
  },
  {
   "cell_type": "markdown",
   "metadata": {},
   "source": [
    "There are four graphs to indicate the results: the evolution of total population over time, the evolution of the elderly population over time, and the initial and final states of age demographics (in pie charts). These will provide a snapshot of the model's projection for the effect of increasing longevity on the population."
   ]
  },
  {
   "cell_type": "code",
   "execution_count": 9,
   "metadata": {},
   "outputs": [],
   "source": [
    "def plot_figures(res):\n",
    "    newborn_pop = res.loc[:,'0':'1'].sum(axis = 1)\n",
    "    minor_pop = res.loc[:,'2':'18'].sum(axis = 1)\n",
    "    middle_pop = res.loc[:,'19':'64'].sum(axis = 1)\n",
    "    senior_pop = res.loc[:,'65':'84'].sum(axis = 1)\n",
    "    geriatric_pop = res.loc[:,'85':'100'].sum(axis = 1)\n",
    "    total_pop = res.loc[:,'total']\n",
    "    \n",
    "    plt.figure()\n",
    "    total_pop.plot()\n",
    "    plt.title('Total population over time')\n",
    "    plt.xlabel('Year')\n",
    "    plt.ylabel('Population (thousands)')\n",
    "\n",
    "    plt.figure()\n",
    "    newborn_pop.plot()\n",
    "    minor_pop.plot()\n",
    "    middle_pop.plot()\n",
    "    senior_pop.plot()\n",
    "    geriatric_pop.plot()\n",
    "    plt.legend(['Newborn (0-1)', 'Minor (2-18)', 'Middle (19-64)', 'Senior (65-84)', 'Geriatric (85-100)'])\n",
    "    plt.xlabel('Year')\n",
    "    plt.ylabel('Population (thousands)')\n"
   ]
  },
  {
   "cell_type": "code",
   "execution_count": 16,
   "metadata": {},
   "outputs": [
    {
     "data": {
      "image/png": "[encoded data removed]",
      "text/plain": [
       "<Figure size 432x288 with 1 Axes>"
      ]
     },
     "metadata": {},
     "output_type": "display_data"
    },
    {
     "data": {
      "image/png": "[encoded data removed]",
      "text/plain": [
       "<Figure size 432x288 with 1 Axes>"
      ]
     },
     "metadata": {},
     "output_type": "display_data"
    }
   ],
   "source": [
    "def results_main():\n",
    "    res = run_simulation(state, system, update_buckets)\n",
    "    plot_figures(res)\n",
    "    return res\n",
    "    \n",
    "results=results_main()"
   ]
  },
  {
   "cell_type": "markdown",
   "metadata": {},
   "source": [
    "# Validation"
   ]
  },
  {
   "cell_type": "markdown",
   "metadata": {},
   "source": [
    "Because this model deals in the space of future population projection, there are two ways to validate the model: start simulation in the past, such that it can be compared with actual data, or compare the data against projections provided by institutes such as the US Census or the UN DESA. These will provide a sense of the model's reasonability. "
   ]
  },
  {
   "cell_type": "code",
   "execution_count": 13,
   "metadata": {},
   "outputs": [],
   "source": [
    "#load census population projection data\n",
    "init_proj_data = sio.loadmat('census_pop_projections.mat')['num']\n",
    "proj_data = pd.Series(init_proj_data[:,1], index=init_proj_data[:,0])\n"
   ]
  },
  {
   "cell_type": "code",
   "execution_count": 20,
   "metadata": {},
   "outputs": [],
   "source": [
    "def plot_validation(res):\n",
    "    total_pop = res.loc[:,'total']\n",
    "    plt.figure()\n",
    "    total_pop.plot()\n",
    "    proj_data.plot()\n",
    "    plt.title('Total population over time')\n",
    "    plt.xlabel('Year')\n",
    "    plt.ylabel('Population (thousands)')\n",
    "    plt.legend(['Model Results','Census Projection'])"
   ]
  },
  {
   "cell_type": "code",
   "execution_count": 21,
   "metadata": {},
   "outputs": [
    {
     "data": {
      "image/png": "[encoded data removed]",
      "text/plain": [
       "<Figure size 432x288 with 1 Axes>"
      ]
     },
     "metadata": {},
     "output_type": "display_data"
    }
   ],
   "source": [
    "plot_validation(results)"
   ]
  },
  {
   "cell_type": "markdown",
   "metadata": {},
   "source": [
    "# Interpretation"
   ]
  },
  {
   "cell_type": "markdown",
   "metadata": {},
   "source": [
    "The model's results are indicative of the effects of increasing longevity on the population. Compared to Japan, which is already experiencing the effects of an 'aging population', the model shows that ----. In addition to simply predicting the number of elderly that will be in the world, the model also serves a basis for improvements/alterations in public policy geared towards and effecting the elderly population, such as policies for Social Security funds management, and hospital grant allocation."
   ]
  }
 ],
 "metadata": {
  "kernelspec": {
   "display_name": "Python 3",
   "language": "python",
   "name": "python3"
  },
  "language_info": {
   "codemirror_mode": {
    "name": "ipython",
    "version": 3
   },
   "file_extension": ".py",
   "mimetype": "text/x-python",
   "name": "python",
   "nbconvert_exporter": "python",
   "pygments_lexer": "ipython3",
   "version": "3.6.6"
  }
 },
 "nbformat": 4,
 "nbformat_minor": 2
}
