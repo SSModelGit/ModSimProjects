{
 "cells": [
  {
   "cell_type": "code",
   "execution_count": 17,
   "metadata": {},
   "outputs": [],
   "source": [
    "# Configure Jupyter so figures appear in the notebook\n",
    "%matplotlib inline"
   ]
  },
  {
   "cell_type": "code",
   "execution_count": 18,
   "metadata": {},
   "outputs": [],
   "source": [
    "import pandas as pd\n",
    "import numpy as np\n",
    "import matplotlib.pyplot as plt"
   ]
  },
  {
   "cell_type": "markdown",
   "metadata": {},
   "source": [
    "# Data Parsing"
   ]
  },
  {
   "cell_type": "markdown",
   "metadata": {},
   "source": [
    "In order to model age demographics, we will follow a kind of 'bucket' based modeling, where the population will be divided into buckets based on age. As the years go by, members flow from one bucket to another. Each bucket has an associated birth and death rate as well (the birth rate only applies to newborn, while the death rate applies to all buckets, at varying values) - the addition of birth and death rates will be handled in the next section. The collection of buckets will comprise the main state of the simulation, the age demographic based population count.\n",
    "\n",
    "Using Census data (preferably age demographic data), we will construct our initial population bucket states. The states will be organized into a Series object, with each index corresponding to a certain age. The index will be equivalent to age value of each bucket (the last index of the buckets will be equivalent to cap-off age, where the oldest of the population will be bunched together)."
   ]
  },
  {
   "cell_type": "markdown",
   "metadata": {},
   "source": [
    "# Model Construction"
   ]
  },
  {
   "cell_type": "markdown",
   "metadata": {},
   "source": [
    "The model's main focus is to create an update function that can handle the change in longevity. This includes developing the concept of birth and death rates. In this 'bucket modeling' system, this means the following:\n",
    "  * The birth rate will be dependent on the buckets of population that are considered 'capable of reproduction', so as to ensure that if the population becomes inflated with the elderly, the number of births will also not spiral out of control. \n",
    "  * The death rate will be determined by a function of the age group involved, and will change (increase) as the ages get older.\n",
    "\n",
    "With this in mind, the proposed update function will have the following structure:\n",
    "  * Enter bucket\n",
    "    * Check if the bucket is the last bucket:\n",
    "      * Only apply death rate to this bucket\n",
    "      * Add population number from previous bucket to this bucket\n",
    "    * Check if the bucket is the first bucket:\n",
    "      * Apply the death rate to the current amount in the first bucket\n",
    "      * Store resulting population number into interim variable\n",
    "      * Apply the birth rate as proportional to a select amount of buckets within a \"reproducible\" range\n",
    "      * Set the amount born as new value for first bucket\n",
    "    * If neiter:\n",
    "      * Apply birth and death rates to the current bucket amounts\n",
    "      * Store resulting population number into interim variable\n",
    "      * Receive population number of previous bucket from another interim variable, set equal to new population bucket amount\n",
    "    * Exit bucket\n",
    "  * Loop through next buckets till completion of bucket updates"
   ]
  },
  {
   "cell_type": "markdown",
   "metadata": {},
   "source": [
    "# Simulation"
   ]
  },
  {
   "cell_type": "markdown",
   "metadata": {},
   "source": [
    "Using the update function defined in the **Model Construction** section, the simulation is defined as moving through a period of time, updating the buckets with each timestep. The results of each update will be stored in a Dataframe object, so that the evolution of each individual bucket can be seen in the end; a column will also be added for the total population amount."
   ]
  },
  {
   "cell_type": "markdown",
   "metadata": {},
   "source": [
    "# Results"
   ]
  },
  {
   "cell_type": "markdown",
   "metadata": {},
   "source": [
    "There are three graphs to indicate the results: the evolution of total population over time, the evolution of the elderly population over time, and the age demographics in the final year of simulation (in a histogram). These will provide a snapshot of the model's projection for the effect of increasing longevity on the population."
   ]
  },
  {
   "cell_type": "markdown",
   "metadata": {},
   "source": [
    "# Validation"
   ]
  },
  {
   "cell_type": "markdown",
   "metadata": {},
   "source": [
    "Because this model deals in the space of future population projection, there are two ways to validate the model: start simulation in the past, such that it can be compared with actual data, or compare the data against projections provided by institutes such as the US Census or the UN DESA. These will provide a sense of the model's reasonability. "
   ]
  },
  {
   "cell_type": "markdown",
   "metadata": {},
   "source": [
    "# Interpretation"
   ]
  },
  {
   "cell_type": "markdown",
   "metadata": {},
   "source": [
    "The model's results are indicative of the effects of increasing longevity on the population. Compared to Japan, which is already experiencing the effects of an 'aging population', the model shows that ----. In addition to simply predicting the number of elderly that will be in the world, the model also serves a basis for improvements/alterations in public policy geared towards and effecting the elderly population, such as policies for Social Security funds management, and hospital grant allocation."
   ]
  }
 ],
 "metadata": {
  "kernelspec": {
   "display_name": "Python 3",
   "language": "python",
   "name": "python3"
  },
  "language_info": {
   "codemirror_mode": {
    "name": "ipython",
    "version": 3
   },
   "file_extension": ".py",
   "mimetype": "text/x-python",
   "name": "python",
   "nbconvert_exporter": "python",
   "pygments_lexer": "ipython3",
   "version": "3.6.6"
  }
 },
 "nbformat": 4,
 "nbformat_minor": 2
}
