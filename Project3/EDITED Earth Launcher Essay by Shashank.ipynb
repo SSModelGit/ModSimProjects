{
 "cells": [
  {
   "cell_type": "markdown",
   "metadata": {},
   "source": [
    "# Earth Launcher"
   ]
  },
  {
   "cell_type": "markdown",
   "metadata": {},
   "source": [
    "*By Shashank Swaminathan and Timothy Novak*"
   ]
  },
  {
   "cell_type": "markdown",
   "metadata": {},
   "source": [
    "The following code configures the notebook and imports relevant libraries"
   ]
  },
  {
   "cell_type": "code",
   "execution_count": 1,
   "metadata": {},
   "outputs": [],
   "source": [
    "# Configure Jupyter so figures appear in the notebook\n",
    "%matplotlib inline\n",
    "\n",
    "# Configure Jupyter to display the assigned value after an assignment\n",
    "%config InteractiveShell.ast_node_interactivity='last_expr_or_assign'\n",
    "# import functions from the modsim.py module\n",
    "from modsim import *\n",
    "import numpy as np"
   ]
  },
  {
   "cell_type": "markdown",
   "metadata": {},
   "source": [
    "Units are included for readability in some parts of the code. They were originally defined using the units library, but because solver functions got rid of units it became troublesome to ensure consistency throughout the code. We have redefined them as 1 to avoid conflicts and errors."
   ]
  },
  {
   "cell_type": "code",
   "execution_count": 2,
   "metadata": {},
   "outputs": [],
   "source": [
    "m = 1 # UNITS.meter\n",
    "s = 1 # UNITS.second\n",
    "year = 1 # UNITS.year\n",
    "kg = 1 # UNITS.kilogram\n",
    "A = 1 # UNITS.ampere\n",
    "V = 1 # UNITS.volts\n",
    "Ohm = 1 # UNITS.ohm\n",
    "N = 1 # UNITS.newton\n",
    "U_mu = N / A**2\n",
    "None"
   ]
  },
  {
   "cell_type": "markdown",
   "metadata": {},
   "source": [
    "# Question"
   ]
  },
  {
   "cell_type": "markdown",
   "metadata": {},
   "source": [
    "What are the design requirements for a railgun such that firing the railgun can accelerate the earth to the escape velocity of the sun?"
   ]
  },
  {
   "cell_type": "markdown",
   "metadata": {},
   "source": [
    "The above modeling question might seem highly rediculous, hovever similar situations are being studied as spacecraft launch systems. One example is the electromagnetic mass driver which is a hypothetical concept of using a electromagnetically powered cannon, like a railgun or coilgun, to accelerate spacecraft for launch (see Applications section of the following page: https://en.wikipedia.org/wiki/Railgun or the dedicated page on the subject https://en.wikipedia.org/wiki/Mass_driver) This project models the reverse situation where the momentum gennerated by the shot is intended to accelerate the earth rather than to accelerate a projectile."
   ]
  },
  {
   "cell_type": "markdown",
   "metadata": {},
   "source": [
    "# Railgun Model"
   ]
  },
  {
   "cell_type": "markdown",
   "metadata": {},
   "source": [
    "First steps first, we define important railgun parameters that we will use in the simulation:\n",
    " - Railgun length: 10 kilometers.\n",
    " - Starting position of the armature (projectile): 0 meters.\n",
    " - Diameter of the actual railgun: Half a meter.\n",
    " - Radius of the railgun rods: 0.05 meters.\n",
    " - Mass of the armature: 1 kilogram. (This is subject to change per simulation.)\n",
    " - Voltage Supply to the railgun: 1000 V. (This is subject to change per simulation.)\n",
    " - Resistance of the railgun circuit: 1e-10 Ohms (representing near super-conductivity).\n",
    " - Vacuum Permeability: An SI defined constant.\n",
    " - Simulation end time (if an event has not already stopped simulation): 1 year."
   ]
  },
  {
   "cell_type": "code",
   "execution_count": 3,
   "metadata": {},
   "outputs": [
    {
     "data": {
      "text/html": [
       "<div>\n",
       "<style scoped>\n",
       "    .dataframe tbody tr th:only-of-type {\n",
       "        vertical-align: middle;\n",
       "    }\n",
       "\n",
       "    .dataframe tbody tr th {\n",
       "        vertical-align: top;\n",
       "    }\n",
       "\n",
       "    .dataframe thead th {\n",
       "        text-align: right;\n",
       "    }\n",
       "</style>\n",
       "<table border=\"1\" class=\"dataframe\">\n",
       "  <thead>\n",
       "    <tr style=\"text-align: right;\">\n",
       "      <th></th>\n",
       "      <th>values</th>\n",
       "    </tr>\n",
       "  </thead>\n",
       "  <tbody>\n",
       "    <tr>\n",
       "      <th>x</th>\n",
       "      <td>0.000000e+00</td>\n",
       "    </tr>\n",
       "    <tr>\n",
       "      <th>d</th>\n",
       "      <td>5.000000e-01</td>\n",
       "    </tr>\n",
       "    <tr>\n",
       "      <th>r</th>\n",
       "      <td>5.000000e-02</td>\n",
       "    </tr>\n",
       "    <tr>\n",
       "      <th>L</th>\n",
       "      <td>1.000000e+04</td>\n",
       "    </tr>\n",
       "    <tr>\n",
       "      <th>mass</th>\n",
       "      <td>1.000000e+00</td>\n",
       "    </tr>\n",
       "    <tr>\n",
       "      <th>Vs</th>\n",
       "      <td>1.000000e+03</td>\n",
       "    </tr>\n",
       "    <tr>\n",
       "      <th>R</th>\n",
       "      <td>1.000000e-10</td>\n",
       "    </tr>\n",
       "    <tr>\n",
       "      <th>mu_0</th>\n",
       "      <td>1.257000e-06</td>\n",
       "    </tr>\n",
       "    <tr>\n",
       "      <th>t_end</th>\n",
       "      <td>1.000000e+00</td>\n",
       "    </tr>\n",
       "  </tbody>\n",
       "</table>\n",
       "</div>"
      ],
      "text/plain": [
       "x        0.000000e+00\n",
       "d        5.000000e-01\n",
       "r        5.000000e-02\n",
       "L        1.000000e+04\n",
       "mass     1.000000e+00\n",
       "Vs       1.000000e+03\n",
       "R        1.000000e-10\n",
       "mu_0     1.257000e-06\n",
       "t_end    1.000000e+00\n",
       "dtype: float64"
      ]
     },
     "execution_count": 3,
     "metadata": {},
     "output_type": "execute_result"
    }
   ],
   "source": [
    "params_railgun = Params(x = 0 * m, \n",
    "                        d = 0.5 * m,\n",
    "                        r = 0.05 * m,\n",
    "                        L = 10e3 * m,\n",
    "                        mass = 1 * kg,\n",
    "                        Vs = 1000 * V,\n",
    "                        R = 1e-10 * Ohm,\n",
    "                        mu_0 = 1.257e-6 * U_mu,\n",
    "                        t_end = 1 * year)"
   ]
  },
  {
   "cell_type": "markdown",
   "metadata": {},
   "source": [
    "The next step is to make a function that takes these parameters and returns a more optimized System object that will be used in simulation. The System object's contents are described in its docstring."
   ]
  },
  {
   "cell_type": "code",
   "execution_count": 4,
   "metadata": {},
   "outputs": [],
   "source": [
    "def make_railgun_system(params):\n",
    "    \"\"\"\n",
    "    Make a system object.\n",
    "    \n",
    "    Parameters:\n",
    "        params: Params object containing following:\n",
    "            x: Initial position of armature (in meters)\n",
    "            d: Separation distance between two rails (in meters)\n",
    "            r: Radii of the rails (in meters)\n",
    "            L: Length armature has to travel along rails before launch (in meters)\n",
    "            mass: Mass of armature (in kilograms)\n",
    "            Vs: (Initial) Voltage supply magnitude (in volts)\n",
    "            R: Resistance of railgun circuit (in ohms)\n",
    "            mu_0: Vacuum permeability constant (in N/A^2)\n",
    "            t_end: Simulation end time (in seconds)\n",
    "               \n",
    "    returns: System object containing\n",
    "        params values\n",
    "        c_mag: Calculated magnetic force coefficient (in N/A^2)\n",
    "        init: Initial state object containing:\n",
    "            x: Position of armature (initialized to params.x) (in meters)\n",
    "            v: Velocity of armature (initialized to 0) (in meters)\n",
    "    \"\"\"\n",
    "    \n",
    "    # make the initial state\n",
    "    init = State(x=params.x, v=0)\n",
    "    \n",
    "    # Determine magnetic force coefficient\n",
    "    c_mag = params.mu_0 * log((params.d - params.r) / params.r) / (2 * pi)\n",
    "    \n",
    "    return System(params, c_mag = c_mag, init=init)"
   ]
  },
  {
   "cell_type": "markdown",
   "metadata": {},
   "source": [
    "For simulating a railgun, the most important (and what we assume as the only active) force is the magnetic force formed from the rails and moving armature. This can be described via the equation \n",
    "\n",
    "$\n",
    "\\begin{equation}\n",
    "F_{mag} = \\frac{\\mu_0 * I ^2 * \\log(\\frac{d-r}{r})}{2\\pi}\n",
    "\\end{equation}$\n",
    "\n",
    "We simplify this by abstracting out the constants into a value called $c_{mag}$ (which was created in the **make_system** function). This leaves the following equation for magnetic force, which is used in the magnetic force function defined in the cell below: \n",
    "\n",
    "$\n",
    "\\begin{equation}\n",
    "    F_{mag} = c_{mag} * I^2\n",
    "\\end{equation}\n",
    "$"
   ]
  },
  {
   "cell_type": "code",
   "execution_count": 5,
   "metadata": {},
   "outputs": [],
   "source": [
    "def mag_force(I, system):\n",
    "    \"\"\"\n",
    "    Determines magnetic force on armature due to magnetic loop of railgun. \n",
    "    Assumes 1D system.\n",
    "    \n",
    "    Parameters:\n",
    "        I: Current through the circuit at time of function call. (in amperes)\n",
    "        system: System object containing following system parameters (relevant listed):\n",
    "            c_mag: Calculated magnetic force coefficient (in N/A^2)\n",
    "               \n",
    "    returns: Magnitude of magnetic force\n",
    "    \"\"\"\n",
    "    return system.c_mag * I**2"
   ]
  },
  {
   "cell_type": "markdown",
   "metadata": {},
   "source": [
    "To simulate this system we are going to use $modsim.py$'s wrapper function for **solve_ivp**, **run_ode_solver**, and so we now create a slope function that will wrap the magnetic force function from earlier and create derivatives for simulation:"
   ]
  },
  {
   "cell_type": "code",
   "execution_count": 6,
   "metadata": {},
   "outputs": [],
   "source": [
    "def railgun_slope_func(state, t, system):\n",
    "    \"\"\"\n",
    "    Computes derivatives of the state variables. \n",
    "    Invokes function mag_force to determine magnetic force applied on armature.\n",
    "    \n",
    "    Parameters:\n",
    "        state: Current State object at time of function call.\n",
    "            x: Position of armature (initialized to params.x) (in meters)\n",
    "            v: Velocity of armature (initialized to 0) (in meters)\n",
    "        system: System object containing following system parameters (relevant listed):\n",
    "            Vs: Magnitude of voltage supply to circuit (in volts)\n",
    "            R: Resistance of the circuit (in ohms)\n",
    "               \n",
    "    returns: Magnitude of magnetic force (in newtons)\n",
    "    \"\"\"\n",
    "    x, v = state\n",
    "\n",
    "    I = system.Vs / system.R\n",
    "    \n",
    "    F_mag = mag_force(I, system)\n",
    "    a = F_mag / system.mass\n",
    "    \n",
    "    return v, a"
   ]
  },
  {
   "cell_type": "markdown",
   "metadata": {},
   "source": [
    "Finally, we introduce an event that will halt the simulation once it occurs: the position of the armature reaching the end of the railgun (and therefore launching from the railgun)."
   ]
  },
  {
   "cell_type": "code",
   "execution_count": 7,
   "metadata": {},
   "outputs": [],
   "source": [
    "def event_func_railgun(state, t, system):\n",
    "    \"\"\"\n",
    "    Stop when the position is equal to the length of rail that can be traveled.\n",
    "        (stop when the distance left to travel is equal to 0)\n",
    "    \n",
    "    Parameters:\n",
    "        state: Current State object at time of function call.\n",
    "            x: Position of armature (initialized to params.x) (in meters)\n",
    "            v: Velocity of armature (initialized to 0) (in meters)\n",
    "        system: System object containing following system parameters (relevant listed):\n",
    "            L: Length armature has to travel along rails before launch (in meters)\n",
    "               \n",
    "    returns: Distance the armature has left to travel.\n",
    "    \"\"\"\n",
    "    x, v = state\n",
    "    return x - system.L"
   ]
  },
  {
   "cell_type": "markdown",
   "metadata": {},
   "source": [
    "We wrap the slope and event functions from earlier into another function, which we will name **sim_railgun**. This function will run the solver function around the **railgun_slope_function**, and will halt the simulation once the event defined in the **event_func_railgun** occurs. The returned values from this simulation function will the the position and velocity of the armature over time; these will then be used by the functions defined in the following section, the ones which describe the motion of the planetery bodies in both stable and perturbed orbits."
   ]
  },
  {
   "cell_type": "code",
   "execution_count": 8,
   "metadata": {},
   "outputs": [],
   "source": [
    "def sim_railgun(mass, v_supply, params, max_step = 0):  \n",
    "    \"\"\"\n",
    "    Simulate the railgun model.\n",
    "    \n",
    "    Parameters:\n",
    "        mass: Mass of armature (in kilograms)\n",
    "        params: Params object containing following:\n",
    "            x: Initial position of armature (in meters)\n",
    "            d: Separation distance between two rails (in meters)\n",
    "            r: Radii of the rails (in meters)\n",
    "            L: Length armature has to travel along rails before launch (in meters)\n",
    "            mass: Mass of armature (in kilograms)\n",
    "            Vs: (Initial) Voltage supply magnitude (in volts)\n",
    "            R: Resistance of railgun circuit (in ohms)\n",
    "            mu_0: Vacuum permeability constant (in N/A^2)\n",
    "            t_end: Simulation end time (in seconds)\n",
    "               \n",
    "    returns:\n",
    "        x: Final position of the armature.\n",
    "        v: Final velocity of the armature.\n",
    "    \"\"\"\n",
    "    params = Params(params, mass=mass, Vs = v_supply)\n",
    "    system = make_railgun_system(params)\n",
    "    if max_step == 0:\n",
    "        results, details = run_ode_solver(system,\n",
    "                                          railgun_slope_func,\n",
    "                                          events=event_func_railgun)\n",
    "    else:\n",
    "        results, details = run_ode_solver(system,\n",
    "                                          railgun_slope_func,\n",
    "                                          events=event_func_railgun, \n",
    "                                          max_step = 1e-16)\n",
    "    return results.x, results.v"
   ]
  },
  {
   "cell_type": "markdown",
   "metadata": {},
   "source": [
    "# Planetary Motion Model code\n",
    "The following functions describe the planitary motion simulation"
   ]
  },
  {
   "cell_type": "markdown",
   "metadata": {},
   "source": [
    "The following code describes the main function which is used in running simulations of a planet in orbit around the sun. This function returns a time frame detailing the velocity and position of the plenet at varous points in time."
   ]
  },
  {
   "cell_type": "code",
   "execution_count": 9,
   "metadata": {},
   "outputs": [],
   "source": [
    "def run_planet_simulation (earth_position_x, \n",
    "                           earth_position_y,\n",
    "                           earth_velocity_x,\n",
    "                           earth_velocity_y,\n",
    "                           earth_mass,num_years):\n",
    "    \"\"\"This function runs a simulation of a two body planetary system. \n",
    "    This simulation assumes:\n",
    "        The sun in the planetary system has the mass of earth's sun,\n",
    "        and is at a fixed location in space (0,0) for convenience.\n",
    "    The planet's position velocity and mass are supplied,\n",
    "        to better inform the simulation.\n",
    "    The number of years dictates how many years the simulation should be run for.\n",
    "    Max_step_size is the maximum step size in seconds.\n",
    "    The function returns the trajectory of the supplied planet.\"\"\"\n",
    "    # creates the state for the simulation\n",
    "    #distance in meteres velocity in m/s\n",
    "    st8 = State(xpos = earth_position_x, \n",
    "                ypos = earth_position_y, \n",
    "                xvel = earth_velocity_x, \n",
    "                yvel = earth_velocity_y)\n",
    "    #Creates a system which holds the parameters of the simulation\n",
    "    #G = m^3/(kg*s^2)\n",
    "        # masses are in kg\n",
    "        # radi are in meters \n",
    "        # velocities are in m/s\n",
    "    sys = System(init = st8,\n",
    "                 G = 6.67408*10**(-11) * (m**3)/(kg*s**2), \n",
    "                 M_earth = earth_mass, \n",
    "                 M_sun =1.989*10**30*kg, \n",
    "                 R_earth = 6.3781*10**6*m, \n",
    "                 R_sun= 6.95700*10**8*m, \n",
    "                 t_end = num_years*60*60*24*365.25*s,\n",
    "                 Earth_Radius = 6378*10**3*m,\n",
    "                 sun_pos = Vector(0*m,0*m))\n",
    "    \n",
    "    #runs an ODE solver to run the simulation -\n",
    "        # restricts the ODE solver to taking steps with a maximum size of one day\n",
    "#     ts = linrange(0, 32*10**6, 1000)\n",
    "    results,details = run_ode_solver(sys,planet_slope_func, max_step=60*60*24*s)\n",
    "    results.xpos *= m\n",
    "    results.ypos *= m\n",
    "    results.xvel *= m/s\n",
    "    results.yvel *= m/s\n",
    "    \n",
    "    #returns the results of the solver\n",
    "    return results"
   ]
  },
  {
   "cell_type": "markdown",
   "metadata": {},
   "source": [
    "The following function  performs the momentum conservation calculations on the earth. This function returns an updated mass and velocity of the earth based on the change in momentum from the firing of a projecile with a given mass and velocity."
   ]
  },
  {
   "cell_type": "code",
   "execution_count": 10,
   "metadata": {},
   "outputs": [],
   "source": [
    "def fire_cannon(planet_velocity_vector,\n",
    "                Mass_earth,\n",
    "                Mass_shot,\n",
    "                Shot_speed):\n",
    "    \"\"\"\n",
    "    Runs a function which:\n",
    "        updates the velocity and mass of a planet\n",
    "        Assumes it is accelerated via mass ejection.\n",
    "    Calculations are based on conservation of momentum.\n",
    "    Masses are in kilograms\n",
    "    Speeds are in m/s\n",
    "    The velocity vector describes the last known velocity of the planet.\n",
    "    MODELING ASSUMPTION CONSTRAINT:\n",
    "        The model assumes the earth exerts no gravitational pull on the projectile.\n",
    "        Implies projectiles fired at less than escape velocity will not be accurate\n",
    "            Does not account for where they would fall back to the earth.\"\"\"\n",
    "    if Shot_speed != 0*m/s:\n",
    "        #calculates the magnitude of the new velocity of the planet\n",
    "        velocity_vector_magnitude = (Mass_earth*planet_velocity_vector.mag + \\\n",
    "                                     Mass_shot*Shot_speed)/(Mass_earth-Mass_shot) \n",
    "\n",
    "        #This creates a velocity vector in the direction of the previous velocity\n",
    "        planet_vel_unit_vector = planet_velocity_vector/planet_velocity_vector.mag\n",
    "        #multiplies magnitude by the unit vector to get a vector in the proper direction with the proper magnitude\n",
    "        planet_velocity_vector = planet_vel_unit_vector * velocity_vector_magnitude\n",
    "        #updates the mass of the earth to account for shot's mass leaving earth\n",
    "        Mass_earth = Mass_earth - Mass_shot\n",
    "    \n",
    "    #retuns the new velocity as a vector and the new mass of the earth\n",
    "    return planet_velocity_vector, Mass_earth"
   ]
  },
  {
   "cell_type": "markdown",
   "metadata": {},
   "source": [
    "The remaining functions expand upon the above functions in more detail. The in depth explanation can be skipped by proceding to the **Combined Launch Model Code** section below."
   ]
  },
  {
   "cell_type": "code",
   "execution_count": 11,
   "metadata": {},
   "outputs": [],
   "source": [
    "def planet_slope_func(st8, t, sys):\n",
    "    \"\"\"\n",
    "    Describes the change in:\n",
    "        position and velocity in both the x and y plane.\n",
    "    The function takes in a state which describes the old position of the system\n",
    "    t is the time of the syatem -\n",
    "        it is not actually used in calculations\n",
    "        it is a required argument for use with an ODE Solver.\n",
    "    sys is a system object which contains system constants\n",
    "    \"\"\"\n",
    "    \n",
    "    #extracts the values from the state\n",
    "    #This is as the ODE solver does not store variables in a state object\n",
    "    xpos,ypos,xvel,yvel= st8\n",
    "    #creates a vector which describes the position of the planet\n",
    "    planet_pos = Vector(xpos,ypos)\n",
    "    \n",
    "    #describes a system of differential equations\n",
    "    #update the velocity in each direction\n",
    "    dxveldt = get_grav_acceleration(sys.G, sys.M_sun, sys.M_earth,\n",
    "                                    planet_pos,sys.sun_pos).x\n",
    "    dyveldt = get_grav_acceleration(sys.G, sys.M_sun, sys.M_earth,\n",
    "                                    planet_pos,sys.sun_pos).y\n",
    "    \n",
    "    #update the position in each direction\n",
    "    dxposdt = xvel\n",
    "    dyposdt = yvel\n",
    "    \n",
    "    #returns the change in the state variables\n",
    "    return dxposdt,dyposdt,dxveldt,dyveldt"
   ]
  },
  {
   "cell_type": "markdown",
   "metadata": {},
   "source": [
    "This function finds the magnitude of the gravitational acceleration on a planet by the sun using F = ma. The function returns the acceleration in terms of m/s^2."
   ]
  },
  {
   "cell_type": "code",
   "execution_count": 12,
   "metadata": {},
   "outputs": [],
   "source": [
    "def get_grav_acceleration(G, M1, m2, planet_vector, sun_vector):\n",
    "    \"\"\"\n",
    "    Calculates acceleration due to gravity with F = ma\n",
    "    F in N\n",
    "    masses in kg\n",
    "    a in m/s^2\n",
    "    \"\"\"\n",
    "    #gets the force & divides by the orbiting body to finding orbital acceleration\n",
    "    return get_gravitational_force(G,M1,m2,planet_vector,sun_vector)/m2"
   ]
  },
  {
   "cell_type": "markdown",
   "metadata": {},
   "source": [
    "The following function applies the law of universal gravitation to find the magnitude of the gravitational force for a planet orbiting a star. The function retunrs a force in N which describes the gravitational force."
   ]
  },
  {
   "cell_type": "code",
   "execution_count": 13,
   "metadata": {},
   "outputs": [],
   "source": [
    "def get_gravitational_force(G,M1,m2,planet_vector, sun_vector):\n",
    "    \"\"\"\n",
    "    Applies law of universal gravitation \n",
    "    Returns the force of gravity as a vector towards the center of the circle\n",
    "    in N\n",
    "    \"\"\"\n",
    "    #calculates the vector pointing from the planet to the sun\n",
    "    planet_to_sun_vector = sun_vector-planet_vector\n",
    "    \n",
    "    #takes the direction of the previous vector\n",
    "    Direction_vector = planet_to_sun_vector/planet_to_sun_vector.mag\n",
    "    \n",
    "    #calculates the acceleration of the planet\n",
    "    acceleration_mag = (G*M1*m2)/(planet_vector.mag**2)\n",
    "    \n",
    "    #Returns a vector which has:\n",
    "        # Magnitude of the acceleration \n",
    "        # Direction towards the star\n",
    "    return Direction_vector * acceleration_mag"
   ]
  },
  {
   "cell_type": "markdown",
   "metadata": {},
   "source": [
    "# Combined Launch Model Code"
   ]
  },
  {
   "cell_type": "markdown",
   "metadata": {},
   "source": [
    "The following function runs a simulation of firing the railgun and the effect which this action has on the orbit of the earth. The function returns a time frame describing the earth's position and velocity at various points in time after firing the railgun."
   ]
  },
  {
   "cell_type": "code",
   "execution_count": 14,
   "metadata": {},
   "outputs": [],
   "source": [
    "def launch_simulation(mass_armature,\n",
    "                      railgun_voltage,\n",
    "                      railgun_params,\n",
    "                      orbital_results):\n",
    "    \"\"\"This function runs a simulation of the launch of a projectile \"\"\"\n",
    "    \n",
    "    # Simulate railgun launch\n",
    "    rail_x, rail_v = sim_railgun(mass_armature * kg,\n",
    "                                 railgun_voltage,\n",
    "                                 railgun_params)\n",
    "    \n",
    "    final_armature_speed = get_last_value(rail_v)\n",
    "    \n",
    "    #gets a vector of the velocity of earth\n",
    "    #This is based on the results of the original simulation\n",
    "    orbital_velocity = Vector(get_last_value(orbital_results.xvel*m),\n",
    "                              get_last_value(orbital_results.yvel*m))\n",
    "    \n",
    "    #fires the railgun    \n",
    "    post_cannon_earth_velocity, post_cannon_earth_mass = fire_cannon(orbital_velocity,\n",
    "                                                         5.972*10**24*kg,\n",
    "                                                         mass_armature,\n",
    "                                                         final_armature_speed)\n",
    "    return post_cannon_earth_velocity, post_cannon_earth_mass"
   ]
  },
  {
   "cell_type": "markdown",
   "metadata": {},
   "source": [
    "# Optimization"
   ]
  },
  {
   "cell_type": "markdown",
   "metadata": {},
   "source": [
    "This code takes a voltage supply value and a set of parameters, and calculates the final velocity of the planetary body that has had a projectile launched from it using a railgun (described within the parameter set). It relies on the functions defined prior to this cell. Its purpose is to allow ease of optimization (using the $fsolve$ function) of the final velocity of the launched planetary body, based on voltage supply input to the railgun."
   ]
  },
  {
   "cell_type": "code",
   "execution_count": 15,
   "metadata": {},
   "outputs": [],
   "source": [
    "def voltage_optimizer(Vs, sim_params):\n",
    "    \"\"\"\n",
    "    Used to find minimum voltage required to achieve escape velocity.\n",
    "    \n",
    "    Parameters:\n",
    "        Vs: Voltage supply to the railgun \n",
    "            To be optimized using fsolve.\n",
    "        sim_params: Additional parameters ued in simulation (held constrant)\n",
    "            mass: Mass of armature shooting from Earth.\n",
    "            railgun: Railgun parameters\n",
    "            orbital_results: Current state of a stable Earth in orbit.\n",
    "               \n",
    "    Returns: \n",
    "        The difference of Earth's velocity post railgun launch, \n",
    "        and the theoretical escape velocity value.\n",
    "    \"\"\"\n",
    "    res_v, res_m = launch_simulation(sim_params.mass,\n",
    "                              Vs,\n",
    "                              sim_params.railgun,\n",
    "                              sim_params.orbital_results)\n",
    "    return res_v.mag - sim_params.v_escape"
   ]
  },
  {
   "cell_type": "markdown",
   "metadata": {},
   "source": [
    "To do optimizing of the mass based on voltage supply, we do the same as the function above once again, this time changing the optimized variable from voltage supply to mass."
   ]
  },
  {
   "cell_type": "code",
   "execution_count": 16,
   "metadata": {},
   "outputs": [],
   "source": [
    "def mass_optimizer(mass, sim_params):\n",
    "    \"\"\"\n",
    "    Used to find minimum voltage required to achieve escape velocity.\n",
    "    \n",
    "    Parameters:\n",
    "        mass: Mass of armature shooting from Earth.\n",
    "              To be optimized using fsolve.\n",
    "        sim_params: Additional parameters ued in simulation (held constrant)\n",
    "            Vs: Voltage supply to the railgun\n",
    "            railgun: Railgun parameters\n",
    "            orbital_results: Current state of a stable Earth in orbit.\n",
    "               \n",
    "    Returns: \n",
    "        The difference of Earth's velocity post railgun launch, \n",
    "        and the theoretical escape velocity value.\n",
    "    \"\"\"\n",
    "    res_v, res_m = launch_simulation(mass,\n",
    "                              sim_params.Vs,\n",
    "                              sim_params.railgun,\n",
    "                              sim_params.orbital_results)\n",
    "    return res_v.mag - sim_params.v_escape"
   ]
  },
  {
   "cell_type": "markdown",
   "metadata": {},
   "source": [
    "# Results"
   ]
  },
  {
   "cell_type": "markdown",
   "metadata": {},
   "source": [
    "The following code describes the inital state of the earth. values have been chosen to place the earth at a distance of one astronomical unit (AU) away from the sun (the average distance from the earth to the sun), moving at a velocity which corrasponds to the observed velocity withwhich the earth orbits the sun (assuming a nearly circular orbit and a distance from the sun of 1 AU), and the measured mass of the earth.\n",
    "The simulation is set to run for one year to demonstrate earth in stable orbit before the railgun is fired."
   ]
  },
  {
   "cell_type": "code",
   "execution_count": 17,
   "metadata": {},
   "outputs": [],
   "source": [
    "#Describes the inital position, in vector format, of the earth (m)\n",
    "inital_earth_x_position = 149597900000*m\n",
    "inital_earth_y_position = 0*m\n",
    "\n",
    "#Describes the inital velocity, in vector format, of the earth (m/s)\n",
    "inital_earth_x_velocity = 0*m/s\n",
    "inital_earth_y_velocity = 29785*m/s\n",
    "\n",
    "#Describes the inital mass of the earth (kg)\n",
    "inital_earth_mass = 5.972*10**24*kg\n",
    "\n",
    "#Describes the length of the stable orbit simulation (years)\n",
    "stable_orbit_simulation_runtime = 365.25*60*60*24*s\n",
    "None"
   ]
  },
  {
   "cell_type": "code",
   "execution_count": 18,
   "metadata": {},
   "outputs": [
    {
     "ename": "KeyboardInterrupt",
     "evalue": "",
     "output_type": "error",
     "traceback": [
      "\u001b[1;31m---------------------------------------------------------------------------\u001b[0m",
      "\u001b[1;31mKeyboardInterrupt\u001b[0m                         Traceback (most recent call last)",
      "\u001b[1;32m<ipython-input-18-585dbb353736>\u001b[0m in \u001b[0;36m<module>\u001b[1;34m()\u001b[0m\n\u001b[0;32m      4\u001b[0m                                         \u001b[0minital_earth_y_velocity\u001b[0m\u001b[1;33m,\u001b[0m\u001b[1;33m\u001b[0m\u001b[0m\n\u001b[0;32m      5\u001b[0m                                         \u001b[0minital_earth_mass\u001b[0m\u001b[1;33m,\u001b[0m\u001b[1;33m\u001b[0m\u001b[0m\n\u001b[1;32m----> 6\u001b[1;33m                                         stable_orbit_simulation_runtime) \n\u001b[0m",
      "\u001b[1;32m<ipython-input-9-5ab9b3d46f82>\u001b[0m in \u001b[0;36mrun_planet_simulation\u001b[1;34m(earth_position_x, earth_position_y, earth_velocity_x, earth_velocity_y, earth_mass, num_years)\u001b[0m\n\u001b[0;32m     37\u001b[0m         \u001b[1;31m# restricts the ODE solver to taking steps with a maximum size of one day\u001b[0m\u001b[1;33m\u001b[0m\u001b[1;33m\u001b[0m\u001b[0m\n\u001b[0;32m     38\u001b[0m \u001b[1;31m#     ts = linrange(0, 32*10**6, 1000)\u001b[0m\u001b[1;33m\u001b[0m\u001b[1;33m\u001b[0m\u001b[0m\n\u001b[1;32m---> 39\u001b[1;33m     \u001b[0mresults\u001b[0m\u001b[1;33m,\u001b[0m\u001b[0mdetails\u001b[0m \u001b[1;33m=\u001b[0m \u001b[0mrun_ode_solver\u001b[0m\u001b[1;33m(\u001b[0m\u001b[0msys\u001b[0m\u001b[1;33m,\u001b[0m\u001b[0mplanet_slope_func\u001b[0m\u001b[1;33m,\u001b[0m \u001b[0mmax_step\u001b[0m\u001b[1;33m=\u001b[0m\u001b[1;36m60\u001b[0m\u001b[1;33m*\u001b[0m\u001b[1;36m60\u001b[0m\u001b[1;33m*\u001b[0m\u001b[1;36m24\u001b[0m\u001b[1;33m*\u001b[0m\u001b[0ms\u001b[0m\u001b[1;33m)\u001b[0m\u001b[1;33m\u001b[0m\u001b[0m\n\u001b[0m\u001b[0;32m     40\u001b[0m     \u001b[0mresults\u001b[0m\u001b[1;33m.\u001b[0m\u001b[0mxpos\u001b[0m \u001b[1;33m*=\u001b[0m \u001b[0mm\u001b[0m\u001b[1;33m\u001b[0m\u001b[0m\n\u001b[0;32m     41\u001b[0m     \u001b[0mresults\u001b[0m\u001b[1;33m.\u001b[0m\u001b[0mypos\u001b[0m \u001b[1;33m*=\u001b[0m \u001b[0mm\u001b[0m\u001b[1;33m\u001b[0m\u001b[0m\n",
      "\u001b[1;32mC:\\Users\\sswaminathan\\Desktop\\sswaminathan\\ModSim\\ModSimProjects\\Project3\\modsim.py\u001b[0m in \u001b[0;36mrun_ode_solver\u001b[1;34m(system, slope_func, **options)\u001b[0m\n\u001b[0;32m    495\u001b[0m     \u001b[1;31m# run the solver\u001b[0m\u001b[1;33m\u001b[0m\u001b[1;33m\u001b[0m\u001b[0m\n\u001b[0;32m    496\u001b[0m     \u001b[1;32mwith\u001b[0m \u001b[0munits_off\u001b[0m\u001b[1;33m(\u001b[0m\u001b[1;33m)\u001b[0m\u001b[1;33m:\u001b[0m\u001b[1;33m\u001b[0m\u001b[0m\n\u001b[1;32m--> 497\u001b[1;33m         \u001b[0mbunch\u001b[0m \u001b[1;33m=\u001b[0m \u001b[0msolve_ivp\u001b[0m\u001b[1;33m(\u001b[0m\u001b[0mf\u001b[0m\u001b[1;33m,\u001b[0m \u001b[1;33m[\u001b[0m\u001b[0mt_0\u001b[0m\u001b[1;33m,\u001b[0m \u001b[0mt_end\u001b[0m\u001b[1;33m]\u001b[0m\u001b[1;33m,\u001b[0m \u001b[0my_0\u001b[0m\u001b[1;33m,\u001b[0m \u001b[0mevents\u001b[0m\u001b[1;33m=\u001b[0m\u001b[0mevents\u001b[0m\u001b[1;33m,\u001b[0m \u001b[1;33m**\u001b[0m\u001b[0moptions\u001b[0m\u001b[1;33m)\u001b[0m\u001b[1;33m\u001b[0m\u001b[0m\n\u001b[0m\u001b[0;32m    498\u001b[0m \u001b[1;33m\u001b[0m\u001b[0m\n\u001b[0;32m    499\u001b[0m     \u001b[1;31m# separate the results from the details\u001b[0m\u001b[1;33m\u001b[0m\u001b[1;33m\u001b[0m\u001b[0m\n",
      "\u001b[1;32mC:\\Miniconda3\\lib\\site-packages\\scipy\\integrate\\_ivp\\ivp.py\u001b[0m in \u001b[0;36msolve_ivp\u001b[1;34m(fun, t_span, y0, method, t_eval, dense_output, events, vectorized, **options)\u001b[0m\n\u001b[0;32m    473\u001b[0m     \u001b[0mstatus\u001b[0m \u001b[1;33m=\u001b[0m \u001b[1;32mNone\u001b[0m\u001b[1;33m\u001b[0m\u001b[0m\n\u001b[0;32m    474\u001b[0m     \u001b[1;32mwhile\u001b[0m \u001b[0mstatus\u001b[0m \u001b[1;32mis\u001b[0m \u001b[1;32mNone\u001b[0m\u001b[1;33m:\u001b[0m\u001b[1;33m\u001b[0m\u001b[0m\n\u001b[1;32m--> 475\u001b[1;33m         \u001b[0mmessage\u001b[0m \u001b[1;33m=\u001b[0m \u001b[0msolver\u001b[0m\u001b[1;33m.\u001b[0m\u001b[0mstep\u001b[0m\u001b[1;33m(\u001b[0m\u001b[1;33m)\u001b[0m\u001b[1;33m\u001b[0m\u001b[0m\n\u001b[0m\u001b[0;32m    476\u001b[0m \u001b[1;33m\u001b[0m\u001b[0m\n\u001b[0;32m    477\u001b[0m         \u001b[1;32mif\u001b[0m \u001b[0msolver\u001b[0m\u001b[1;33m.\u001b[0m\u001b[0mstatus\u001b[0m \u001b[1;33m==\u001b[0m \u001b[1;34m'finished'\u001b[0m\u001b[1;33m:\u001b[0m\u001b[1;33m\u001b[0m\u001b[0m\n",
      "\u001b[1;32mC:\\Miniconda3\\lib\\site-packages\\scipy\\integrate\\_ivp\\base.py\u001b[0m in \u001b[0;36mstep\u001b[1;34m(self)\u001b[0m\n\u001b[0;32m    180\u001b[0m         \u001b[1;32melse\u001b[0m\u001b[1;33m:\u001b[0m\u001b[1;33m\u001b[0m\u001b[0m\n\u001b[0;32m    181\u001b[0m             \u001b[0mt\u001b[0m \u001b[1;33m=\u001b[0m \u001b[0mself\u001b[0m\u001b[1;33m.\u001b[0m\u001b[0mt\u001b[0m\u001b[1;33m\u001b[0m\u001b[0m\n\u001b[1;32m--> 182\u001b[1;33m             \u001b[0msuccess\u001b[0m\u001b[1;33m,\u001b[0m \u001b[0mmessage\u001b[0m \u001b[1;33m=\u001b[0m \u001b[0mself\u001b[0m\u001b[1;33m.\u001b[0m\u001b[0m_step_impl\u001b[0m\u001b[1;33m(\u001b[0m\u001b[1;33m)\u001b[0m\u001b[1;33m\u001b[0m\u001b[0m\n\u001b[0m\u001b[0;32m    183\u001b[0m \u001b[1;33m\u001b[0m\u001b[0m\n\u001b[0;32m    184\u001b[0m             \u001b[1;32mif\u001b[0m \u001b[1;32mnot\u001b[0m \u001b[0msuccess\u001b[0m\u001b[1;33m:\u001b[0m\u001b[1;33m\u001b[0m\u001b[0m\n",
      "\u001b[1;32mC:\\Miniconda3\\lib\\site-packages\\scipy\\integrate\\_ivp\\rk.py\u001b[0m in \u001b[0;36m_step_impl\u001b[1;34m(self)\u001b[0m\n\u001b[0;32m    137\u001b[0m \u001b[1;33m\u001b[0m\u001b[0m\n\u001b[0;32m    138\u001b[0m             y_new, f_new, error = rk_step(self.fun, t, y, self.f, h, self.A,\n\u001b[1;32m--> 139\u001b[1;33m                                           self.B, self.C, self.E, self.K)\n\u001b[0m\u001b[0;32m    140\u001b[0m             \u001b[0mscale\u001b[0m \u001b[1;33m=\u001b[0m \u001b[0matol\u001b[0m \u001b[1;33m+\u001b[0m \u001b[0mnp\u001b[0m\u001b[1;33m.\u001b[0m\u001b[0mmaximum\u001b[0m\u001b[1;33m(\u001b[0m\u001b[0mnp\u001b[0m\u001b[1;33m.\u001b[0m\u001b[0mabs\u001b[0m\u001b[1;33m(\u001b[0m\u001b[0my\u001b[0m\u001b[1;33m)\u001b[0m\u001b[1;33m,\u001b[0m \u001b[0mnp\u001b[0m\u001b[1;33m.\u001b[0m\u001b[0mabs\u001b[0m\u001b[1;33m(\u001b[0m\u001b[0my_new\u001b[0m\u001b[1;33m)\u001b[0m\u001b[1;33m)\u001b[0m \u001b[1;33m*\u001b[0m \u001b[0mrtol\u001b[0m\u001b[1;33m\u001b[0m\u001b[0m\n\u001b[0;32m    141\u001b[0m             \u001b[0merror_norm\u001b[0m \u001b[1;33m=\u001b[0m \u001b[0mnorm\u001b[0m\u001b[1;33m(\u001b[0m\u001b[0merror\u001b[0m \u001b[1;33m/\u001b[0m \u001b[0mscale\u001b[0m\u001b[1;33m)\u001b[0m\u001b[1;33m\u001b[0m\u001b[0m\n",
      "\u001b[1;32mC:\\Miniconda3\\lib\\site-packages\\scipy\\integrate\\_ivp\\rk.py\u001b[0m in \u001b[0;36mrk_step\u001b[1;34m(fun, t, y, f, h, A, B, C, E, K)\u001b[0m\n\u001b[0;32m     70\u001b[0m         \u001b[0mK\u001b[0m\u001b[1;33m[\u001b[0m\u001b[0ms\u001b[0m \u001b[1;33m+\u001b[0m \u001b[1;36m1\u001b[0m\u001b[1;33m]\u001b[0m \u001b[1;33m=\u001b[0m \u001b[0mfun\u001b[0m\u001b[1;33m(\u001b[0m\u001b[0mt\u001b[0m \u001b[1;33m+\u001b[0m \u001b[0mc\u001b[0m \u001b[1;33m*\u001b[0m \u001b[0mh\u001b[0m\u001b[1;33m,\u001b[0m \u001b[0my\u001b[0m \u001b[1;33m+\u001b[0m \u001b[0mdy\u001b[0m\u001b[1;33m)\u001b[0m\u001b[1;33m\u001b[0m\u001b[0m\n\u001b[0;32m     71\u001b[0m \u001b[1;33m\u001b[0m\u001b[0m\n\u001b[1;32m---> 72\u001b[1;33m     \u001b[0my_new\u001b[0m \u001b[1;33m=\u001b[0m \u001b[0my\u001b[0m \u001b[1;33m+\u001b[0m \u001b[0mh\u001b[0m \u001b[1;33m*\u001b[0m \u001b[0mnp\u001b[0m\u001b[1;33m.\u001b[0m\u001b[0mdot\u001b[0m\u001b[1;33m(\u001b[0m\u001b[0mK\u001b[0m\u001b[1;33m[\u001b[0m\u001b[1;33m:\u001b[0m\u001b[1;33m-\u001b[0m\u001b[1;36m1\u001b[0m\u001b[1;33m]\u001b[0m\u001b[1;33m.\u001b[0m\u001b[0mT\u001b[0m\u001b[1;33m,\u001b[0m \u001b[0mB\u001b[0m\u001b[1;33m)\u001b[0m\u001b[1;33m\u001b[0m\u001b[0m\n\u001b[0m\u001b[0;32m     73\u001b[0m     \u001b[0mf_new\u001b[0m \u001b[1;33m=\u001b[0m \u001b[0mfun\u001b[0m\u001b[1;33m(\u001b[0m\u001b[0mt\u001b[0m \u001b[1;33m+\u001b[0m \u001b[0mh\u001b[0m\u001b[1;33m,\u001b[0m \u001b[0my_new\u001b[0m\u001b[1;33m)\u001b[0m\u001b[1;33m\u001b[0m\u001b[0m\n\u001b[0;32m     74\u001b[0m \u001b[1;33m\u001b[0m\u001b[0m\n",
      "\u001b[1;31mKeyboardInterrupt\u001b[0m: "
     ]
    }
   ],
   "source": [
    "orbital_results = run_planet_simulation(inital_earth_x_position,\n",
    "                                        inital_earth_y_position,\n",
    "                                        inital_earth_x_velocity,\n",
    "                                        inital_earth_y_velocity,\n",
    "                                        inital_earth_mass,\n",
    "                                        stable_orbit_simulation_runtime) \n"
   ]
  },
  {
   "cell_type": "markdown",
   "metadata": {},
   "source": [
    "The following code runs a simulation which sweeps acoss masses of armatures (projectiles) ranging from $10^9$ kg (about the mass of the heaviest crane vessel) to $10^{24}$ kg (roughly one fifth the mass of the earth). The point of this is to find the minimum voltage that must be supplied to the railgun, per every sweeped mass value, to get the Earth into escape velocity.\n",
    "\n",
    "The mass sweep starts at $10^9$ kg because at every mass smaller than that, the voltage goes higher than what can be simulated feasibly. This is because at voltages higher than approximately $10^{20}$ V, the projectile launches of the railgun (of length $10$ km) in less than $10^{-15}$ seconds. Thus, to be able to accurately capture the event, the simulation step size must be smaller than $10^{-17}$ s, which slows downs simulations incredibly. This also makes actual optimization operations (which involve multiple simulations) nearly impossible to conduct - one such attempt took more than a day to complete."
   ]
  },
  {
   "cell_type": "markdown",
   "metadata": {},
   "source": [
    "Here, we define important constants that we will use in the sweep; namely, the gravitational constant G, the mass of the Sun, the distance between the sun and the earth, and the escape velocity from the Sun."
   ]
  },
  {
   "cell_type": "code",
   "execution_count": null,
   "metadata": {},
   "outputs": [],
   "source": [
    "G_space = 6.67408e-11 * m ** 3 / (kg * s ** 2)\n",
    "M_sun =1.989e30 * kg\n",
    "R_s_e = 1.496e11 * m\n",
    "v_escape = np.sqrt(2 * G_space * M_sun / R_s_e)\n",
    "None"
   ]
  },
  {
   "cell_type": "markdown",
   "metadata": {},
   "source": [
    "Now, we encapsulate these values into a Params object, along with the previously defined railgun parameters, and the stable orbit results calculated eaerlier."
   ]
  },
  {
   "cell_type": "code",
   "execution_count": null,
   "metadata": {},
   "outputs": [],
   "source": [
    "sim_params = Params(railgun = params_railgun,\n",
    "                    orbital_results = orbital_results, \n",
    "                    v_escape = v_escape, \n",
    "                    mass = 1e24,\n",
    "                    Vs = 30e12 * V)"
   ]
  },
  {
   "cell_type": "markdown",
   "metadata": {},
   "source": [
    "Finally, we define the masses over which we would like to sweep. To make the optimization process more accurate, we also provide a list of initial guesses of potential optimal voltages to correspond with each armature mass value. An empty Series object to hold the results of the optimization is also created."
   ]
  },
  {
   "cell_type": "code",
   "execution_count": null,
   "metadata": {},
   "outputs": [],
   "source": [
    "possible_masses = np.logspace(2, 24, 100)[32:100]\n",
    "vs_opt_guesses = pd.Series(np.append(np.logspace(20, 10, 40)[32:40],\n",
    "                                     np.ones(100-40) * 1e10),\n",
    "                           index = possible_masses)\n",
    "fin_vs = pd.Series(index = possible_masses)\n",
    "None"
   ]
  },
  {
   "cell_type": "markdown",
   "metadata": {},
   "source": [
    "We use a combination of $fsolve$ and the $voltage$ $optimizer$ functions to find the minimum voltage required to reach escape velocity, for each sweeped mass."
   ]
  },
  {
   "cell_type": "code",
   "execution_count": null,
   "metadata": {},
   "outputs": [],
   "source": [
    "for mass in possible_masses:\n",
    "    sim_params = Params(sim_params, mass = mass)\n",
    "    v_s_opt = fsolve(voltage_optimizer,\n",
    "                     vs_opt_guesses[mass] * V,\n",
    "                     sim_params)\n",
    "    fin_vs[mass] = v_s_opt"
   ]
  },
  {
   "cell_type": "code",
   "execution_count": null,
   "metadata": {},
   "outputs": [],
   "source": [
    "possible_voltages = np.geomspace(1e3, fin_vs[fin_vs.index[-1]], 100)\n",
    "fin_m = pd.Series(index = possible_voltages)\n",
    "None"
   ]
  },
  {
   "cell_type": "code",
   "execution_count": null,
   "metadata": {},
   "outputs": [],
   "source": [
    "for voltage in possible_voltages:\n",
    "    sim_params = Params(sim_params, Vs = voltage)\n",
    "    m_opt = fsolve(mass_optimizer,\n",
    "                   1e23,\n",
    "                   sim_params)\n",
    "    fin_m[voltage] = m_opt"
   ]
  },
  {
   "cell_type": "markdown",
   "metadata": {},
   "source": [
    "To give the results some context, here we define some masses and voltages corresponding to the real world:\n",
    " - Great Wall of China: This is the heaviest structure built by man so far.\n",
    " - A fifth of the Earth's Mass - the description is in the name.\n",
    " - Planck's Voltage - This is the highest theoretically achievable voltage. The value being shown here is Planck's Voltage times $10^{-10}$.\n",
    " - Maximum Recorded Voltage - We have two values for these:\n",
    "   1. Maximum Voltage outside a linear accelerator: This was generated in Oak Ridge National Labs using a Van de Graaf.\n",
    "   1. Maximum Voltage produced ever by humans: This was produced using lasers within one millimeter of each other in a linear accelerator."
   ]
  },
  {
   "cell_type": "code",
   "execution_count": null,
   "metadata": {},
   "outputs": [],
   "source": [
    "fin_m"
   ]
  },
  {
   "cell_type": "code",
   "execution_count": null,
   "metadata": {},
   "outputs": [],
   "source": [
    "conc_vs = np.append(fin_vs.values, np.flip(fin_m.index))\n",
    "conc_m = np.append(fin_vs.index, np.flip(fin_m.values))\n",
    "len_fin = len(conc_vs)\n",
    "\n",
    "great_wall = pd.Series(conc_vs, np.ones(len_fin) * 5.262e10)\n",
    "mass_earth_fifth = pd.Series(conc_vs, \n",
    "                                     np.ones(len_fin) * 1.19e24)\n",
    "planck_voltage = pd.Series(np.ones(len_fin) * 1.042e17, \n",
    "                                     conc_m)\n",
    "max_rec_voltage = pd.Series(np.ones(len_fin) * 25.5e6, \n",
    "                                     conc_m)\n",
    "max_l_rec_voltage = pd.Series(np.ones(len_fin) * 2e11, \n",
    "                                     conc_m)\n",
    "None\n"
   ]
  },
  {
   "cell_type": "markdown",
   "metadata": {},
   "source": [
    "Here, we plot the optimization results, along with some other physical values to give context."
   ]
  },
  {
   "cell_type": "code",
   "execution_count": null,
   "metadata": {},
   "outputs": [],
   "source": [
    "plt.figure(1)\n",
    "plt.figure(figsize=[14,11])\n",
    "plt.loglog(conc_m, conc_vs,\n",
    "           great_wall.index, great_wall.values,\n",
    "           mass_earth_fifth.index, mass_earth_fifth.values, \n",
    "           planck_voltage.index, planck_voltage.values, \n",
    "           max_l_rec_voltage.index, max_l_rec_voltage.values)\n",
    "plt.xlabel('Mass of Armature Shooting from the Earth')\n",
    "plt.ylabel('Voltage Supply Magnitude')\n",
    "plt.title('Armature Mass vs. Voltage Supply to Achieve Escape Velocity')\n",
    "plt.legend(['Minimum voltage for given mass to acheive escape velocity',\n",
    "            'Mass of Great Wall of China', \n",
    "            'A fifth of the mass of the Earth', \n",
    "            'Planck\\'s Voltage, times 10^-10', \n",
    "            'Largest recorded voltage (using lasers in a linear accelerator)'])"
   ]
  },
  {
   "cell_type": "code",
   "execution_count": null,
   "metadata": {},
   "outputs": [],
   "source": [
    "params_railgun = Params(params_railgun, mass = 1.8*10**24*kg, Vs = 1*10**3*V)\n",
    "post_cannon_earth_velocity,post_cannon_earth_mass = launch_simulation(params_railgun.mass, params_railgun.Vs, params_railgun, orbital_results)\n",
    "post_cannon_results = run_planet_simulation(get_last_value(orbital_results.xpos),get_last_value(orbital_results.ypos),post_cannon_earth_velocity.x,post_cannon_earth_velocity.y, post_cannon_earth_mass,1)\n"
   ]
  },
  {
   "cell_type": "code",
   "execution_count": null,
   "metadata": {},
   "outputs": [],
   "source": [
    "plt.figure(2)\n",
    "plt.figure(figsize=[14,11])\n",
    "plt.plot(orbital_results.xpos, orbital_results.ypos,post_cannon_results.xpos, post_cannon_results.ypos)\n",
    "plt.xlabel('Distance from the sun (m)')\n",
    "plt.ylabel('Distance from the sun (m)')\n",
    "plt.title('Trajectory of the Earth in Space')\n",
    "plt.legend(['Stable Orbit Trajectory',\n",
    "            'Trajectory with a shot of mass () and', \n",
    "            'A fifth of the mass of the Earth', \n",
    "            'Planck\\'s Voltage, times 10^-10', \n",
    "            'Largest recorded voltage (using lasers in a linear accelerator)'])"
   ]
  },
  {
   "cell_type": "code",
   "execution_count": null,
   "metadata": {},
   "outputs": [],
   "source": [
    "plt.figure(3)\n",
    "plt.figure(figsize=[14,11])\n",
    "plt.plot(post_cannon_results.xpos, post_cannon_results.ypos)"
   ]
  }
 ],
 "metadata": {
  "kernelspec": {
   "display_name": "Python 3",
   "language": "python",
   "name": "python3"
  },
  "language_info": {
   "codemirror_mode": {
    "name": "ipython",
    "version": 3
   },
   "file_extension": ".py",
   "mimetype": "text/x-python",
   "name": "python",
   "nbconvert_exporter": "python",
   "pygments_lexer": "ipython3",
   "version": "3.6.5"
  }
 },
 "nbformat": 4,
 "nbformat_minor": 2
}
