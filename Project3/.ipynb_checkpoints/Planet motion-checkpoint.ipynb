{
 "cells": [
  {
   "cell_type": "markdown",
   "metadata": {},
   "source": [
    "# Model of planetary motion\n",
    "by Timothy Novak"
   ]
  },
  {
   "cell_type": "code",
   "execution_count": 1,
   "metadata": {},
   "outputs": [],
   "source": [
    "# import functions from the modsim.py module\n",
    "from modsim import *"
   ]
  },
  {
   "cell_type": "markdown",
   "metadata": {},
   "source": [
    "The following code initializes the state and system objects for the earth sun system."
   ]
  },
  {
   "cell_type": "code",
   "execution_count": 2,
   "metadata": {},
   "outputs": [],
   "source": [
    "# Creates a state object which stores the innital state\n",
    "#distance in meteres velocity in m/s\n",
    "st8 = State(xpos = 149597900000, \n",
    "            ypos = 0, \n",
    "            xvel = 0, \n",
    "            yvel = 29000)\n",
    "#Creates a system to hold the simulation parameters\n",
    "#G = m^3/(kg*s^2) masses are in kg masses are in kg radi are in meteres velocities are in m/s\n",
    "sys = System(init = st8,\n",
    "             G = 6.67408*10**(-11), \n",
    "             M_earth = 5.972*10**24, \n",
    "             M_sun =1.989*10**30, \n",
    "             R_earth = 6.3781*10**6, \n",
    "             R_sun= 6.95700*10**8, \n",
    "             t_end = 365.25*24*60*60*1, \n",
    "             sun_pos = Vector(0,0))\n"
   ]
  },
  {
   "cell_type": "markdown",
   "metadata": {},
   "source": [
    "The following code describes the functions which constitute the model"
   ]
  },
  {
   "cell_type": "code",
   "execution_count": 3,
   "metadata": {},
   "outputs": [],
   "source": [
    "#model constituant functions\n",
    "def get_force(G,M,m,planet_vector, sun_vector):\n",
    "    \"\"\"Applies law of universal gravitation and returns the force of gravity as a vector towards the center of the circle in N\"\"\"\n",
    "    #calculates the vector pointing from the planet to the sun\n",
    "    planet_to_sun_vector = sun_vector-planet_vector\n",
    "    #takes the direction of the previous vector\n",
    "    Direction_vector = planet_to_sun_vector/planet_to_sun_vector.mag\n",
    "    #calculates the acceleration of the planet\n",
    "    acceleration_mag = (G*M*m)/(planet_vector.mag**2)\n",
    "    #returns a vector which has the magnitude of the acceleration and a direction towards the star\n",
    "    return Direction_vector * acceleration_mag\n",
    "\n",
    "def get_grav_acceleration(G,M,m,planet_vector,sun_vector):\n",
    "    \"\"\"Calculates acceleration with F = ma\n",
    "    F in N\n",
    "    m in kg\n",
    "    a in m/s^2\"\"\"\n",
    "    #gets the force and divides by the orbiting body to get the acceleration of the orbing body\n",
    "    return get_force(G,M,m,planet_vector,sun_vector)/m\n",
    "\n",
    "\n",
    "def planet_slope_func(st8,t,sys):\n",
    "    \"\"\"Describes the change in position and velocity in both the x and y plane between every time step.\n",
    "    The function takes in a state which describes the old position of the system\n",
    "    t is the time of the syatem, it is not actually used in calculations however it is a required argument for use with an ODE Solver\n",
    "    sys is a system object which contains system constants\"\"\"\n",
    "    \n",
    "    #extracts the values from the state because the ODE solver does not store variables in a state object\n",
    "    xpos,ypos,xvel,yvel= st8\n",
    "    #creates a vector which describes the position of the planet\n",
    "    planet_pos = Vector(xpos,ypos)\n",
    "    \n",
    "    #describes a system of differential equations which explain the changes in the system\n",
    "    #update the velocity in each direction\n",
    "    dxveldt = get_grav_acceleration(sys.G, sys.M_sun, sys.M_earth, planet_pos,sys.sun_pos).x\n",
    "    dyveldt = get_grav_acceleration(sys.G, sys.M_sun, sys.M_earth, planet_pos,sys.sun_pos).y\n",
    "    \n",
    "    #update the position in each direction\n",
    "    dxposdt = xvel\n",
    "    dyposdt = yvel\n",
    "    \n",
    "    #returns the change in the state variables\n",
    "    return dxposdt,dyposdt,dxveldt,dyveldt\n"
   ]
  },
  {
   "cell_type": "markdown",
   "metadata": {},
   "source": [
    "The following code runs a simulation of a planet and plots the results"
   ]
  },
  {
   "cell_type": "code",
   "execution_count": 4,
   "metadata": {},
   "outputs": [
    {
     "data": {
      "image/png": "[encoded data removed]",
      "text/plain": [
       "<Figure size 432x288 with 1 Axes>"
      ]
     },
     "metadata": {},
     "output_type": "display_data"
    }
   ],
   "source": [
    "#runs an ODE solver to run a simulation and restricts the ODE solver to taking steps with a maximum size of one day\n",
    "results,details = run_ode_solver(sys,planet_slope_func, max_step=60*60*24)\n",
    "\n",
    "#plots the results\n",
    "plot(results.xpos,results.ypos)\n",
    "decorate(title = \"Trajectory of the Earth in Space\", xlabel = \"Position relative to the sun (m)\", ylabel = \"position relative to the sun (m)\")\n"
   ]
  },
  {
   "cell_type": "markdown",
   "metadata": {},
   "source": [
    "The following code wraps the code up in a run simulation function so that multiple simulations of a planet-sun system can be run."
   ]
  },
  {
   "cell_type": "code",
   "execution_count": 5,
   "metadata": {},
   "outputs": [],
   "source": [
    "def run_planet_simulation (earth_position_x,earth_position_y, earth_velocity_x, earth_velocity_y,earth_mass,num_years):\n",
    "    \"\"\"This function runs a simulation of a two body planetary system. \n",
    "    This simulation assumes that the sun in the planetary system has the mass of earth's sun and is at a fixed location in space (0,0) for conveianance\n",
    "    the planet's position velocity and mass are supplied to better inform the simulation.\n",
    "    The number of years dictates how many years the simulation should be run for.\n",
    "    The function returns the trajectory of the supplied planet.\"\"\"\n",
    "    # creates the state for the simulation\n",
    "    #distance in meteres velocity in m/s\n",
    "    st8 = State(xpos = earth_position_x, \n",
    "                ypos = earth_position_y, \n",
    "                xvel = earth_velocity_x, \n",
    "                yvel = earth_velocity_y)\n",
    "    #Creates a system which holds the parameters of the simulation\n",
    "    #G = m^3/(kg*s^2) masses are in kg masses are in kg radi are in meteres velocities are in m/s\n",
    "    sys = System(init = st8,\n",
    "                 G = 6.67408*10**(-11), \n",
    "                 M_earth = earth_mass, \n",
    "                 M_sun =1.989*10**30, \n",
    "                 R_earth = 6.3781*10**6, \n",
    "                 R_sun= 6.95700*10**8, \n",
    "                 t_end = 365.25*24*60*60*num_years, \n",
    "                 sun_pos = Vector(0,0))\n",
    "    \n",
    "    #runs an ODE solver to run a simulation and restricts the ODE solver to taking steps with a maximum size of one day\n",
    "    results,details = run_ode_solver(sys,planet_slope_func, max_step=60*60*24)\n",
    "    return results"
   ]
  },
  {
   "cell_type": "code",
   "execution_count": 54,
   "metadata": {},
   "outputs": [],
   "source": [
    "def fire_cannon(planet_velocity_vector, Mass_earth, Mass_shot, Shot_speed):\n",
    "    \"\"\"Runs a function which updates the velocity and mass of a planet assuming that it is accelerated via mass ejection.\n",
    "    Calculations are based on conservation of momentum.\n",
    "    Masses are in kilograms\n",
    "    Velocities are in m/s\n",
    "    The velocity vector describes the last known velocity of the planet.\"\"\"\n",
    "    #calculates the magnitude of the new velocity vector for the planet\n",
    "    \n",
    "    velocity_vector_magnitude = (Mass_earth*planet_velocity_vector.mag + Mass_shot*Shot_speed)/(Mass_earth-Mass_shot) \n",
    "    #multiplies the magnitude by a unit vector in the direction of the last known velocity to get the new velocity\n",
    "    planet_velocity_vector = (planet_velocity_vector/planet_velocity_vector.mag)*velocity_vector_magnitude\n",
    "    \n",
    "    if Shot_speed != 0:\n",
    "        #updates the mass of the earth to account for the fact that the shot removed mass from the earth\n",
    "        Mass_earth = Mass_earth - Mass_shot\n",
    "    \n",
    "    #retuns the new velocity as a vector and the new mass of the earth\n",
    "    return planet_velocity_vector, Mass_earth"
   ]
  },
  {
   "cell_type": "code",
   "execution_count": 55,
   "metadata": {},
   "outputs": [],
   "source": [
    "def run_full_simulation (Mass_shot, Shot_velocity, number_years_after_shot, earth_initial_velocity):\n",
    "    #runs the earth in orbit around the sun for a year\n",
    "    orbital_results = run_planet_simulation(149597900000,0, 0, earth_initial_velocity,5.972*10**24,.5)\n",
    "    \n",
    "    #gets a vector of the velocity of earth based on the results of the original simulation\n",
    "    orbital_velocity = Vector(get_last_value(orbital_results.xvel),get_last_value(orbital_results.yvel))\n",
    "    \n",
    "    #fires the railgun\n",
    "    post_cannon_velocity, post_cannon_mass = fire_cannon(orbital_velocity,5.972*10**24, Mass_shot, Shot_velocity)\n",
    "    \n",
    "    #runs a simulation of the earth and the sun with the earth's updated velocity\n",
    "    escape_results = run_planet_simulation(get_last_value(orbital_results.xpos),get_last_value(orbital_results.ypos),post_cannon_velocity.x,post_cannon_velocity.y,post_cannon_mass,number_years_after_shot)\n",
    "    \n",
    "    #escape_results = run_planet_simulation(get_last_value(orbital_results.xpos),get_last_value(orbital_results.ypos),get_last_value(orbital_results.xvel),get_last_value(orbital_results.yvel),5.972*10**24,number_years_after_shot)\n",
    "    \n",
    "    #returns the results\n",
    "    return orbital_results, escape_results\n",
    "    \n",
    "    "
   ]
  },
  {
   "cell_type": "code",
   "execution_count": 56,
   "metadata": {},
   "outputs": [],
   "source": [
    "orbital_results, shot_results = run_full_simulation(0*10**24, 0, 1, 29000)\n",
    "\n"
   ]
  },
  {
   "cell_type": "code",
   "execution_count": 57,
   "metadata": {},
   "outputs": [
    {
     "data": {
      "text/plain": [
       "[<matplotlib.lines.Line2D at 0x2def3ca69e8>]"
      ]
     },
     "execution_count": 57,
     "metadata": {},
     "output_type": "execute_result"
    },
    {
     "data": {
      "image/png": "[encoded data removed]",
      "text/plain": [
       "<Figure size 432x288 with 1 Axes>"
      ]
     },
     "metadata": {},
     "output_type": "display_data"
    }
   ],
   "source": [
    "plot(orbital_results.xpos,orbital_results.ypos)\n",
    "plot(shot_results.xpos,shot_results.ypos)"
   ]
  },
  {
   "cell_type": "code",
   "execution_count": 58,
   "metadata": {},
   "outputs": [
    {
     "name": "stdout",
     "output_type": "stream",
     "text": [
      "[    0.         49881.33640553] dimensionless\n",
      "5.972e+24\n"
     ]
    }
   ],
   "source": [
    "vel, mass = fire_cannon(Vector(0, 29000),5.972*10**24, 2.5*10**24,0)\n",
    "print(vel)\n",
    "print(mass)"
   ]
  },
  {
   "cell_type": "code",
   "execution_count": null,
   "metadata": {},
   "outputs": [],
   "source": []
  }
 ],
 "metadata": {
  "kernelspec": {
   "display_name": "Python 3",
   "language": "python",
   "name": "python3"
  },
  "language_info": {
   "codemirror_mode": {
    "name": "ipython",
    "version": 3
   },
   "file_extension": ".py",
   "mimetype": "text/x-python",
   "name": "python",
   "nbconvert_exporter": "python",
   "pygments_lexer": "ipython3",
   "version": "3.6.6"
  }
 },
 "nbformat": 4,
 "nbformat_minor": 2
}
