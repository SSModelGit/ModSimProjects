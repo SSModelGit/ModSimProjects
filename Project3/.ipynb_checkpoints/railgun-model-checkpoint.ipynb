{
 "cells": [
  {
   "cell_type": "code",
   "execution_count": 1,
   "metadata": {},
   "outputs": [],
   "source": [
    "# Configure Jupyter so figures appear in the notebook\n",
    "%matplotlib inline\n",
    "\n",
    "# Configure Jupyter to display the assigned value after an assignment\n",
    "%config InteractiveShell.ast_node_interactivity='last_expr_or_assign'\n",
    "# import functions from the modsim.py module\n",
    "from modsim import *\n",
    "import scipy.signal as sigw"
   ]
  },
  {
   "cell_type": "code",
   "execution_count": 2,
   "metadata": {},
   "outputs": [
    {
     "data": {
      "text/html": [
       "newton/ampere<sup>2</sup>"
      ],
      "text/latex": [
       "$\\frac{newton}{ampere^{2}}$"
      ],
      "text/plain": [
       "<Unit('newton / ampere ** 2')>"
      ]
     },
     "execution_count": 2,
     "metadata": {},
     "output_type": "execute_result"
    }
   ],
   "source": [
    "m = UNITS.meter\n",
    "s = UNITS.second\n",
    "kg = UNITS.kilogram\n",
    "A = UNITS.ampere\n",
    "V = UNITS.volts\n",
    "Ohm = UNITS.ohm\n",
    "N = UNITS.newton\n",
    "U_mu = N / A**2"
   ]
  },
  {
   "cell_type": "code",
   "execution_count": 3,
   "metadata": {},
   "outputs": [
    {
     "data": {
      "text/html": [
       "<div>\n",
       "<style scoped>\n",
       "    .dataframe tbody tr th:only-of-type {\n",
       "        vertical-align: middle;\n",
       "    }\n",
       "\n",
       "    .dataframe tbody tr th {\n",
       "        vertical-align: top;\n",
       "    }\n",
       "\n",
       "    .dataframe thead th {\n",
       "        text-align: right;\n",
       "    }\n",
       "</style>\n",
       "<table border=\"1\" class=\"dataframe\">\n",
       "  <thead>\n",
       "    <tr style=\"text-align: right;\">\n",
       "      <th></th>\n",
       "      <th>values</th>\n",
       "    </tr>\n",
       "  </thead>\n",
       "  <tbody>\n",
       "    <tr>\n",
       "      <th>x</th>\n",
       "      <td>0 meter</td>\n",
       "    </tr>\n",
       "    <tr>\n",
       "      <th>d</th>\n",
       "      <td>1 meter</td>\n",
       "    </tr>\n",
       "    <tr>\n",
       "      <th>r</th>\n",
       "      <td>0.1 meter</td>\n",
       "    </tr>\n",
       "    <tr>\n",
       "      <th>L</th>\n",
       "      <td>100 meter</td>\n",
       "    </tr>\n",
       "    <tr>\n",
       "      <th>mass</th>\n",
       "      <td>1 kilogram</td>\n",
       "    </tr>\n",
       "    <tr>\n",
       "      <th>Vs</th>\n",
       "      <td>1000 volt</td>\n",
       "    </tr>\n",
       "    <tr>\n",
       "      <th>R</th>\n",
       "      <td>0.01 ohm</td>\n",
       "    </tr>\n",
       "    <tr>\n",
       "      <th>mu_0</th>\n",
       "      <td>1.257e-06 newton / ampere ** 2</td>\n",
       "    </tr>\n",
       "    <tr>\n",
       "      <th>t_end</th>\n",
       "      <td>100 second</td>\n",
       "    </tr>\n",
       "  </tbody>\n",
       "</table>\n",
       "</div>"
      ],
      "text/plain": [
       "x                               0 meter\n",
       "d                               1 meter\n",
       "r                             0.1 meter\n",
       "L                             100 meter\n",
       "mass                         1 kilogram\n",
       "Vs                            1000 volt\n",
       "R                              0.01 ohm\n",
       "mu_0     1.257e-06 newton / ampere ** 2\n",
       "t_end                        100 second\n",
       "dtype: object"
      ]
     },
     "execution_count": 3,
     "metadata": {},
     "output_type": "execute_result"
    }
   ],
   "source": [
    "params = Params(x = 0 * m, \n",
    "                d = 1 * m,\n",
    "                r = 0.1 * m,\n",
    "                L = 100 * m,\n",
    "                mass = 1 * kg,\n",
    "                Vs = 1000 * V,\n",
    "                R = 0.01 * Ohm,\n",
    "                mu_0 = 1.257e-6 * U_mu,\n",
    "                t_end = 100 * s)"
   ]
  },
  {
   "cell_type": "code",
   "execution_count": 4,
   "metadata": {},
   "outputs": [],
   "source": [
    "def make_system(params):\n",
    "    \"\"\"\n",
    "    Make a system object.\n",
    "    \n",
    "    Parameters:\n",
    "        params: Params object containing following:\n",
    "            x: Initial position of armature (in meters)\n",
    "            d: Separation distance between two rails (in meters)\n",
    "            r: Radii of the rails (in meters)\n",
    "            L: Length armature has to travel along rails before launch (in meters)\n",
    "            mass: Mass of armature (in kilograms)\n",
    "            Vs: (Initial) Voltage supply magnitude (in volts)\n",
    "            R: Resistance of railgun circuit (in ohms)\n",
    "            mu_0: Vacuum permeability constant (in N/A^2)\n",
    "            t_end: Simulation end time (in seconds)\n",
    "               \n",
    "    returns: System object containing\n",
    "        params values\n",
    "        c_mag: Calculated magnetic force coefficient (in N/A^2)\n",
    "        init: Initial state object containing:\n",
    "            x: Position of armature (initialized to params.x) (in meters)\n",
    "            v: Velocity of armature (initialized to 0) (in meters)\n",
    "    \"\"\"\n",
    "    \n",
    "    # make the initial state\n",
    "    init = State(x=params.x, v=0)\n",
    "    \n",
    "    # Determine magnetic force coefficient\n",
    "    c_mag = params.mu_0 * log((params.d - params.r) / params.r) / (2 * pi)\n",
    "    \n",
    "    return System(params, c_mag = c_mag, init=init)"
   ]
  },
  {
   "cell_type": "code",
   "execution_count": 5,
   "metadata": {},
   "outputs": [],
   "source": [
    "def mag_force(I, system):\n",
    "    \"\"\"\n",
    "    Determines magnetic force on armature due to magnetic loop of railgun. Assumes 1D system.\n",
    "    \n",
    "    Parameters:\n",
    "        I: Current through the circuit at time of function call. (in amperes)\n",
    "        system: System object containing following system parameters (relevant listed):\n",
    "            c_mag: Calculated magnetic force coefficient (in N/A^2)\n",
    "               \n",
    "    returns: Magnitude of magnetic force\n",
    "    \"\"\"\n",
    "    return system.c_mag * I**2"
   ]
  },
  {
   "cell_type": "code",
   "execution_count": 6,
   "metadata": {},
   "outputs": [],
   "source": [
    "def slope_func(state, t, system):\n",
    "    \"\"\"\n",
    "    Computes derivatives of the state variables. \n",
    "    Invokes function mag_force to determine magnetic force applied on armature.\n",
    "    \n",
    "    Parameters:\n",
    "        state: Current State object at time of function call.\n",
    "            x: Position of armature (initialized to params.x) (in meters)\n",
    "            v: Velocity of armature (initialized to 0) (in meters)\n",
    "        system: System object containing following system parameters (relevant listed):\n",
    "            Vs: Magnitude of voltage supply to circuit (in volts)\n",
    "            R: Resistance of the circuit (in ohms)\n",
    "               \n",
    "    returns: Magnitude of magnetic force (in newtons)\n",
    "    \"\"\"\n",
    "    x, v = state\n",
    "\n",
    "    I = system.Vs / system.R\n",
    "    \n",
    "    F_mag = mag_force(I, system)\n",
    "    a = F_mag / system.mass\n",
    "    \n",
    "    return v, a"
   ]
  },
  {
   "cell_type": "code",
   "execution_count": 7,
   "metadata": {},
   "outputs": [],
   "source": [
    "def event_func(state, t, system):\n",
    "    \"\"\"\n",
    "    Stop when the position is equal to the length of rail that can be traveled.\n",
    "        (stop when the distance left to travel is equal to 0)\n",
    "    \n",
    "    Parameters:\n",
    "        state: Current State object at time of function call.\n",
    "            x: Position of armature (initialized to params.x) (in meters)\n",
    "            v: Velocity of armature (initialized to 0) (in meters)\n",
    "        system: System object containing following system parameters (relevant listed):\n",
    "            L: Length armature has to travel along rails before launch (in meters)\n",
    "               \n",
    "    returns: Distance the armature has left to travel.\n",
    "    \"\"\"\n",
    "    x, v = state\n",
    "    return x - system.L"
   ]
  },
  {
   "cell_type": "code",
   "execution_count": 8,
   "metadata": {},
   "outputs": [],
   "source": [
    "def sim_railgun(mass, params):  \n",
    "    \"\"\"\n",
    "    Simulate the railgun model.\n",
    "    \n",
    "    Parameters:\n",
    "        mass: Mass of armature (in kilograms)\n",
    "        params: Params object containing following:\n",
    "            x: Initial position of armature (in meters)\n",
    "            d: Separation distance between two rails (in meters)\n",
    "            r: Radii of the rails (in meters)\n",
    "            L: Length armature has to travel along rails before launch (in meters)\n",
    "            mass: Mass of armature (in kilograms)\n",
    "            Vs: (Initial) Voltage supply magnitude (in volts)\n",
    "            R: Resistance of railgun circuit (in ohms)\n",
    "            mu_0: Vacuum permeability constant (in N/A^2)\n",
    "            t_end: Simulation end time (in seconds)\n",
    "               \n",
    "    returns:\n",
    "        x: Final position of the armature.\n",
    "        v: Final velocity of the armature.\n",
    "    \"\"\"\n",
    "    params = Params(params, mass=mass)\n",
    "    system = make_system(params)\n",
    "    results, details = run_ode_solver(system, slope_func, events=event_func)\n",
    "    return results.x, results.v"
   ]
  },
  {
   "cell_type": "code",
   "execution_count": 9,
   "metadata": {},
   "outputs": [],
   "source": [
    "x, v = sim_railgun(1, params)"
   ]
  },
  {
   "cell_type": "code",
   "execution_count": 10,
   "metadata": {},
   "outputs": [
    {
     "data": {
      "text/html": [
       "<div>\n",
       "<style scoped>\n",
       "    .dataframe tbody tr th:only-of-type {\n",
       "        vertical-align: middle;\n",
       "    }\n",
       "\n",
       "    .dataframe tbody tr th {\n",
       "        vertical-align: top;\n",
       "    }\n",
       "\n",
       "    .dataframe thead th {\n",
       "        text-align: right;\n",
       "    }\n",
       "</style>\n",
       "<table border=\"1\" class=\"dataframe\">\n",
       "  <thead>\n",
       "    <tr style=\"text-align: right;\">\n",
       "      <th></th>\n",
       "      <th>values</th>\n",
       "    </tr>\n",
       "  </thead>\n",
       "  <tbody>\n",
       "    <tr>\n",
       "      <th>0.000000</th>\n",
       "      <td>0.000000</td>\n",
       "    </tr>\n",
       "    <tr>\n",
       "      <th>0.000100</th>\n",
       "      <td>0.021979</td>\n",
       "    </tr>\n",
       "    <tr>\n",
       "      <th>0.001100</th>\n",
       "      <td>2.659410</td>\n",
       "    </tr>\n",
       "    <tr>\n",
       "      <th>0.006745</th>\n",
       "      <td>100.000000</td>\n",
       "    </tr>\n",
       "  </tbody>\n",
       "</table>\n",
       "</div>"
      ],
      "text/plain": [
       "0.000000      0.000000\n",
       "0.000100      0.021979\n",
       "0.001100      2.659410\n",
       "0.006745    100.000000\n",
       "Name: x, dtype: float64"
      ]
     },
     "execution_count": 10,
     "metadata": {},
     "output_type": "execute_result"
    }
   ],
   "source": [
    "x"
   ]
  },
  {
   "cell_type": "code",
   "execution_count": 11,
   "metadata": {},
   "outputs": [
    {
     "data": {
      "text/html": [
       "<div>\n",
       "<style scoped>\n",
       "    .dataframe tbody tr th:only-of-type {\n",
       "        vertical-align: middle;\n",
       "    }\n",
       "\n",
       "    .dataframe tbody tr th {\n",
       "        vertical-align: top;\n",
       "    }\n",
       "\n",
       "    .dataframe thead th {\n",
       "        text-align: right;\n",
       "    }\n",
       "</style>\n",
       "<table border=\"1\" class=\"dataframe\">\n",
       "  <thead>\n",
       "    <tr style=\"text-align: right;\">\n",
       "      <th></th>\n",
       "      <th>values</th>\n",
       "    </tr>\n",
       "  </thead>\n",
       "  <tbody>\n",
       "    <tr>\n",
       "      <th>0.000000</th>\n",
       "      <td>0.000000</td>\n",
       "    </tr>\n",
       "    <tr>\n",
       "      <th>0.000100</th>\n",
       "      <td>439.571835</td>\n",
       "    </tr>\n",
       "    <tr>\n",
       "      <th>0.001100</th>\n",
       "      <td>4835.290183</td>\n",
       "    </tr>\n",
       "    <tr>\n",
       "      <th>0.006745</th>\n",
       "      <td>29650.356989</td>\n",
       "    </tr>\n",
       "  </tbody>\n",
       "</table>\n",
       "</div>"
      ],
      "text/plain": [
       "0.000000        0.000000\n",
       "0.000100      439.571835\n",
       "0.001100     4835.290183\n",
       "0.006745    29650.356989\n",
       "Name: v, dtype: float64"
      ]
     },
     "execution_count": 11,
     "metadata": {},
     "output_type": "execute_result"
    }
   ],
   "source": [
    "v"
   ]
  }
 ],
 "metadata": {
  "kernelspec": {
   "display_name": "Python 3",
   "language": "python",
   "name": "python3"
  },
  "language_info": {
   "codemirror_mode": {
    "name": "ipython",
    "version": 3
   },
   "file_extension": ".py",
   "mimetype": "text/x-python",
   "name": "python",
   "nbconvert_exporter": "python",
   "pygments_lexer": "ipython3",
   "version": "3.6.5"
  }
 },
 "nbformat": 4,
 "nbformat_minor": 2
}
