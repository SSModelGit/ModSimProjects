{
 "cells": [
  {
   "cell_type": "markdown",
   "metadata": {},
   "source": [
    "# Earth Launcher"
   ]
  },
  {
   "cell_type": "code",
   "execution_count": 1,
   "metadata": {},
   "outputs": [],
   "source": [
    "# Configure Jupyter so figures appear in the notebook\n",
    "%matplotlib inline\n",
    "\n",
    "# Configure Jupyter to display the assigned value after an assignment\n",
    "%config InteractiveShell.ast_node_interactivity='last_expr_or_assign'\n",
    "# import functions from the modsim.py module\n",
    "from modsim import *\n",
    "import numpy as np"
   ]
  },
  {
   "cell_type": "code",
   "execution_count": 2,
   "metadata": {},
   "outputs": [],
   "source": [
    "m = UNITS.meter\n",
    "s = UNITS.second\n",
    "kg = UNITS.kilogram\n",
    "A = UNITS.ampere\n",
    "V = UNITS.volts\n",
    "Ohm = UNITS.ohm\n",
    "N = UNITS.newton\n",
    "U_mu = N / A**2\n",
    "None"
   ]
  },
  {
   "cell_type": "code",
   "execution_count": 3,
   "metadata": {},
   "outputs": [
    {
     "data": {
      "text/html": [
       "<div>\n",
       "<style scoped>\n",
       "    .dataframe tbody tr th:only-of-type {\n",
       "        vertical-align: middle;\n",
       "    }\n",
       "\n",
       "    .dataframe tbody tr th {\n",
       "        vertical-align: top;\n",
       "    }\n",
       "\n",
       "    .dataframe thead th {\n",
       "        text-align: right;\n",
       "    }\n",
       "</style>\n",
       "<table border=\"1\" class=\"dataframe\">\n",
       "  <thead>\n",
       "    <tr style=\"text-align: right;\">\n",
       "      <th></th>\n",
       "      <th>values</th>\n",
       "    </tr>\n",
       "  </thead>\n",
       "  <tbody>\n",
       "    <tr>\n",
       "      <th>x</th>\n",
       "      <td>0 meter</td>\n",
       "    </tr>\n",
       "    <tr>\n",
       "      <th>d</th>\n",
       "      <td>1 meter</td>\n",
       "    </tr>\n",
       "    <tr>\n",
       "      <th>r</th>\n",
       "      <td>0.1 meter</td>\n",
       "    </tr>\n",
       "    <tr>\n",
       "      <th>L</th>\n",
       "      <td>100 meter</td>\n",
       "    </tr>\n",
       "    <tr>\n",
       "      <th>mass</th>\n",
       "      <td>1 kilogram</td>\n",
       "    </tr>\n",
       "    <tr>\n",
       "      <th>Vs</th>\n",
       "      <td>1000 volt</td>\n",
       "    </tr>\n",
       "    <tr>\n",
       "      <th>R</th>\n",
       "      <td>0.01 ohm</td>\n",
       "    </tr>\n",
       "    <tr>\n",
       "      <th>mu_0</th>\n",
       "      <td>1.257e-06 newton / ampere ** 2</td>\n",
       "    </tr>\n",
       "    <tr>\n",
       "      <th>t_end</th>\n",
       "      <td>100 second</td>\n",
       "    </tr>\n",
       "  </tbody>\n",
       "</table>\n",
       "</div>"
      ],
      "text/plain": [
       "x                               0 meter\n",
       "d                               1 meter\n",
       "r                             0.1 meter\n",
       "L                             100 meter\n",
       "mass                         1 kilogram\n",
       "Vs                            1000 volt\n",
       "R                              0.01 ohm\n",
       "mu_0     1.257e-06 newton / ampere ** 2\n",
       "t_end                        100 second\n",
       "dtype: object"
      ]
     },
     "execution_count": 3,
     "metadata": {},
     "output_type": "execute_result"
    }
   ],
   "source": [
    "params_railgun = Params(x = 0 * m, \n",
    "                        d = 1 * m,\n",
    "                        r = 0.1 * m,\n",
    "                        L = 100 * m,\n",
    "                        mass = 1 * kg,\n",
    "                        Vs = 1000 * V,\n",
    "                        R = 0.01 * Ohm,\n",
    "                        mu_0 = 1.257e-6 * U_mu,\n",
    "                        t_end = 100 * s)"
   ]
  },
  {
   "cell_type": "code",
   "execution_count": 4,
   "metadata": {},
   "outputs": [],
   "source": [
    "def make_railgun_system(params):\n",
    "    \"\"\"\n",
    "    Make a system object.\n",
    "    \n",
    "    Parameters:\n",
    "        params: Params object containing following:\n",
    "            x: Initial position of armature (in meters)\n",
    "            d: Separation distance between two rails (in meters)\n",
    "            r: Radii of the rails (in meters)\n",
    "            L: Length armature has to travel along rails before launch (in meters)\n",
    "            mass: Mass of armature (in kilograms)\n",
    "            Vs: (Initial) Voltage supply magnitude (in volts)\n",
    "            R: Resistance of railgun circuit (in ohms)\n",
    "            mu_0: Vacuum permeability constant (in N/A^2)\n",
    "            t_end: Simulation end time (in seconds)\n",
    "               \n",
    "    returns: System object containing\n",
    "        params values\n",
    "        c_mag: Calculated magnetic force coefficient (in N/A^2)\n",
    "        init: Initial state object containing:\n",
    "            x: Position of armature (initialized to params.x) (in meters)\n",
    "            v: Velocity of armature (initialized to 0) (in meters)\n",
    "    \"\"\"\n",
    "    \n",
    "    # make the initial state\n",
    "    init = State(x=params.x, v=0)\n",
    "    \n",
    "    # Determine magnetic force coefficient\n",
    "    c_mag = params.mu_0 * log((params.d - params.r) / params.r) / (2 * pi)\n",
    "    \n",
    "    return System(params, c_mag = c_mag, init=init)"
   ]
  },
  {
   "cell_type": "code",
   "execution_count": 5,
   "metadata": {},
   "outputs": [],
   "source": [
    "def mag_force(I, system):\n",
    "    \"\"\"\n",
    "    Determines magnetic force on armature due to magnetic loop of railgun. Assumes 1D system.\n",
    "    \n",
    "    Parameters:\n",
    "        I: Current through the circuit at time of function call. (in amperes)\n",
    "        system: System object containing following system parameters (relevant listed):\n",
    "            c_mag: Calculated magnetic force coefficient (in N/A^2)\n",
    "               \n",
    "    returns: Magnitude of magnetic force\n",
    "    \"\"\"\n",
    "    return system.c_mag * I**2"
   ]
  },
  {
   "cell_type": "code",
   "execution_count": 6,
   "metadata": {},
   "outputs": [],
   "source": [
    "def railgun_slope_func(state, t, system):\n",
    "    \"\"\"\n",
    "    Computes derivatives of the state variables. \n",
    "    Invokes function mag_force to determine magnetic force applied on armature.\n",
    "    \n",
    "    Parameters:\n",
    "        state: Current State object at time of function call.\n",
    "            x: Position of armature (initialized to params.x) (in meters)\n",
    "            v: Velocity of armature (initialized to 0) (in meters)\n",
    "        system: System object containing following system parameters (relevant listed):\n",
    "            Vs: Magnitude of voltage supply to circuit (in volts)\n",
    "            R: Resistance of the circuit (in ohms)\n",
    "               \n",
    "    returns: Magnitude of magnetic force (in newtons)\n",
    "    \"\"\"\n",
    "    x, v = state\n",
    "\n",
    "    I = system.Vs / system.R\n",
    "    \n",
    "    F_mag = mag_force(I, system)\n",
    "    a = F_mag / system.mass\n",
    "    \n",
    "    return v, a"
   ]
  },
  {
   "cell_type": "code",
   "execution_count": 7,
   "metadata": {},
   "outputs": [],
   "source": [
    "def event_func_railgun(state, t, system):\n",
    "    \"\"\"\n",
    "    Stop when the position is equal to the length of rail that can be traveled.\n",
    "        (stop when the distance left to travel is equal to 0)\n",
    "    \n",
    "    Parameters:\n",
    "        state: Current State object at time of function call.\n",
    "            x: Position of armature (initialized to params.x) (in meters)\n",
    "            v: Velocity of armature (initialized to 0) (in meters)\n",
    "        system: System object containing following system parameters (relevant listed):\n",
    "            L: Length armature has to travel along rails before launch (in meters)\n",
    "               \n",
    "    returns: Distance the armature has left to travel.\n",
    "    \"\"\"\n",
    "    x, v = state\n",
    "    return x - system.L"
   ]
  },
  {
   "cell_type": "code",
   "execution_count": 8,
   "metadata": {},
   "outputs": [],
   "source": [
    "def sim_railgun(mass, v_supply, params):  \n",
    "    \"\"\"\n",
    "    Simulate the railgun model.\n",
    "    \n",
    "    Parameters:\n",
    "        mass: Mass of armature (in kilograms)\n",
    "        params: Params object containing following:\n",
    "            x: Initial position of armature (in meters)\n",
    "            d: Separation distance between two rails (in meters)\n",
    "            r: Radii of the rails (in meters)\n",
    "            L: Length armature has to travel along rails before launch (in meters)\n",
    "            mass: Mass of armature (in kilograms)\n",
    "            Vs: (Initial) Voltage supply magnitude (in volts)\n",
    "            R: Resistance of railgun circuit (in ohms)\n",
    "            mu_0: Vacuum permeability constant (in N/A^2)\n",
    "            t_end: Simulation end time (in seconds)\n",
    "               \n",
    "    returns:\n",
    "        x: Final position of the armature.\n",
    "        v: Final velocity of the armature.\n",
    "    \"\"\"\n",
    "    params = Params(params, mass=mass, Vs = v_supply)\n",
    "    system = make_railgun_system(params)\n",
    "    results, details = run_ode_solver(system, railgun_slope_func, events=event_func_railgun)\n",
    "    return results.x, results.v"
   ]
  },
  {
   "cell_type": "code",
   "execution_count": 9,
   "metadata": {},
   "outputs": [],
   "source": [
    "#model constituant functions\n",
    "def run_simulation_after_cannon (Mass_shot, Shot_velocity, number_years_after_shot, orbital_results):\n",
    "    \"\"\"This code runs a simulation of the earth firing a projectile of a given mass and velocity.\n",
    "    This code is intended to be run after another simulation of normal orbital motion which will inform the starting position of the earth before the projectile is fired.\n",
    "    Masses are in kg\n",
    "    Velocities are in m/s\n",
    "    number of years after shot is a number whic dictates how long to run the simulation of the earth's orbital motion after the projectile is fired.\n",
    "    This function returns a time frame containing the x and y poition and velocity of the earth throughout the simulation\"\"\"\n",
    "    #gets a vector of the velocity of earth based on the results of the original simulation\n",
    "    orbital_velocity = Vector(get_last_value(orbital_results.xvel),get_last_value(orbital_results.yvel))\n",
    "    \n",
    "    #fires the railgun\n",
    "    post_cannon_velocity, post_cannon_mass = fire_cannon(orbital_velocity,5.972*10**24, Mass_shot, Shot_velocity)\n",
    "    \n",
    "    #runs a simulation of the earth and the sun with the earth's updated velocity allowing the ODE solver to take any step size\n",
    "    escape_results = run_planet_simulation(get_last_value(orbital_results.xpos),get_last_value(orbital_results.ypos),post_cannon_velocity.x,post_cannon_velocity.y,post_cannon_mass,number_years_after_shot)\n",
    "    \n",
    "    #escape_results = run_planet_simulation(get_last_value(orbital_results.xpos),get_last_value(orbital_results.ypos),get_last_value(orbital_results.xvel),get_last_value(orbital_results.yvel),5.972*10**24,number_years_after_shot)\n",
    "    \n",
    "    #returns the results\n",
    "    return escape_results"
   ]
  },
  {
   "cell_type": "code",
   "execution_count": 10,
   "metadata": {},
   "outputs": [],
   "source": [
    "def fire_cannon(planet_velocity_vector, Mass_earth, Mass_shot, Shot_speed):\n",
    "    \"\"\"Runs a function which updates the velocity and mass of a planet assuming that it is accelerated via mass ejection.\n",
    "    Calculations are based on conservation of momentum.\n",
    "    Masses are in kilograms\n",
    "    Speeds are in m/s\n",
    "    The velocity vector describes the last known velocity of the planet.\n",
    "    MODELING ASSUMPTION CONSTRAINT:  This model assumes that the earth exerts no gravitational pull on the projectile.\n",
    "    This means that projectiles fired at less than their escape velocity will not be accurate to the real world where they would return to the earth and recombine with it.\"\"\"\n",
    "    if Shot_speed != 0:\n",
    "        #calculates the magnitude of the new velocity of the planet\n",
    "        velocity_vector_magnitude = (Mass_earth*planet_velocity_vector.mag + Mass_shot*Shot_speed)/(Mass_earth-Mass_shot) \n",
    "        #multiplies the magnitude by a unit vector in the direction of the last known velocity to create a velocity vector in the proper direction\n",
    "        planet_velocity_vector = (planet_velocity_vector/planet_velocity_vector.mag)*velocity_vector_magnitude\n",
    " \n",
    "        #updates the mass of the earth to account for the fact that the shot removed mass from the earth\n",
    "        Mass_earth = Mass_earth - Mass_shot\n",
    "    \n",
    "    #retuns the new velocity as a vector and the new mass of the earth\n",
    "    return planet_velocity_vector, Mass_earth"
   ]
  },
  {
   "cell_type": "code",
   "execution_count": 11,
   "metadata": {},
   "outputs": [],
   "source": [
    "def run_planet_simulation (earth_position_x,earth_position_y, earth_velocity_x, earth_velocity_y,earth_mass,num_years):\n",
    "    \"\"\"This function runs a simulation of a two body planetary system. \n",
    "    This simulation assumes that the sun in the planetary system has the mass of earth's sun and is at a fixed location in space (0,0) for conveianance\n",
    "    the planet's position velocity and mass are supplied to better inform the simulation.\n",
    "    The number of years dictates how many years the simulation should be run for.\n",
    "    Max_step_size is the maximum step size in seconds\n",
    "    The function returns the trajectory of the supplied planet.\"\"\"\n",
    "    # creates the state for the simulation\n",
    "    #distance in meteres velocity in m/s\n",
    "    st8 = State(xpos = earth_position_x, \n",
    "                ypos = earth_position_y, \n",
    "                xvel = earth_velocity_x, \n",
    "                yvel = earth_velocity_y)\n",
    "    #Creates a system which holds the parameters of the simulation\n",
    "    #G = m^3/(kg*s^2) masses are in kg masses are in kg radi are in meteres velocities are in m/s\n",
    "    sys = System(init = st8,\n",
    "                 G = 6.67408*10**(-11), \n",
    "                 M_earth = earth_mass, \n",
    "                 M_sun =1.989*10**30, \n",
    "                 R_earth = 6.3781*10**6, \n",
    "                 R_sun= 6.95700*10**8, \n",
    "                 t_end = 365.25*24*60*60*num_years,\n",
    "                 Earth_Radius = 6378*10**3,\n",
    "                 sun_pos = Vector(0,0))\n",
    "    \n",
    "    #runs an ODE solver to run the simulation and restricts the ODE solver to taking steps with a maximum size of one day\n",
    "    results,details = run_ode_solver(sys,planet_slope_func, max_step=60*60*24)\n",
    "    \n",
    "    #returns the results of the solver\n",
    "    return results"
   ]
  },
  {
   "cell_type": "code",
   "execution_count": 12,
   "metadata": {},
   "outputs": [],
   "source": [
    "def planet_slope_func(st8,t,sys):\n",
    "    \"\"\"Describes the change in position and velocity in both the x and y plane between every time step.\n",
    "    The function takes in a state which describes the old position of the system\n",
    "    t is the time of the syatem, it is not actually used in calculations however it is a required argument for use with an ODE Solver\n",
    "    sys is a system object which contains system constants\"\"\"\n",
    "    \n",
    "    #extracts the values from the state because the ODE solver does not store variables in a state object\n",
    "    xpos,ypos,xvel,yvel= st8\n",
    "    #creates a vector which describes the position of the planet\n",
    "    planet_pos = Vector(xpos,ypos)\n",
    "    \n",
    "    #describes a system of differential equations which explain the changes in the system\n",
    "    #update the velocity in each direction\n",
    "    dxveldt = get_grav_acceleration(sys.G, sys.M_sun, sys.M_earth, planet_pos,sys.sun_pos).x\n",
    "    dyveldt = get_grav_acceleration(sys.G, sys.M_sun, sys.M_earth, planet_pos,sys.sun_pos).y\n",
    "    \n",
    "    #update the position in each direction\n",
    "    dxposdt = xvel\n",
    "    dyposdt = yvel\n",
    "    \n",
    "    #returns the change in the state variables\n",
    "    return dxposdt,dyposdt,dxveldt,dyveldt"
   ]
  },
  {
   "cell_type": "code",
   "execution_count": 13,
   "metadata": {},
   "outputs": [],
   "source": [
    "def get_grav_acceleration(G,M,m,planet_vector,sun_vector):\n",
    "    \"\"\"Calculates acceleration due to gravity with F = ma\n",
    "    F in N\n",
    "    m in kg\n",
    "    a in m/s^2\"\"\"\n",
    "    #gets the force and divides by the orbiting body to get the acceleration of the orbing body\n",
    "    return get_gravitational_force(G,M,m,planet_vector,sun_vector)/m"
   ]
  },
  {
   "cell_type": "code",
   "execution_count": 14,
   "metadata": {},
   "outputs": [],
   "source": [
    "def get_gravitational_force(G,M,m,planet_vector, sun_vector):\n",
    "    \"\"\"Applies law of universal gravitation and returns the force of gravity as a vector towards the center of the circle in N\"\"\"\n",
    "    #calculates the vector pointing from the planet to the sun\n",
    "    planet_to_sun_vector = sun_vector-planet_vector\n",
    "    #takes the direction of the previous vector\n",
    "    Direction_vector = planet_to_sun_vector/planet_to_sun_vector.mag\n",
    "    #calculates the acceleration of the planet\n",
    "    acceleration_mag = (G*M*m)/(planet_vector.mag**2)\n",
    "    #returns a vector which has the magnitude of the acceleration and a direction towards the star\n",
    "    return Direction_vector * acceleration_mag"
   ]
  },
  {
   "cell_type": "code",
   "execution_count": 18,
   "metadata": {},
   "outputs": [],
   "source": [
    "def launch_simulation(mass_armature, railgun_voltage, railgun_params, \n",
    "                      sim_t_end, orbital_results):\n",
    "    # Simulate railgun launch\n",
    "    rail_x, rail_v = sim_railgun(mass_armature, railgun_voltage, railgun_params)\n",
    "    \n",
    "    final_armature_speed = get_last_value(rail_v)\n",
    "    # Simulate after-effects of railgun launch\n",
    "    shot_results = run_simulation_after_cannon(mass_armature, final_armature_speed, \n",
    "                                               sim_t_end, orbital_results)\n",
    "    \n",
    "    return shot_results"
   ]
  },
  {
   "cell_type": "markdown",
   "metadata": {},
   "source": [
    "# Results"
   ]
  },
  {
   "cell_type": "code",
   "execution_count": 27,
   "metadata": {},
   "outputs": [
    {
     "data": {
      "image/png": "[encoded data removed]",
      "text/plain": [
       "<Figure size 432x288 with 1 Axes>"
      ]
     },
     "metadata": {},
     "output_type": "display_data"
    }
   ],
   "source": [
    "orbital_results = run_planet_simulation(149597900000,0, 0, 29785,5.972*10**24,1) \n",
    "plt.figure(1)\n",
    "plot(orbital_results.xpos, orbital_results.ypos)\n",
    "# Inputs as parameters\n",
    "\n",
    "possible_masses = np.logspace(10, 24,5)\n",
    "for mass in possible_masses:\n",
    "    v_s = 1e15 * V\n",
    "    shot_results = launch_simulation(mass, v_s, params_railgun, 1, orbital_results)\n",
    "    plot(shot_results.xpos,shot_results.ypos, label = str(mass)+ \" kg\")\n",
    "plt.xlabel('Distance from the Sun along orthoganal axes(m)')\n",
    "plt.ylabel('Distance from the Sun along orthoganal axes (m)')\n",
    "plt.title('Orbit of the Earth before vs. after firing the railgun')\n",
    "None"
   ]
  },
  {
   "cell_type": "code",
   "execution_count": 28,
   "metadata": {},
   "outputs": [
    {
     "data": {
      "text/plain": [
       "1.000000e+10    0.000000e+00\n",
       "3.162278e+13    0.000000e+00\n",
       "1.000000e+17    0.000000e+00\n",
       "3.162278e+20    0.000000e+00\n",
       "1.000000e+24    2.880313e+16\n",
       "dtype: float64"
      ]
     },
     "execution_count": 28,
     "metadata": {},
     "output_type": "execute_result"
    }
   ],
   "source": [
    "fin_v = pd.Series(index = possible_masses)\n",
    "for mass in possible_masses:\n",
    "    v_s = 1e27 * V\n",
    "    x, v = sim_railgun(mass, v_s, params_railgun)\n",
    "    fin_v[mass] = get_last_value(v)\n",
    "fin_v"
   ]
  },
  {
   "cell_type": "code",
   "execution_count": 26,
   "metadata": {},
   "outputs": [
    {
     "data": {
      "text/plain": [
       "1e+27"
      ]
     },
     "execution_count": 26,
     "metadata": {},
     "output_type": "execute_result"
    }
   ],
   "source": [
    "1e27"
   ]
  },
  {
   "cell_type": "code",
   "execution_count": null,
   "metadata": {},
   "outputs": [],
   "source": []
  },
  {
   "cell_type": "code",
   "execution_count": null,
   "metadata": {},
   "outputs": [],
   "source": []
  }
 ],
 "metadata": {
  "kernelspec": {
   "display_name": "Python 3",
   "language": "python",
   "name": "python3"
  },
  "language_info": {
   "codemirror_mode": {
    "name": "ipython",
    "version": 3
   },
   "file_extension": ".py",
   "mimetype": "text/x-python",
   "name": "python",
   "nbconvert_exporter": "python",
   "pygments_lexer": "ipython3",
   "version": "3.6.5"
  }
 },
 "nbformat": 4,
 "nbformat_minor": 2
}
